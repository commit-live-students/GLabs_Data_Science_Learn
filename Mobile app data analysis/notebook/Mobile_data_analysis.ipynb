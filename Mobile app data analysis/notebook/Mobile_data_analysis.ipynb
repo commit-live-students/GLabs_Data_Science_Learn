{
 "cells": [
  {
   "cell_type": "markdown",
   "metadata": {},
   "source": [
    "# Mobile App Statistics (Apple iOS app store)\n",
    "\n",
    "The ever-changing mobile landscape is a challenging space to navigate. . The percentage of mobile over desktop is only increasing. Android holds about 53.2% of the smartphone market, while iOS is 43%. To get more people to download your app, you need to make sure they can easily find your app. Mobile app analytics is a great way to understand the existing strategy to drive growth and retention of future user.\n",
    "\n",
    "With million of apps around nowadays, the following data set has become very key to getting top trending apps in iOS app store. This data set contains more than 7000 Apple iOS mobile application details. "
   ]
  },
  {
   "cell_type": "markdown",
   "metadata": {},
   "source": [
    "#### Data description:\n",
    "\n",
    "   * \"id\" : App ID\n",
    "\n",
    "   * \"track_name\": App Name\n",
    "\n",
    "   * \"size_bytes\": Size (in Bytes)\n",
    "\n",
    "   * \"currency\": Currency Type\n",
    "\n",
    "   * \"price\": Price amount\n",
    "\n",
    "   * \"ratingcounttot\": User Rating counts (for all version)\n",
    "\n",
    "   * \"ratingcountver\": User Rating counts (for current version)\n",
    "\n",
    "   * \"user_rating\" : Average User Rating value (for all version)\n",
    "\n",
    "   * \"userratingver\": Average User Rating value (for current version)\n",
    "\n",
    "   * \"ver\" : Latest version code\n",
    "\n",
    "   * \"cont_rating\": Content Rating\n",
    "\n",
    "   * \"prime_genre\": Primary Genre\n",
    "\n",
    "   * \"sup_devices.num\": Number of supporting devices\n",
    "\n",
    "   * \"ipadSc_urls.num\": Number of screenshots showed for display\n",
    "\n",
    "   * \"lang.num\": Number of supported languages\n",
    "\n",
    "   * \"vpp_lic\": Vpp Device Based Licensing Enabled\n"
   ]
  },
  {
   "cell_type": "markdown",
   "metadata": {},
   "source": [
    "## Load the libraries and read the data"
   ]
  },
  {
   "cell_type": "code",
   "execution_count": 2,
   "metadata": {},
   "outputs": [],
   "source": [
    "import os\n",
    "import pandas as pd\n",
    "import matplotlib.pyplot as plt\n",
    "import seaborn as sns"
   ]
  },
  {
   "cell_type": "code",
   "execution_count": null,
   "metadata": {},
   "outputs": [],
   "source": []
  },
  {
   "cell_type": "markdown",
   "metadata": {},
   "source": [
    "## Drop the unnecessary columns"
   ]
  },
  {
   "cell_type": "code",
   "execution_count": null,
   "metadata": {},
   "outputs": [],
   "source": []
  },
  {
   "cell_type": "markdown",
   "metadata": {},
   "source": [
    "## Basic data study"
   ]
  },
  {
   "cell_type": "code",
   "execution_count": null,
   "metadata": {},
   "outputs": [],
   "source": []
  },
  {
   "cell_type": "markdown",
   "metadata": {},
   "source": [
    "## Create a new column 'payment_type' and categorize all the applications into 'free' or 'paid'"
   ]
  },
  {
   "cell_type": "code",
   "execution_count": null,
   "metadata": {},
   "outputs": [],
   "source": []
  },
  {
   "cell_type": "markdown",
   "metadata": {},
   "source": [
    "## Number of free apps should be extremly high when compared to paid apps. Lets do a reality check.\n"
   ]
  },
  {
   "cell_type": "code",
   "execution_count": null,
   "metadata": {},
   "outputs": [],
   "source": []
  },
  {
   "cell_type": "markdown",
   "metadata": {},
   "source": [
    "## In which price range do most of the paid apps below 50 dollars fall?"
   ]
  },
  {
   "cell_type": "code",
   "execution_count": null,
   "metadata": {},
   "outputs": [],
   "source": []
  },
  {
   "cell_type": "markdown",
   "metadata": {},
   "source": [
    "## Which category of 'prime_genre' most of the apps fall under?"
   ]
  },
  {
   "cell_type": "code",
   "execution_count": null,
   "metadata": {},
   "outputs": [],
   "source": []
  },
  {
   "cell_type": "markdown",
   "metadata": {},
   "source": [
    "## Find the top 5 \"prime_genre' in terms of count. Are the paid apps for these genres good enough?"
   ]
  },
  {
   "cell_type": "code",
   "execution_count": null,
   "metadata": {},
   "outputs": [],
   "source": []
  },
  {
   "cell_type": "markdown",
   "metadata": {},
   "source": [
    "### Create a new column \"size_mb\" converting bytes to megabytes. For the applications below 50 dollars, does the price of the app increases with the increase in its size?"
   ]
  },
  {
   "cell_type": "code",
   "execution_count": null,
   "metadata": {},
   "outputs": [],
   "source": []
  },
  {
   "cell_type": "markdown",
   "metadata": {},
   "source": [
    "## Can we create a recommendation column based on \"user_rating\" and \"rating_count_tot\"?"
   ]
  },
  {
   "cell_type": "code",
   "execution_count": null,
   "metadata": {},
   "outputs": [],
   "source": []
  },
  {
   "cell_type": "markdown",
   "metadata": {},
   "source": [
    "## Looking at the data, what other interesting analysis do you think you can do?"
   ]
  },
  {
   "cell_type": "code",
   "execution_count": null,
   "metadata": {},
   "outputs": [],
   "source": []
  }
 ],
 "metadata": {
  "kernelspec": {
   "display_name": "Python 3",
   "language": "python",
   "name": "python3"
  },
  "language_info": {
   "codemirror_mode": {
    "name": "ipython",
    "version": 3
   },
   "file_extension": ".py",
   "mimetype": "text/x-python",
   "name": "python",
   "nbconvert_exporter": "python",
   "pygments_lexer": "ipython3",
   "version": "3.6.5"
  }
 },
 "nbformat": 4,
 "nbformat_minor": 2
}
