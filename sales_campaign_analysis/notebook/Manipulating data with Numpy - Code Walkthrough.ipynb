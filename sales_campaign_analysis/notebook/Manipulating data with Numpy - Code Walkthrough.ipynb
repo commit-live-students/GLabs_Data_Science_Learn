{
 "cells": [
  {
   "cell_type": "markdown",
   "metadata": {},
   "source": [
    "###  Sales Campaign analysis\n",
    "\n",
    "__An introduction to the Facebook advertising platform__<br/>\n",
    "Along with Google's search and display networks, Facebook is one of the big players when it comes to online advertising. As Facebook users interact with the platform, adding demographic information, liking particular pages and commenting on specific posts, Facebook builds a profile of that user based on who they are and what they're interested in.<br/>\n",
    "This fact makes Facebook very attractive for advertisers. Advertisers can create Facebook adverts, then create an 'Audience' for that advert or group of adverts. Audiences can be built from a range of attributes including gender, age, location and interests. This specific targetting means advertisers can tailor content appropriately for a specific audience, even if the product being marketed is the same.<br/>\n",
    "\n",
    "__What do we need from our Facebook ads analysis?__<br/>\n",
    "When it comes to analysing the Facebook adverts dataset, there are a lot of questions we can ask, and a lot of insight we can generate. However, from a business perspective we want to ask questions that will give us answers we can use to improve business performance.<br/>\n",
    "Without knowing anything of the company's marketing strategy or campaign objectives, we do not know which key performance indicators (KPIs) are the most important. For example, a new company may be focussed on brand awareness and may want to maximise the amount of impressions, being less concerned about how well these adverts perform in terms of generating clicks and revenue. Another company may simply want to maximise the amount of revenue, while minimising the amount it spends on advertising.<br/>\n",
    "As these two objectives are very different, it is important to work with the client to understand exactly what they are hoping to achieve from their marketing campaigns before beginning any analysis in order to ensure that our conclusions are relevant and, in particular, actionable. There's not much point in producing a report full of insight, if there's nothing the client can do about it.\n",
    "\n",
    "\n",
    "\n",
    "__Understanding the dataset__<br/>\n",
    "The data used in this project is from an anonymous organisation’s social media ad campaign. The data contains 1143 observations in 11 variables. Below are the descriptions of the variables. Since you are working with numpy, refer the `Feature Index` column for the indices of every feature.\n",
    "\n",
    "|Feature Index|Features|Description|\n",
    "|----|----|----|\n",
    "|0|ad_id| unique ID for each ad|\n",
    "|1|xyz_campaign_id| an ID associated with each ad campaign of XYZ company|\n",
    "|2|fb_campaign_id| an ID associated with how Facebook tracks each campaign|\n",
    "|3|age| age of the person to whom the ad is shown|\n",
    "|4|gender| gender of the person to whom the add is shown|\n",
    "|5|interest| a code specifying the category to which the person’s interest belongs (interests are as mentioned in the person’s Facebook public profile)|\n",
    "|6|Impressions| the number of times the ad was shown|\n",
    "|7|Clicks| number of clicks on for that ad|\n",
    "|8|Spent| Amount paid by company xyz to Facebook, to show that ad|\n",
    "|9|Total conversion| Total number of people who enquired about the product after seeing the ad|\n",
    "|10|Approved conversion| Total number of people who bought the product after seeing the ad|"
   ]
  },
  {
   "attachments": {
    "NumPy_code_along.PNG": {
     "image/png": "[encoded data removed]"
    }
   },
   "cell_type": "markdown",
   "metadata": {},
   "source": [
    "Below is a snapshot of the data you will be working with![NumPy_code_along.PNG](attachment:NumPy_code_along.PNG)"
   ]
  },
  {
   "cell_type": "code",
   "execution_count": 1,
   "metadata": {},
   "outputs": [],
   "source": [
    "import numpy as np\n",
    "import pandas as pd\n",
    "import warnings\n",
    "warnings.filterwarnings('ignore')\n",
    "import sys"
   ]
  },
  {
   "cell_type": "code",
   "execution_count": 2,
   "metadata": {},
   "outputs": [],
   "source": [
    "# Command to display all the columns of a numpy array\n",
    "np.set_printoptions(threshold=sys.maxsize)"
   ]
  },
  {
   "cell_type": "markdown",
   "metadata": {},
   "source": [
    "### Let's load the data"
   ]
  },
  {
   "cell_type": "code",
   "execution_count": 4,
   "metadata": {},
   "outputs": [],
   "source": [
    "import csv\n",
    "# Load the data\n",
    "\n",
    "\n",
    "# Remove the header\n",
    "\n",
    "# Convert the data into a numpy array and store it in sales_data\n"
   ]
  },
  {
   "cell_type": "markdown",
   "metadata": {},
   "source": [
    "Let's delve into the data to find the answers to some questions"
   ]
  },
  {
   "cell_type": "markdown",
   "metadata": {},
   "source": [
    "### How many unique ad campaigns (xyz_campaign_id) does this data contain ? And for how many times was each campaign run ?"
   ]
  },
  {
   "cell_type": "code",
   "execution_count": 1,
   "metadata": {},
   "outputs": [],
   "source": [
    "from collections import Counter\n"
   ]
  },
  {
   "cell_type": "markdown",
   "metadata": {},
   "source": [
    "#### Another way to perform the above task using numpy is as follows below"
   ]
  },
  {
   "cell_type": "code",
   "execution_count": 2,
   "metadata": {},
   "outputs": [],
   "source": [
    "# Code Starts here\n",
    "\n",
    "\n",
    "\n",
    "# Total number of campaigns\n",
    "\n",
    "# Total times each campaign ran\n",
    "\n",
    "# Code Ends here"
   ]
  },
  {
   "cell_type": "markdown",
   "metadata": {},
   "source": [
    "### What are the age groups that were targeted through these ad campaigns ?"
   ]
  },
  {
   "cell_type": "code",
   "execution_count": 3,
   "metadata": {},
   "outputs": [],
   "source": [
    "# Code Starts here\n",
    "\n",
    "\n",
    "# Age groups are categorized as bins. So get a unique count of the bin\n",
    "\n",
    "# Code Ends here"
   ]
  },
  {
   "cell_type": "markdown",
   "metadata": {},
   "source": [
    "### What was the average, minimum and maximum amount spent on the ads ?"
   ]
  },
  {
   "cell_type": "code",
   "execution_count": null,
   "metadata": {},
   "outputs": [],
   "source": []
  },
  {
   "cell_type": "markdown",
   "metadata": {},
   "source": [
    "### What is the id of the ad having the maximum number of clicks ?"
   ]
  },
  {
   "cell_type": "code",
   "execution_count": 4,
   "metadata": {},
   "outputs": [],
   "source": [
    "# What were the maximum number of clicks\n",
    "\n",
    "# Which was the ad having the maximum number of clicks\n"
   ]
  },
  {
   "cell_type": "markdown",
   "metadata": {},
   "source": [
    "### How many people bought the product after seeing the ad with most clicks ? Is that the maximum number of purchases in this dataset  ?"
   ]
  },
  {
   "cell_type": "code",
   "execution_count": 5,
   "metadata": {},
   "outputs": [],
   "source": [
    "\n",
    "# Max value of the Approved_Conversion column\n"
   ]
  },
  {
   "cell_type": "markdown",
   "metadata": {},
   "source": [
    "### So the ad with the most clicks didn't fetch the maximum number of purchases. Let's find the details of the product having maximum number of purchases"
   ]
  },
  {
   "cell_type": "code",
   "execution_count": null,
   "metadata": {},
   "outputs": [],
   "source": []
  },
  {
   "cell_type": "markdown",
   "metadata": {},
   "source": [
    "### Creating additional features\n",
    "\n",
    "Let's add some additional features that will represent some additional standard metrics.\n",
    "\n",
    "###  Click Through Rate (CTR)\n",
    "This is the percentage of how many of our impressions became clicks. A high CTR is often seen as a sign of good creative being presented to a relevant audience. A low click through rate is suggestive of less-than-engaging adverts (design and / or messaging) and / or presentation of adverts to an inappropriate audience. What is seen as a good CTR will depend on the type of advert (website banner, Google Shopping ad, search network test ad etc.) and can vary across sectors, but 2% would be a reasonable benchmark.\n",
    "\n",
    "### Create a new feature `Click Through Rate`  (CTR) and then concatenate it to the original numpy array \n",
    "\n",
    "CTR = $\\frac{Clicks}{Impressions}$x100"
   ]
  },
  {
   "cell_type": "code",
   "execution_count": 6,
   "metadata": {},
   "outputs": [],
   "source": [
    "# Code starts here\n",
    "\n",
    "# Create a new numpy array to calculate CTR\n",
    "\n",
    "# Note the shapes of CTR and the original array are different\n",
    "\n",
    "# Convert CTR to the same shape as that of the original array\n",
    "\n",
    "# Concatenate CTR to the original array\n",
    "\n",
    "# Code ends here"
   ]
  },
  {
   "cell_type": "markdown",
   "metadata": {},
   "source": [
    "### Create a new column that represents Cost Per Mille (CPM) .\n",
    "This number is the cost of one thousand impressions. If your objective is ad exposure to increase brand awareness, this might be an important KPI for you to measure."
   ]
  },
  {
   "cell_type": "code",
   "execution_count": 7,
   "metadata": {},
   "outputs": [],
   "source": [
    "# Code starts here\n",
    "\n",
    "# Create a new numpy array to calculate CPM\n",
    "\n",
    "# Note the shapes of CPM and the original array are different\n",
    "\n",
    "# Convert CTR to the same shape as that of the original array\n",
    "\n",
    "# Concatenate CTR to the original array\n",
    "\n",
    "\n",
    "# Code ends here"
   ]
  }
 ],
 "metadata": {
  "kernelspec": {
   "display_name": "Python 3",
   "language": "python",
   "name": "python3"
  },
  "language_info": {
   "codemirror_mode": {
    "name": "ipython",
    "version": 3
   },
   "file_extension": ".py",
   "mimetype": "text/x-python",
   "name": "python",
   "nbconvert_exporter": "python",
   "pygments_lexer": "ipython3",
   "version": "3.7.6"
  }
 },
 "nbformat": 4,
 "nbformat_minor": 2
}
