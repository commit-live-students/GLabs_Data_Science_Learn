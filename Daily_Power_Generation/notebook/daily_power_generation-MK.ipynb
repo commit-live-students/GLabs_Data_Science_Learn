{
 "cells": [
  {
   "cell_type": "markdown",
   "metadata": {
    "colab_type": "text",
    "id": "IKVe6h6kov4X"
   },
   "source": [
    "# Daily Power Generation Data Cleaning and Analysis\n",
    "\n"
   ]
  },
  {
   "cell_type": "markdown",
   "metadata": {
    "colab_type": "text",
    "id": "fIJD74wYozv5"
   },
   "source": [
    "\n",
    "India is the world's third-largest producer and third largest consumer of electricity. The national electric grid in India has an installed capacity of 370.106 GW as of 31 March 2020. Renewable power plants, which also include large hydroelectric plants, constitute 35.86% of India's total installed capacity.\n",
    "India has a surplus power generation capacity but lacks adequate distribution infrastructure.\n",
    "\n",
    "India's electricity sector is dominated by fossil fuels, in particular coal, which during the 2018-19 fiscal year produced about three-quarters of the country's electricity. The government is making efforts to increase investment in renewable energy. The government's National Electricity Plan of 2018 states that the country does not need more non-renewable power plants in the utility sector until 2027, with the commissioning of 50,025 MW coal-based power plants under construction and addition of 275,000 MW total renewable power capacity after the retirement of nearly 48,000 MW old coal-fired plants.\n",
    "\n",
    "India has recorded rapid growth in electricity generation since 1985, increasing from 179 TW-hr in 1985 to 1,057 TW-hr in 2012. The majority of the increase came from coal-fired plants and non-conventional renewable energy sources (RES), with the contribution from natural gas, oil, and hydro plants decreasing in 2012-2017. The gross utility electricity generation (excluding imports from Bhutan) was 1,384 billion kWh in 2019-20, representing 1.0 % annual growth compared to 2018-2019. The contribution from renewable energy sources was nearly 20% of the total. In the year 2019-20, all the incremental electricity generation is contributed by renewable energy sources as the power generation from fossil fuels decreased.\n",
    "The drivers for India's electricity sector are its rapidly growing economy, rising exports, improving infrastructure, and increasing household incomes.\n",
    "\n",
    "\n",
    "## Data\n",
    "There are 2 CSV files for the study. Each file has detailed file, and row, and column description for easier understanding of the user.\n",
    "\n",
    "## Acknowledgements\n",
    "Data has been extracted from openly available reports of National Power Portal at \"https://npp.gov.in/\". See more details [here](https://www.kaggle.com/navinmundhra/daily-power-generation-in-india-20172020)\n"
   ]
  },
  {
   "cell_type": "markdown",
   "metadata": {},
   "source": [
    "## Resources:\n",
    "- [Pandas Groupby Named Aggregations](https://pandas.pydata.org/pandas-docs/stable/user_guide/groupby.html#groupby-aggregate-named)\n",
    "- [Pandas Select columns that startswith/ endswith](https://stackoverflow.com/a/27275344/8210613)\n",
    "- [Pandas Visuals](https://pandas.pydata.org/docs/user_guide/visualization.html#pie-plot)\n",
    "- [Pandas Visuals custom pct - pie plot](https://stackoverflow.com/a/6170354/8210613)\n",
    "- [Pandas Sum rows](https://www.kite.com/python/answers/how-to-sum-rows-of-a-pandas-dataframe-in-python)\n",
    "- [Pandas Convert string to float](https://datatofish.com/convert-string-to-float-dataframe/)"
   ]
  },
  {
   "cell_type": "markdown",
   "metadata": {
    "colab_type": "text",
    "id": "CsOsqQuCozb3"
   },
   "source": [
    "## Session flow:\n",
    "\n",
    "* Data Cleaning and basic analysis will be done for the first 90 - 100 minutes.\n",
    "\n",
    "* Brainstorming activity to form atleast 3 questions which are to be answered and try to individually code it to get the desired output(20-30 minutes)"
   ]
  },
  {
   "cell_type": "markdown",
   "metadata": {
    "colab_type": "text",
    "id": "4oIXyK75o71U"
   },
   "source": [
    "## Load the libraries"
   ]
  },
  {
   "cell_type": "code",
   "execution_count": 1,
   "metadata": {
    "colab": {},
    "colab_type": "code",
    "id": "DT0e5F87ox4n"
   },
   "outputs": [],
   "source": [
    "import os\n",
    "import pandas as pd\n",
    "import numpy as np\n",
    "import matplotlib.pyplot as plt\n"
   ]
  },
  {
   "cell_type": "markdown",
   "metadata": {
    "colab_type": "text",
    "id": "pzhl8usGpH7m"
   },
   "source": [
    "## Load the data"
   ]
  },
  {
   "cell_type": "code",
   "execution_count": 2,
   "metadata": {
    "colab": {},
    "colab_type": "code",
    "id": "fgem045TpLVr"
   },
   "outputs": [
    {
     "data": {
      "text/html": [
       "<div>\n",
       "<style scoped>\n",
       "    .dataframe tbody tr th:only-of-type {\n",
       "        vertical-align: middle;\n",
       "    }\n",
       "\n",
       "    .dataframe tbody tr th {\n",
       "        vertical-align: top;\n",
       "    }\n",
       "\n",
       "    .dataframe thead th {\n",
       "        text-align: right;\n",
       "    }\n",
       "</style>\n",
       "<table border=\"1\" class=\"dataframe\">\n",
       "  <thead>\n",
       "    <tr style=\"text-align: right;\">\n",
       "      <th></th>\n",
       "      <th>index</th>\n",
       "      <th>Date</th>\n",
       "      <th>Region</th>\n",
       "      <th>Thermal Generation Actual (in MU)</th>\n",
       "      <th>Thermal Generation Estimated (in MU)</th>\n",
       "      <th>Nuclear Generation Actual (in MU)</th>\n",
       "      <th>Nuclear Generation Estimated (in MU)</th>\n",
       "      <th>Hydro Generation Actual (in MU)</th>\n",
       "      <th>Hydro Generation Estimated (in MU)</th>\n",
       "    </tr>\n",
       "  </thead>\n",
       "  <tbody>\n",
       "    <tr>\n",
       "      <th>0</th>\n",
       "      <td>0</td>\n",
       "      <td>2017-09-01</td>\n",
       "      <td>Northern</td>\n",
       "      <td>624.23</td>\n",
       "      <td>484.21</td>\n",
       "      <td>30.36</td>\n",
       "      <td>35.57</td>\n",
       "      <td>273.27</td>\n",
       "      <td>320.81</td>\n",
       "    </tr>\n",
       "    <tr>\n",
       "      <th>1</th>\n",
       "      <td>1</td>\n",
       "      <td>2017-09-01</td>\n",
       "      <td>Western</td>\n",
       "      <td>1,106.89</td>\n",
       "      <td>1,024.33</td>\n",
       "      <td>25.17</td>\n",
       "      <td>3.81</td>\n",
       "      <td>72.00</td>\n",
       "      <td>21.53</td>\n",
       "    </tr>\n",
       "    <tr>\n",
       "      <th>2</th>\n",
       "      <td>2</td>\n",
       "      <td>2017-09-01</td>\n",
       "      <td>Southern</td>\n",
       "      <td>576.66</td>\n",
       "      <td>578.55</td>\n",
       "      <td>62.73</td>\n",
       "      <td>49.80</td>\n",
       "      <td>111.57</td>\n",
       "      <td>64.78</td>\n",
       "    </tr>\n",
       "    <tr>\n",
       "      <th>3</th>\n",
       "      <td>3</td>\n",
       "      <td>2017-09-01</td>\n",
       "      <td>Eastern</td>\n",
       "      <td>441.02</td>\n",
       "      <td>429.39</td>\n",
       "      <td>NaN</td>\n",
       "      <td>NaN</td>\n",
       "      <td>85.94</td>\n",
       "      <td>69.36</td>\n",
       "    </tr>\n",
       "    <tr>\n",
       "      <th>4</th>\n",
       "      <td>4</td>\n",
       "      <td>2017-09-01</td>\n",
       "      <td>NorthEastern</td>\n",
       "      <td>29.11</td>\n",
       "      <td>15.91</td>\n",
       "      <td>NaN</td>\n",
       "      <td>NaN</td>\n",
       "      <td>24.64</td>\n",
       "      <td>21.21</td>\n",
       "    </tr>\n",
       "  </tbody>\n",
       "</table>\n",
       "</div>"
      ],
      "text/plain": [
       "   index        Date        Region Thermal Generation Actual (in MU)  \\\n",
       "0      0  2017-09-01      Northern                            624.23   \n",
       "1      1  2017-09-01       Western                          1,106.89   \n",
       "2      2  2017-09-01      Southern                            576.66   \n",
       "3      3  2017-09-01       Eastern                            441.02   \n",
       "4      4  2017-09-01  NorthEastern                             29.11   \n",
       "\n",
       "  Thermal Generation Estimated (in MU)  Nuclear Generation Actual (in MU)  \\\n",
       "0                               484.21                              30.36   \n",
       "1                             1,024.33                              25.17   \n",
       "2                               578.55                              62.73   \n",
       "3                               429.39                                NaN   \n",
       "4                                15.91                                NaN   \n",
       "\n",
       "   Nuclear Generation Estimated (in MU)  Hydro Generation Actual (in MU)  \\\n",
       "0                                 35.57                           273.27   \n",
       "1                                  3.81                            72.00   \n",
       "2                                 49.80                           111.57   \n",
       "3                                   NaN                            85.94   \n",
       "4                                   NaN                            24.64   \n",
       "\n",
       "   Hydro Generation Estimated (in MU)  \n",
       "0                              320.81  \n",
       "1                               21.53  \n",
       "2                               64.78  \n",
       "3                               69.36  \n",
       "4                               21.21  "
      ]
     },
     "execution_count": 2,
     "metadata": {},
     "output_type": "execute_result"
    }
   ],
   "source": [
    "power_df = pd.read_csv('../data/power_generation.csv') \n",
    "power_df.head()"
   ]
  },
  {
   "cell_type": "code",
   "execution_count": 3,
   "metadata": {},
   "outputs": [
    {
     "data": {
      "text/html": [
       "<div>\n",
       "<style scoped>\n",
       "    .dataframe tbody tr th:only-of-type {\n",
       "        vertical-align: middle;\n",
       "    }\n",
       "\n",
       "    .dataframe tbody tr th {\n",
       "        vertical-align: top;\n",
       "    }\n",
       "\n",
       "    .dataframe thead th {\n",
       "        text-align: right;\n",
       "    }\n",
       "</style>\n",
       "<table border=\"1\" class=\"dataframe\">\n",
       "  <thead>\n",
       "    <tr style=\"text-align: right;\">\n",
       "      <th></th>\n",
       "      <th>State / Union territory (UT)</th>\n",
       "      <th>Area (km2)</th>\n",
       "      <th>Region</th>\n",
       "      <th>National Share (%)</th>\n",
       "    </tr>\n",
       "  </thead>\n",
       "  <tbody>\n",
       "    <tr>\n",
       "      <th>0</th>\n",
       "      <td>Rajasthan</td>\n",
       "      <td>342239</td>\n",
       "      <td>Northern</td>\n",
       "      <td>10.55</td>\n",
       "    </tr>\n",
       "    <tr>\n",
       "      <th>1</th>\n",
       "      <td>Madhya Pradesh</td>\n",
       "      <td>308350</td>\n",
       "      <td>Central</td>\n",
       "      <td>9.37</td>\n",
       "    </tr>\n",
       "    <tr>\n",
       "      <th>2</th>\n",
       "      <td>Maharashtra</td>\n",
       "      <td>307713</td>\n",
       "      <td>Western</td>\n",
       "      <td>9.36</td>\n",
       "    </tr>\n",
       "    <tr>\n",
       "      <th>3</th>\n",
       "      <td>Uttar Pradesh</td>\n",
       "      <td>240928</td>\n",
       "      <td>Northern</td>\n",
       "      <td>7.33</td>\n",
       "    </tr>\n",
       "    <tr>\n",
       "      <th>4</th>\n",
       "      <td>Gujarat</td>\n",
       "      <td>196024</td>\n",
       "      <td>Western</td>\n",
       "      <td>5.96</td>\n",
       "    </tr>\n",
       "  </tbody>\n",
       "</table>\n",
       "</div>"
      ],
      "text/plain": [
       "  State / Union territory (UT)  Area (km2)    Region  National Share (%)\n",
       "0                    Rajasthan      342239  Northern               10.55\n",
       "1               Madhya Pradesh      308350   Central                9.37\n",
       "2                  Maharashtra      307713   Western                9.36\n",
       "3                Uttar Pradesh      240928  Northern                7.33\n",
       "4                      Gujarat      196024   Western                5.96"
      ]
     },
     "execution_count": 3,
     "metadata": {},
     "output_type": "execute_result"
    }
   ],
   "source": [
    "states_df = pd.read_csv('../data/State_Region_corrected.csv')\n",
    "states_df.head()"
   ]
  },
  {
   "cell_type": "markdown",
   "metadata": {
    "colab_type": "text",
    "id": "tTwjxqDSpNyL"
   },
   "source": [
    "## Remove the column `index` from power_df dataframe"
   ]
  },
  {
   "cell_type": "code",
   "execution_count": 4,
   "metadata": {
    "colab": {},
    "colab_type": "code",
    "id": "cXcK0DxKpkIv"
   },
   "outputs": [
    {
     "data": {
      "text/html": [
       "<div>\n",
       "<style scoped>\n",
       "    .dataframe tbody tr th:only-of-type {\n",
       "        vertical-align: middle;\n",
       "    }\n",
       "\n",
       "    .dataframe tbody tr th {\n",
       "        vertical-align: top;\n",
       "    }\n",
       "\n",
       "    .dataframe thead th {\n",
       "        text-align: right;\n",
       "    }\n",
       "</style>\n",
       "<table border=\"1\" class=\"dataframe\">\n",
       "  <thead>\n",
       "    <tr style=\"text-align: right;\">\n",
       "      <th></th>\n",
       "      <th>Date</th>\n",
       "      <th>Region</th>\n",
       "      <th>Thermal Generation Actual (in MU)</th>\n",
       "      <th>Thermal Generation Estimated (in MU)</th>\n",
       "      <th>Nuclear Generation Actual (in MU)</th>\n",
       "      <th>Nuclear Generation Estimated (in MU)</th>\n",
       "      <th>Hydro Generation Actual (in MU)</th>\n",
       "      <th>Hydro Generation Estimated (in MU)</th>\n",
       "    </tr>\n",
       "  </thead>\n",
       "  <tbody>\n",
       "    <tr>\n",
       "      <th>0</th>\n",
       "      <td>2017-09-01</td>\n",
       "      <td>Northern</td>\n",
       "      <td>624.23</td>\n",
       "      <td>484.21</td>\n",
       "      <td>30.36</td>\n",
       "      <td>35.57</td>\n",
       "      <td>273.27</td>\n",
       "      <td>320.81</td>\n",
       "    </tr>\n",
       "    <tr>\n",
       "      <th>1</th>\n",
       "      <td>2017-09-01</td>\n",
       "      <td>Western</td>\n",
       "      <td>1,106.89</td>\n",
       "      <td>1,024.33</td>\n",
       "      <td>25.17</td>\n",
       "      <td>3.81</td>\n",
       "      <td>72.00</td>\n",
       "      <td>21.53</td>\n",
       "    </tr>\n",
       "    <tr>\n",
       "      <th>2</th>\n",
       "      <td>2017-09-01</td>\n",
       "      <td>Southern</td>\n",
       "      <td>576.66</td>\n",
       "      <td>578.55</td>\n",
       "      <td>62.73</td>\n",
       "      <td>49.80</td>\n",
       "      <td>111.57</td>\n",
       "      <td>64.78</td>\n",
       "    </tr>\n",
       "    <tr>\n",
       "      <th>3</th>\n",
       "      <td>2017-09-01</td>\n",
       "      <td>Eastern</td>\n",
       "      <td>441.02</td>\n",
       "      <td>429.39</td>\n",
       "      <td>NaN</td>\n",
       "      <td>NaN</td>\n",
       "      <td>85.94</td>\n",
       "      <td>69.36</td>\n",
       "    </tr>\n",
       "    <tr>\n",
       "      <th>4</th>\n",
       "      <td>2017-09-01</td>\n",
       "      <td>NorthEastern</td>\n",
       "      <td>29.11</td>\n",
       "      <td>15.91</td>\n",
       "      <td>NaN</td>\n",
       "      <td>NaN</td>\n",
       "      <td>24.64</td>\n",
       "      <td>21.21</td>\n",
       "    </tr>\n",
       "  </tbody>\n",
       "</table>\n",
       "</div>"
      ],
      "text/plain": [
       "         Date        Region Thermal Generation Actual (in MU)  \\\n",
       "0  2017-09-01      Northern                            624.23   \n",
       "1  2017-09-01       Western                          1,106.89   \n",
       "2  2017-09-01      Southern                            576.66   \n",
       "3  2017-09-01       Eastern                            441.02   \n",
       "4  2017-09-01  NorthEastern                             29.11   \n",
       "\n",
       "  Thermal Generation Estimated (in MU)  Nuclear Generation Actual (in MU)  \\\n",
       "0                               484.21                              30.36   \n",
       "1                             1,024.33                              25.17   \n",
       "2                               578.55                              62.73   \n",
       "3                               429.39                                NaN   \n",
       "4                                15.91                                NaN   \n",
       "\n",
       "   Nuclear Generation Estimated (in MU)  Hydro Generation Actual (in MU)  \\\n",
       "0                                 35.57                           273.27   \n",
       "1                                  3.81                            72.00   \n",
       "2                                 49.80                           111.57   \n",
       "3                                   NaN                            85.94   \n",
       "4                                   NaN                            24.64   \n",
       "\n",
       "   Hydro Generation Estimated (in MU)  \n",
       "0                              320.81  \n",
       "1                               21.53  \n",
       "2                               64.78  \n",
       "3                               69.36  \n",
       "4                               21.21  "
      ]
     },
     "execution_count": 4,
     "metadata": {},
     "output_type": "execute_result"
    }
   ],
   "source": [
    "power_df.drop(columns='index', axis=1, inplace=True)\n",
    "power_df.head()"
   ]
  },
  {
   "cell_type": "markdown",
   "metadata": {
    "colab_type": "text",
    "id": "fl3mMuAgpl5G"
   },
   "source": [
    "## Cleaning the power_df dataframe column names :\n",
    "* Remove the substring `' (in MU)'` from all the columns in the power_df dataframe.\n",
    "* Replace all the spaces with underscore in the power_df datafame\n",
    "* All the column names to be converted to small case in the power_df dataframe\n"
   ]
  },
  {
   "cell_type": "code",
   "execution_count": 5,
   "metadata": {
    "colab": {},
    "colab_type": "code",
    "id": "vGBuE_oTpqMf"
   },
   "outputs": [
    {
     "data": {
      "text/plain": [
       "['date',\n",
       " 'region',\n",
       " 'thermal_generation_actual',\n",
       " 'thermal_generation_estimated',\n",
       " 'nuclear_generation_actual',\n",
       " 'nuclear_generation_estimated',\n",
       " 'hydro_generation_actual',\n",
       " 'hydro_generation_estimated']"
      ]
     },
     "execution_count": 5,
     "metadata": {},
     "output_type": "execute_result"
    }
   ],
   "source": [
    "cols= [] \n",
    "for col in power_df.columns:\n",
    "    cols.append(col.replace(' (in MU)', '').replace(' ','_').lower())\n",
    "    \n",
    "cols"
   ]
  },
  {
   "cell_type": "code",
   "execution_count": 6,
   "metadata": {
    "colab": {},
    "colab_type": "code",
    "id": "vGBuE_oTpqMf"
   },
   "outputs": [
    {
     "data": {
      "text/html": [
       "<div>\n",
       "<style scoped>\n",
       "    .dataframe tbody tr th:only-of-type {\n",
       "        vertical-align: middle;\n",
       "    }\n",
       "\n",
       "    .dataframe tbody tr th {\n",
       "        vertical-align: top;\n",
       "    }\n",
       "\n",
       "    .dataframe thead th {\n",
       "        text-align: right;\n",
       "    }\n",
       "</style>\n",
       "<table border=\"1\" class=\"dataframe\">\n",
       "  <thead>\n",
       "    <tr style=\"text-align: right;\">\n",
       "      <th></th>\n",
       "      <th>date</th>\n",
       "      <th>region</th>\n",
       "      <th>thermal_generation_actual</th>\n",
       "      <th>thermal_generation_estimated</th>\n",
       "      <th>nuclear_generation_actual</th>\n",
       "      <th>nuclear_generation_estimated</th>\n",
       "      <th>hydro_generation_actual</th>\n",
       "      <th>hydro_generation_estimated</th>\n",
       "    </tr>\n",
       "  </thead>\n",
       "  <tbody>\n",
       "    <tr>\n",
       "      <th>0</th>\n",
       "      <td>2017-09-01</td>\n",
       "      <td>Northern</td>\n",
       "      <td>624.23</td>\n",
       "      <td>484.21</td>\n",
       "      <td>30.36</td>\n",
       "      <td>35.57</td>\n",
       "      <td>273.27</td>\n",
       "      <td>320.81</td>\n",
       "    </tr>\n",
       "    <tr>\n",
       "      <th>1</th>\n",
       "      <td>2017-09-01</td>\n",
       "      <td>Western</td>\n",
       "      <td>1,106.89</td>\n",
       "      <td>1,024.33</td>\n",
       "      <td>25.17</td>\n",
       "      <td>3.81</td>\n",
       "      <td>72.00</td>\n",
       "      <td>21.53</td>\n",
       "    </tr>\n",
       "    <tr>\n",
       "      <th>2</th>\n",
       "      <td>2017-09-01</td>\n",
       "      <td>Southern</td>\n",
       "      <td>576.66</td>\n",
       "      <td>578.55</td>\n",
       "      <td>62.73</td>\n",
       "      <td>49.80</td>\n",
       "      <td>111.57</td>\n",
       "      <td>64.78</td>\n",
       "    </tr>\n",
       "    <tr>\n",
       "      <th>3</th>\n",
       "      <td>2017-09-01</td>\n",
       "      <td>Eastern</td>\n",
       "      <td>441.02</td>\n",
       "      <td>429.39</td>\n",
       "      <td>NaN</td>\n",
       "      <td>NaN</td>\n",
       "      <td>85.94</td>\n",
       "      <td>69.36</td>\n",
       "    </tr>\n",
       "    <tr>\n",
       "      <th>4</th>\n",
       "      <td>2017-09-01</td>\n",
       "      <td>NorthEastern</td>\n",
       "      <td>29.11</td>\n",
       "      <td>15.91</td>\n",
       "      <td>NaN</td>\n",
       "      <td>NaN</td>\n",
       "      <td>24.64</td>\n",
       "      <td>21.21</td>\n",
       "    </tr>\n",
       "  </tbody>\n",
       "</table>\n",
       "</div>"
      ],
      "text/plain": [
       "         date        region thermal_generation_actual  \\\n",
       "0  2017-09-01      Northern                    624.23   \n",
       "1  2017-09-01       Western                  1,106.89   \n",
       "2  2017-09-01      Southern                    576.66   \n",
       "3  2017-09-01       Eastern                    441.02   \n",
       "4  2017-09-01  NorthEastern                     29.11   \n",
       "\n",
       "  thermal_generation_estimated  nuclear_generation_actual  \\\n",
       "0                       484.21                      30.36   \n",
       "1                     1,024.33                      25.17   \n",
       "2                       578.55                      62.73   \n",
       "3                       429.39                        NaN   \n",
       "4                        15.91                        NaN   \n",
       "\n",
       "   nuclear_generation_estimated  hydro_generation_actual  \\\n",
       "0                         35.57                   273.27   \n",
       "1                          3.81                    72.00   \n",
       "2                         49.80                   111.57   \n",
       "3                           NaN                    85.94   \n",
       "4                           NaN                    24.64   \n",
       "\n",
       "   hydro_generation_estimated  \n",
       "0                      320.81  \n",
       "1                       21.53  \n",
       "2                       64.78  \n",
       "3                       69.36  \n",
       "4                       21.21  "
      ]
     },
     "execution_count": 6,
     "metadata": {},
     "output_type": "execute_result"
    }
   ],
   "source": [
    "power_df.columns = [col.replace(' (in MU)', '').replace(' ','_').lower() for col in power_df.columns]\n",
    "power_df.head()"
   ]
  },
  {
   "cell_type": "markdown",
   "metadata": {
    "colab_type": "text",
    "id": "UK3mNYdGprSP"
   },
   "source": [
    "## Cleaning state_df column names:\n",
    "* Replace the column names 'State / Union territory (UT)', 'Area (km2)', 'Region' and 'National Share (%)' with 'state','area','region' and 'national_share' respectively"
   ]
  },
  {
   "cell_type": "code",
   "execution_count": 7,
   "metadata": {
    "colab": {},
    "colab_type": "code",
    "id": "MhAVWRhkpu9t"
   },
   "outputs": [],
   "source": [
    "state_cols = {\n",
    "    'State / Union territory (UT)' : 'state',\n",
    "    'Area (km2)' : 'area',\n",
    "    'National Share (%)': 'national_share',\n",
    "    'Region':'region'\n",
    "}"
   ]
  },
  {
   "cell_type": "code",
   "execution_count": 8,
   "metadata": {
    "colab": {},
    "colab_type": "code",
    "id": "MhAVWRhkpu9t"
   },
   "outputs": [
    {
     "data": {
      "text/html": [
       "<div>\n",
       "<style scoped>\n",
       "    .dataframe tbody tr th:only-of-type {\n",
       "        vertical-align: middle;\n",
       "    }\n",
       "\n",
       "    .dataframe tbody tr th {\n",
       "        vertical-align: top;\n",
       "    }\n",
       "\n",
       "    .dataframe thead th {\n",
       "        text-align: right;\n",
       "    }\n",
       "</style>\n",
       "<table border=\"1\" class=\"dataframe\">\n",
       "  <thead>\n",
       "    <tr style=\"text-align: right;\">\n",
       "      <th></th>\n",
       "      <th>state</th>\n",
       "      <th>area</th>\n",
       "      <th>region</th>\n",
       "      <th>national_share</th>\n",
       "    </tr>\n",
       "  </thead>\n",
       "  <tbody>\n",
       "    <tr>\n",
       "      <th>0</th>\n",
       "      <td>Rajasthan</td>\n",
       "      <td>342239</td>\n",
       "      <td>Northern</td>\n",
       "      <td>10.55</td>\n",
       "    </tr>\n",
       "    <tr>\n",
       "      <th>1</th>\n",
       "      <td>Madhya Pradesh</td>\n",
       "      <td>308350</td>\n",
       "      <td>Central</td>\n",
       "      <td>9.37</td>\n",
       "    </tr>\n",
       "    <tr>\n",
       "      <th>2</th>\n",
       "      <td>Maharashtra</td>\n",
       "      <td>307713</td>\n",
       "      <td>Western</td>\n",
       "      <td>9.36</td>\n",
       "    </tr>\n",
       "    <tr>\n",
       "      <th>3</th>\n",
       "      <td>Uttar Pradesh</td>\n",
       "      <td>240928</td>\n",
       "      <td>Northern</td>\n",
       "      <td>7.33</td>\n",
       "    </tr>\n",
       "    <tr>\n",
       "      <th>4</th>\n",
       "      <td>Gujarat</td>\n",
       "      <td>196024</td>\n",
       "      <td>Western</td>\n",
       "      <td>5.96</td>\n",
       "    </tr>\n",
       "  </tbody>\n",
       "</table>\n",
       "</div>"
      ],
      "text/plain": [
       "            state    area    region  national_share\n",
       "0       Rajasthan  342239  Northern           10.55\n",
       "1  Madhya Pradesh  308350   Central            9.37\n",
       "2     Maharashtra  307713   Western            9.36\n",
       "3   Uttar Pradesh  240928  Northern            7.33\n",
       "4         Gujarat  196024   Western            5.96"
      ]
     },
     "execution_count": 8,
     "metadata": {},
     "output_type": "execute_result"
    }
   ],
   "source": [
    "states_df.rename(columns=state_cols, inplace=True)\n",
    "states_df.head()"
   ]
  },
  {
   "cell_type": "code",
   "execution_count": 9,
   "metadata": {},
   "outputs": [
    {
     "data": {
      "text/plain": [
       "0    10.55\n",
       "1     9.37\n",
       "2     9.36\n",
       "3     7.33\n",
       "4     5.96\n",
       "Name: national_share, dtype: float64"
      ]
     },
     "execution_count": 9,
     "metadata": {},
     "output_type": "execute_result"
    }
   ],
   "source": [
    "states_df.national_share.head()"
   ]
  },
  {
   "cell_type": "markdown",
   "metadata": {
    "colab_type": "text",
    "id": "3zBHvMndpw6P"
   },
   "source": [
    "## The region names in both the dataframes have to be the same, check for the same, if not, make the necessary changes"
   ]
  },
  {
   "cell_type": "code",
   "execution_count": 10,
   "metadata": {
    "colab": {},
    "colab_type": "code",
    "id": "k3KHNOuyp1oP"
   },
   "outputs": [
    {
     "data": {
      "text/plain": [
       "array(['Northern', 'Western', 'Southern', 'Eastern', 'NorthEastern'],\n",
       "      dtype=object)"
      ]
     },
     "execution_count": 10,
     "metadata": {},
     "output_type": "execute_result"
    }
   ],
   "source": [
    "power_df.region.unique()"
   ]
  },
  {
   "cell_type": "code",
   "execution_count": 11,
   "metadata": {},
   "outputs": [
    {
     "data": {
      "text/plain": [
       "array(['Northern', 'Central', 'Western', 'Southern', 'Eastern',\n",
       "       'Northeastern'], dtype=object)"
      ]
     },
     "execution_count": 11,
     "metadata": {},
     "output_type": "execute_result"
    }
   ],
   "source": [
    "states_df.region.unique()"
   ]
  },
  {
   "cell_type": "code",
   "execution_count": 12,
   "metadata": {},
   "outputs": [
    {
     "data": {
      "text/plain": [
       "array(['Northern', 'Central', 'Western', 'Southern', 'Eastern',\n",
       "       'NorthEastern'], dtype=object)"
      ]
     },
     "execution_count": 12,
     "metadata": {},
     "output_type": "execute_result"
    }
   ],
   "source": [
    "states_df.replace('Northeastern', 'NorthEastern', inplace=True)\n",
    "states_df.region.unique()"
   ]
  },
  {
   "cell_type": "markdown",
   "metadata": {
    "colab_type": "text",
    "id": "O8WeQOt1p2wW"
   },
   "source": [
    "## Basic Data Study"
   ]
  },
  {
   "cell_type": "code",
   "execution_count": 13,
   "metadata": {
    "colab": {},
    "colab_type": "code",
    "id": "CBIZN4Lzp9MU"
   },
   "outputs": [
    {
     "name": "stdout",
     "output_type": "stream",
     "text": [
      "<class 'pandas.core.frame.DataFrame'>\n",
      "RangeIndex: 4945 entries, 0 to 4944\n",
      "Data columns (total 8 columns):\n",
      " #   Column                        Non-Null Count  Dtype  \n",
      "---  ------                        --------------  -----  \n",
      " 0   date                          4945 non-null   object \n",
      " 1   region                        4945 non-null   object \n",
      " 2   thermal_generation_actual     4945 non-null   object \n",
      " 3   thermal_generation_estimated  4945 non-null   object \n",
      " 4   nuclear_generation_actual     2967 non-null   float64\n",
      " 5   nuclear_generation_estimated  2967 non-null   float64\n",
      " 6   hydro_generation_actual       4945 non-null   float64\n",
      " 7   hydro_generation_estimated    4945 non-null   float64\n",
      "dtypes: float64(4), object(4)\n",
      "memory usage: 309.2+ KB\n"
     ]
    }
   ],
   "source": [
    "power_df.info()"
   ]
  },
  {
   "cell_type": "code",
   "execution_count": 14,
   "metadata": {},
   "outputs": [
    {
     "name": "stdout",
     "output_type": "stream",
     "text": [
      "<class 'pandas.core.frame.DataFrame'>\n",
      "RangeIndex: 34 entries, 0 to 33\n",
      "Data columns (total 4 columns):\n",
      " #   Column          Non-Null Count  Dtype  \n",
      "---  ------          --------------  -----  \n",
      " 0   state           34 non-null     object \n",
      " 1   area            34 non-null     int64  \n",
      " 2   region          34 non-null     object \n",
      " 3   national_share  34 non-null     float64\n",
      "dtypes: float64(1), int64(1), object(2)\n",
      "memory usage: 1.2+ KB\n"
     ]
    }
   ],
   "source": [
    "states_df.info()"
   ]
  },
  {
   "cell_type": "code",
   "execution_count": 15,
   "metadata": {},
   "outputs": [
    {
     "data": {
      "text/html": [
       "<div>\n",
       "<style scoped>\n",
       "    .dataframe tbody tr th:only-of-type {\n",
       "        vertical-align: middle;\n",
       "    }\n",
       "\n",
       "    .dataframe tbody tr th {\n",
       "        vertical-align: top;\n",
       "    }\n",
       "\n",
       "    .dataframe thead th {\n",
       "        text-align: right;\n",
       "    }\n",
       "</style>\n",
       "<table border=\"1\" class=\"dataframe\">\n",
       "  <thead>\n",
       "    <tr style=\"text-align: right;\">\n",
       "      <th></th>\n",
       "      <th>nuclear_generation_actual</th>\n",
       "      <th>nuclear_generation_estimated</th>\n",
       "      <th>hydro_generation_actual</th>\n",
       "      <th>hydro_generation_estimated</th>\n",
       "    </tr>\n",
       "  </thead>\n",
       "  <tbody>\n",
       "    <tr>\n",
       "      <th>count</th>\n",
       "      <td>2967.000000</td>\n",
       "      <td>2967.000000</td>\n",
       "      <td>4945.000000</td>\n",
       "      <td>4945.000000</td>\n",
       "    </tr>\n",
       "    <tr>\n",
       "      <th>mean</th>\n",
       "      <td>37.242208</td>\n",
       "      <td>36.987877</td>\n",
       "      <td>73.305921</td>\n",
       "      <td>76.842965</td>\n",
       "    </tr>\n",
       "    <tr>\n",
       "      <th>std</th>\n",
       "      <td>15.883968</td>\n",
       "      <td>11.491292</td>\n",
       "      <td>74.482145</td>\n",
       "      <td>82.043952</td>\n",
       "    </tr>\n",
       "    <tr>\n",
       "      <th>min</th>\n",
       "      <td>0.000000</td>\n",
       "      <td>0.000000</td>\n",
       "      <td>0.000000</td>\n",
       "      <td>0.000000</td>\n",
       "    </tr>\n",
       "    <tr>\n",
       "      <th>25%</th>\n",
       "      <td>26.140000</td>\n",
       "      <td>30.190000</td>\n",
       "      <td>26.910000</td>\n",
       "      <td>23.310000</td>\n",
       "    </tr>\n",
       "    <tr>\n",
       "      <th>50%</th>\n",
       "      <td>30.720000</td>\n",
       "      <td>34.840000</td>\n",
       "      <td>52.960000</td>\n",
       "      <td>50.270000</td>\n",
       "    </tr>\n",
       "    <tr>\n",
       "      <th>75%</th>\n",
       "      <td>46.830000</td>\n",
       "      <td>43.075000</td>\n",
       "      <td>85.940000</td>\n",
       "      <td>95.800000</td>\n",
       "    </tr>\n",
       "    <tr>\n",
       "      <th>max</th>\n",
       "      <td>68.740000</td>\n",
       "      <td>76.640000</td>\n",
       "      <td>348.720000</td>\n",
       "      <td>397.380000</td>\n",
       "    </tr>\n",
       "  </tbody>\n",
       "</table>\n",
       "</div>"
      ],
      "text/plain": [
       "       nuclear_generation_actual  nuclear_generation_estimated  \\\n",
       "count                2967.000000                   2967.000000   \n",
       "mean                   37.242208                     36.987877   \n",
       "std                    15.883968                     11.491292   \n",
       "min                     0.000000                      0.000000   \n",
       "25%                    26.140000                     30.190000   \n",
       "50%                    30.720000                     34.840000   \n",
       "75%                    46.830000                     43.075000   \n",
       "max                    68.740000                     76.640000   \n",
       "\n",
       "       hydro_generation_actual  hydro_generation_estimated  \n",
       "count              4945.000000                 4945.000000  \n",
       "mean                 73.305921                   76.842965  \n",
       "std                  74.482145                   82.043952  \n",
       "min                   0.000000                    0.000000  \n",
       "25%                  26.910000                   23.310000  \n",
       "50%                  52.960000                   50.270000  \n",
       "75%                  85.940000                   95.800000  \n",
       "max                 348.720000                  397.380000  "
      ]
     },
     "execution_count": 15,
     "metadata": {},
     "output_type": "execute_result"
    }
   ],
   "source": [
    "power_df.describe()"
   ]
  },
  {
   "cell_type": "code",
   "execution_count": 16,
   "metadata": {},
   "outputs": [
    {
     "data": {
      "text/html": [
       "<div>\n",
       "<style scoped>\n",
       "    .dataframe tbody tr th:only-of-type {\n",
       "        vertical-align: middle;\n",
       "    }\n",
       "\n",
       "    .dataframe tbody tr th {\n",
       "        vertical-align: top;\n",
       "    }\n",
       "\n",
       "    .dataframe thead th {\n",
       "        text-align: right;\n",
       "    }\n",
       "</style>\n",
       "<table border=\"1\" class=\"dataframe\">\n",
       "  <thead>\n",
       "    <tr style=\"text-align: right;\">\n",
       "      <th></th>\n",
       "      <th>area</th>\n",
       "      <th>national_share</th>\n",
       "    </tr>\n",
       "  </thead>\n",
       "  <tbody>\n",
       "    <tr>\n",
       "      <th>count</th>\n",
       "      <td>34.000000</td>\n",
       "      <td>34.000000</td>\n",
       "    </tr>\n",
       "    <tr>\n",
       "      <th>mean</th>\n",
       "      <td>92889.117647</td>\n",
       "      <td>2.826265</td>\n",
       "    </tr>\n",
       "    <tr>\n",
       "      <th>std</th>\n",
       "      <td>95464.810113</td>\n",
       "      <td>2.914077</td>\n",
       "    </tr>\n",
       "    <tr>\n",
       "      <th>min</th>\n",
       "      <td>114.000000</td>\n",
       "      <td>0.003000</td>\n",
       "    </tr>\n",
       "    <tr>\n",
       "      <th>25%</th>\n",
       "      <td>21392.500000</td>\n",
       "      <td>0.650000</td>\n",
       "    </tr>\n",
       "    <tr>\n",
       "      <th>50%</th>\n",
       "      <td>57409.500000</td>\n",
       "      <td>1.750000</td>\n",
       "    </tr>\n",
       "    <tr>\n",
       "      <th>75%</th>\n",
       "      <td>133907.750000</td>\n",
       "      <td>4.070000</td>\n",
       "    </tr>\n",
       "    <tr>\n",
       "      <th>max</th>\n",
       "      <td>342239.000000</td>\n",
       "      <td>10.550000</td>\n",
       "    </tr>\n",
       "  </tbody>\n",
       "</table>\n",
       "</div>"
      ],
      "text/plain": [
       "                area  national_share\n",
       "count      34.000000       34.000000\n",
       "mean    92889.117647        2.826265\n",
       "std     95464.810113        2.914077\n",
       "min       114.000000        0.003000\n",
       "25%     21392.500000        0.650000\n",
       "50%     57409.500000        1.750000\n",
       "75%    133907.750000        4.070000\n",
       "max    342239.000000       10.550000"
      ]
     },
     "execution_count": 16,
     "metadata": {},
     "output_type": "execute_result"
    }
   ],
   "source": [
    "states_df.describe()"
   ]
  },
  {
   "cell_type": "markdown",
   "metadata": {},
   "source": [
    "### Insight\n",
    "- not all columns are correctly data-typed\n",
    "- there are missing values in nuclear\n",
    "- hydro is twice as high as nuclear\n",
    "- ..."
   ]
  },
  {
   "cell_type": "markdown",
   "metadata": {
    "colab_type": "text",
    "id": "zY4lJY_Rp-Uj"
   },
   "source": [
    "## Find if there are any null values in both the dataframes, if there are, what is the possile strategy to deal with them?"
   ]
  },
  {
   "cell_type": "code",
   "execution_count": 17,
   "metadata": {
    "colab": {},
    "colab_type": "code",
    "id": "jBU-3zSIqEyf"
   },
   "outputs": [
    {
     "data": {
      "text/plain": [
       "date                               0\n",
       "region                             0\n",
       "thermal_generation_actual          0\n",
       "thermal_generation_estimated       0\n",
       "nuclear_generation_actual       1978\n",
       "nuclear_generation_estimated    1978\n",
       "hydro_generation_actual            0\n",
       "hydro_generation_estimated         0\n",
       "dtype: int64"
      ]
     },
     "execution_count": 17,
     "metadata": {},
     "output_type": "execute_result"
    }
   ],
   "source": [
    "power_df.isnull().sum()"
   ]
  },
  {
   "cell_type": "code",
   "execution_count": 18,
   "metadata": {},
   "outputs": [
    {
     "data": {
      "text/plain": [
       "state             0\n",
       "area              0\n",
       "region            0\n",
       "national_share    0\n",
       "dtype: int64"
      ]
     },
     "execution_count": 18,
     "metadata": {},
     "output_type": "execute_result"
    }
   ],
   "source": [
    "states_df.isnull().sum()"
   ]
  },
  {
   "cell_type": "markdown",
   "metadata": {
    "colab_type": "text",
    "id": "WJf1HQjiqFUv"
   },
   "source": [
    "## Subset the dataframe with only the null values and check for pattern"
   ]
  },
  {
   "cell_type": "code",
   "execution_count": 19,
   "metadata": {
    "colab": {},
    "colab_type": "code",
    "id": "CFEBkmJCqNr6"
   },
   "outputs": [
    {
     "data": {
      "text/plain": [
       "array(['Eastern', 'NorthEastern'], dtype=object)"
      ]
     },
     "execution_count": 19,
     "metadata": {},
     "output_type": "execute_result"
    }
   ],
   "source": [
    "power_df.loc[power_df.nuclear_generation_actual.isnull(), 'region'].unique()"
   ]
  },
  {
   "cell_type": "code",
   "execution_count": 20,
   "metadata": {},
   "outputs": [
    {
     "data": {
      "text/plain": [
       "array(['Eastern', 'NorthEastern'], dtype=object)"
      ]
     },
     "execution_count": 20,
     "metadata": {},
     "output_type": "execute_result"
    }
   ],
   "source": [
    "power_df.loc[power_df.nuclear_generation_estimated.isnull(), 'region'].unique()"
   ]
  },
  {
   "cell_type": "markdown",
   "metadata": {},
   "source": [
    "all the missing values are from Eastern and NorthEastern regions. Do these regions have no nuclear plants?"
   ]
  },
  {
   "cell_type": "code",
   "execution_count": 21,
   "metadata": {},
   "outputs": [
    {
     "data": {
      "text/html": [
       "<div>\n",
       "<style scoped>\n",
       "    .dataframe tbody tr th:only-of-type {\n",
       "        vertical-align: middle;\n",
       "    }\n",
       "\n",
       "    .dataframe tbody tr th {\n",
       "        vertical-align: top;\n",
       "    }\n",
       "\n",
       "    .dataframe thead th {\n",
       "        text-align: right;\n",
       "    }\n",
       "</style>\n",
       "<table border=\"1\" class=\"dataframe\">\n",
       "  <thead>\n",
       "    <tr style=\"text-align: right;\">\n",
       "      <th></th>\n",
       "      <th>nuclear_generation_actual</th>\n",
       "      <th>nuclear_generation_estimated</th>\n",
       "      <th>hydro_generation_actual</th>\n",
       "      <th>hydro_generation_estimated</th>\n",
       "    </tr>\n",
       "    <tr>\n",
       "      <th>region</th>\n",
       "      <th></th>\n",
       "      <th></th>\n",
       "      <th></th>\n",
       "      <th></th>\n",
       "    </tr>\n",
       "  </thead>\n",
       "  <tbody>\n",
       "    <tr>\n",
       "      <th>Eastern</th>\n",
       "      <td>0.00</td>\n",
       "      <td>0.00</td>\n",
       "      <td>48686.62</td>\n",
       "      <td>52461.95</td>\n",
       "    </tr>\n",
       "    <tr>\n",
       "      <th>NorthEastern</th>\n",
       "      <td>0.00</td>\n",
       "      <td>0.00</td>\n",
       "      <td>17612.32</td>\n",
       "      <td>14058.66</td>\n",
       "    </tr>\n",
       "    <tr>\n",
       "      <th>Northern</th>\n",
       "      <td>26964.08</td>\n",
       "      <td>31378.94</td>\n",
       "      <td>188854.16</td>\n",
       "      <td>201204.03</td>\n",
       "    </tr>\n",
       "    <tr>\n",
       "      <th>Southern</th>\n",
       "      <td>55855.21</td>\n",
       "      <td>46483.24</td>\n",
       "      <td>71109.34</td>\n",
       "      <td>77083.80</td>\n",
       "    </tr>\n",
       "    <tr>\n",
       "      <th>Western</th>\n",
       "      <td>27678.34</td>\n",
       "      <td>31880.85</td>\n",
       "      <td>36235.34</td>\n",
       "      <td>35180.02</td>\n",
       "    </tr>\n",
       "  </tbody>\n",
       "</table>\n",
       "</div>"
      ],
      "text/plain": [
       "              nuclear_generation_actual  nuclear_generation_estimated  \\\n",
       "region                                                                  \n",
       "Eastern                            0.00                          0.00   \n",
       "NorthEastern                       0.00                          0.00   \n",
       "Northern                       26964.08                      31378.94   \n",
       "Southern                       55855.21                      46483.24   \n",
       "Western                        27678.34                      31880.85   \n",
       "\n",
       "              hydro_generation_actual  hydro_generation_estimated  \n",
       "region                                                             \n",
       "Eastern                      48686.62                    52461.95  \n",
       "NorthEastern                 17612.32                    14058.66  \n",
       "Northern                    188854.16                   201204.03  \n",
       "Southern                     71109.34                    77083.80  \n",
       "Western                      36235.34                    35180.02  "
      ]
     },
     "execution_count": 21,
     "metadata": {},
     "output_type": "execute_result"
    }
   ],
   "source": [
    "power_df.groupby('region').sum()"
   ]
  },
  {
   "cell_type": "markdown",
   "metadata": {
    "colab_type": "text",
    "id": "ww5cCZE8qOr1"
   },
   "source": [
    "### Nuclear Generation columns are empty for Eastern and NorthEastern region. Could be due to no nuclear plants in that region.So, Replacing the NaN values with 0"
   ]
  },
  {
   "cell_type": "code",
   "execution_count": 22,
   "metadata": {
    "colab": {},
    "colab_type": "code",
    "id": "dPzEGB46qTaW"
   },
   "outputs": [
    {
     "data": {
      "text/plain": [
       "date                            0\n",
       "region                          0\n",
       "thermal_generation_actual       0\n",
       "thermal_generation_estimated    0\n",
       "nuclear_generation_actual       0\n",
       "nuclear_generation_estimated    0\n",
       "hydro_generation_actual         0\n",
       "hydro_generation_estimated      0\n",
       "dtype: int64"
      ]
     },
     "execution_count": 22,
     "metadata": {},
     "output_type": "execute_result"
    }
   ],
   "source": [
    "power_df.fillna(0, inplace=True)\n",
    "power_df.isnull().sum()"
   ]
  },
  {
   "cell_type": "markdown",
   "metadata": {
    "colab_type": "text",
    "id": "DYV6cxi7qUZ1"
   },
   "source": [
    "## Covert the thermal generation values to float in the power_df"
   ]
  },
  {
   "cell_type": "code",
   "execution_count": 23,
   "metadata": {
    "colab": {},
    "colab_type": "code",
    "id": "9Vk5MG32qbm6"
   },
   "outputs": [
    {
     "data": {
      "text/plain": [
       "date                             object\n",
       "region                           object\n",
       "thermal_generation_actual        object\n",
       "thermal_generation_estimated     object\n",
       "nuclear_generation_actual       float64\n",
       "nuclear_generation_estimated    float64\n",
       "hydro_generation_actual         float64\n",
       "hydro_generation_estimated      float64\n",
       "dtype: object"
      ]
     },
     "execution_count": 23,
     "metadata": {},
     "output_type": "execute_result"
    }
   ],
   "source": [
    "power_df.dtypes"
   ]
  },
  {
   "cell_type": "code",
   "execution_count": 24,
   "metadata": {
    "tags": [
     "raises-exception"
    ]
   },
   "outputs": [
    {
     "ename": "ValueError",
     "evalue": "could not convert string to float: '1,106.89'",
     "output_type": "error",
     "traceback": [
      "\u001b[0;31m---------------------------------------------------------------------------\u001b[0m",
      "\u001b[0;31mValueError\u001b[0m                                Traceback (most recent call last)",
      "\u001b[0;32m<ipython-input-24-b3fb48f7e3ba>\u001b[0m in \u001b[0;36m<module>\u001b[0;34m\u001b[0m\n\u001b[0;32m----> 1\u001b[0;31m \u001b[0mpower_df\u001b[0m\u001b[0;34m.\u001b[0m\u001b[0mthermal_generation_actual\u001b[0m\u001b[0;34m.\u001b[0m\u001b[0mastype\u001b[0m\u001b[0;34m(\u001b[0m\u001b[0mfloat\u001b[0m\u001b[0;34m)\u001b[0m\u001b[0;34m\u001b[0m\u001b[0m\n\u001b[0m",
      "\u001b[0;32m~/.local/lib/python3.7/site-packages/pandas/core/generic.py\u001b[0m in \u001b[0;36mastype\u001b[0;34m(self, dtype, copy, errors)\u001b[0m\n\u001b[1;32m   5696\u001b[0m         \u001b[0;32melse\u001b[0m\u001b[0;34m:\u001b[0m\u001b[0;34m\u001b[0m\u001b[0m\n\u001b[1;32m   5697\u001b[0m             \u001b[0;31m# else, only a single dtype is given\u001b[0m\u001b[0;34m\u001b[0m\u001b[0;34m\u001b[0m\u001b[0m\n\u001b[0;32m-> 5698\u001b[0;31m             \u001b[0mnew_data\u001b[0m \u001b[0;34m=\u001b[0m \u001b[0mself\u001b[0m\u001b[0;34m.\u001b[0m\u001b[0m_data\u001b[0m\u001b[0;34m.\u001b[0m\u001b[0mastype\u001b[0m\u001b[0;34m(\u001b[0m\u001b[0mdtype\u001b[0m\u001b[0;34m=\u001b[0m\u001b[0mdtype\u001b[0m\u001b[0;34m,\u001b[0m \u001b[0mcopy\u001b[0m\u001b[0;34m=\u001b[0m\u001b[0mcopy\u001b[0m\u001b[0;34m,\u001b[0m \u001b[0merrors\u001b[0m\u001b[0;34m=\u001b[0m\u001b[0merrors\u001b[0m\u001b[0;34m)\u001b[0m\u001b[0;34m\u001b[0m\u001b[0m\n\u001b[0m\u001b[1;32m   5699\u001b[0m             \u001b[0;32mreturn\u001b[0m \u001b[0mself\u001b[0m\u001b[0;34m.\u001b[0m\u001b[0m_constructor\u001b[0m\u001b[0;34m(\u001b[0m\u001b[0mnew_data\u001b[0m\u001b[0;34m)\u001b[0m\u001b[0;34m.\u001b[0m\u001b[0m__finalize__\u001b[0m\u001b[0;34m(\u001b[0m\u001b[0mself\u001b[0m\u001b[0;34m)\u001b[0m\u001b[0;34m\u001b[0m\u001b[0m\n\u001b[1;32m   5700\u001b[0m \u001b[0;34m\u001b[0m\u001b[0m\n",
      "\u001b[0;32m~/.local/lib/python3.7/site-packages/pandas/core/internals/managers.py\u001b[0m in \u001b[0;36mastype\u001b[0;34m(self, dtype, copy, errors)\u001b[0m\n\u001b[1;32m    580\u001b[0m \u001b[0;34m\u001b[0m\u001b[0m\n\u001b[1;32m    581\u001b[0m     \u001b[0;32mdef\u001b[0m \u001b[0mastype\u001b[0m\u001b[0;34m(\u001b[0m\u001b[0mself\u001b[0m\u001b[0;34m,\u001b[0m \u001b[0mdtype\u001b[0m\u001b[0;34m,\u001b[0m \u001b[0mcopy\u001b[0m\u001b[0;34m:\u001b[0m \u001b[0mbool\u001b[0m \u001b[0;34m=\u001b[0m \u001b[0;32mFalse\u001b[0m\u001b[0;34m,\u001b[0m \u001b[0merrors\u001b[0m\u001b[0;34m:\u001b[0m \u001b[0mstr\u001b[0m \u001b[0;34m=\u001b[0m \u001b[0;34m\"raise\"\u001b[0m\u001b[0;34m)\u001b[0m\u001b[0;34m:\u001b[0m\u001b[0;34m\u001b[0m\u001b[0m\n\u001b[0;32m--> 582\u001b[0;31m         \u001b[0;32mreturn\u001b[0m \u001b[0mself\u001b[0m\u001b[0;34m.\u001b[0m\u001b[0mapply\u001b[0m\u001b[0;34m(\u001b[0m\u001b[0;34m\"astype\"\u001b[0m\u001b[0;34m,\u001b[0m \u001b[0mdtype\u001b[0m\u001b[0;34m=\u001b[0m\u001b[0mdtype\u001b[0m\u001b[0;34m,\u001b[0m \u001b[0mcopy\u001b[0m\u001b[0;34m=\u001b[0m\u001b[0mcopy\u001b[0m\u001b[0;34m,\u001b[0m \u001b[0merrors\u001b[0m\u001b[0;34m=\u001b[0m\u001b[0merrors\u001b[0m\u001b[0;34m)\u001b[0m\u001b[0;34m\u001b[0m\u001b[0m\n\u001b[0m\u001b[1;32m    583\u001b[0m \u001b[0;34m\u001b[0m\u001b[0m\n\u001b[1;32m    584\u001b[0m     \u001b[0;32mdef\u001b[0m \u001b[0mconvert\u001b[0m\u001b[0;34m(\u001b[0m\u001b[0mself\u001b[0m\u001b[0;34m,\u001b[0m \u001b[0;34m**\u001b[0m\u001b[0mkwargs\u001b[0m\u001b[0;34m)\u001b[0m\u001b[0;34m:\u001b[0m\u001b[0;34m\u001b[0m\u001b[0m\n",
      "\u001b[0;32m~/.local/lib/python3.7/site-packages/pandas/core/internals/managers.py\u001b[0m in \u001b[0;36mapply\u001b[0;34m(self, f, filter, **kwargs)\u001b[0m\n\u001b[1;32m    440\u001b[0m                 \u001b[0mapplied\u001b[0m \u001b[0;34m=\u001b[0m \u001b[0mb\u001b[0m\u001b[0;34m.\u001b[0m\u001b[0mapply\u001b[0m\u001b[0;34m(\u001b[0m\u001b[0mf\u001b[0m\u001b[0;34m,\u001b[0m \u001b[0;34m**\u001b[0m\u001b[0mkwargs\u001b[0m\u001b[0;34m)\u001b[0m\u001b[0;34m\u001b[0m\u001b[0m\n\u001b[1;32m    441\u001b[0m             \u001b[0;32melse\u001b[0m\u001b[0;34m:\u001b[0m\u001b[0;34m\u001b[0m\u001b[0m\n\u001b[0;32m--> 442\u001b[0;31m                 \u001b[0mapplied\u001b[0m \u001b[0;34m=\u001b[0m \u001b[0mgetattr\u001b[0m\u001b[0;34m(\u001b[0m\u001b[0mb\u001b[0m\u001b[0;34m,\u001b[0m \u001b[0mf\u001b[0m\u001b[0;34m)\u001b[0m\u001b[0;34m(\u001b[0m\u001b[0;34m**\u001b[0m\u001b[0mkwargs\u001b[0m\u001b[0;34m)\u001b[0m\u001b[0;34m\u001b[0m\u001b[0m\n\u001b[0m\u001b[1;32m    443\u001b[0m             \u001b[0mresult_blocks\u001b[0m \u001b[0;34m=\u001b[0m \u001b[0m_extend_blocks\u001b[0m\u001b[0;34m(\u001b[0m\u001b[0mapplied\u001b[0m\u001b[0;34m,\u001b[0m \u001b[0mresult_blocks\u001b[0m\u001b[0;34m)\u001b[0m\u001b[0;34m\u001b[0m\u001b[0m\n\u001b[1;32m    444\u001b[0m \u001b[0;34m\u001b[0m\u001b[0m\n",
      "\u001b[0;32m~/.local/lib/python3.7/site-packages/pandas/core/internals/blocks.py\u001b[0m in \u001b[0;36mastype\u001b[0;34m(self, dtype, copy, errors)\u001b[0m\n\u001b[1;32m    623\u001b[0m             \u001b[0mvals1d\u001b[0m \u001b[0;34m=\u001b[0m \u001b[0mvalues\u001b[0m\u001b[0;34m.\u001b[0m\u001b[0mravel\u001b[0m\u001b[0;34m(\u001b[0m\u001b[0;34m)\u001b[0m\u001b[0;34m\u001b[0m\u001b[0m\n\u001b[1;32m    624\u001b[0m             \u001b[0;32mtry\u001b[0m\u001b[0;34m:\u001b[0m\u001b[0;34m\u001b[0m\u001b[0m\n\u001b[0;32m--> 625\u001b[0;31m                 \u001b[0mvalues\u001b[0m \u001b[0;34m=\u001b[0m \u001b[0mastype_nansafe\u001b[0m\u001b[0;34m(\u001b[0m\u001b[0mvals1d\u001b[0m\u001b[0;34m,\u001b[0m \u001b[0mdtype\u001b[0m\u001b[0;34m,\u001b[0m \u001b[0mcopy\u001b[0m\u001b[0;34m=\u001b[0m\u001b[0;32mTrue\u001b[0m\u001b[0;34m)\u001b[0m\u001b[0;34m\u001b[0m\u001b[0m\n\u001b[0m\u001b[1;32m    626\u001b[0m             \u001b[0;32mexcept\u001b[0m \u001b[0;34m(\u001b[0m\u001b[0mValueError\u001b[0m\u001b[0;34m,\u001b[0m \u001b[0mTypeError\u001b[0m\u001b[0;34m)\u001b[0m\u001b[0;34m:\u001b[0m\u001b[0;34m\u001b[0m\u001b[0m\n\u001b[1;32m    627\u001b[0m                 \u001b[0;31m# e.g. astype_nansafe can fail on object-dtype of strings\u001b[0m\u001b[0;34m\u001b[0m\u001b[0;34m\u001b[0m\u001b[0m\n",
      "\u001b[0;32m~/.local/lib/python3.7/site-packages/pandas/core/dtypes/cast.py\u001b[0m in \u001b[0;36mastype_nansafe\u001b[0;34m(arr, dtype, copy, skipna)\u001b[0m\n\u001b[1;32m    895\u001b[0m     \u001b[0;32mif\u001b[0m \u001b[0mcopy\u001b[0m \u001b[0;32mor\u001b[0m \u001b[0mis_object_dtype\u001b[0m\u001b[0;34m(\u001b[0m\u001b[0marr\u001b[0m\u001b[0;34m)\u001b[0m \u001b[0;32mor\u001b[0m \u001b[0mis_object_dtype\u001b[0m\u001b[0;34m(\u001b[0m\u001b[0mdtype\u001b[0m\u001b[0;34m)\u001b[0m\u001b[0;34m:\u001b[0m\u001b[0;34m\u001b[0m\u001b[0m\n\u001b[1;32m    896\u001b[0m         \u001b[0;31m# Explicit copy, or required since NumPy can't view from / to object.\u001b[0m\u001b[0;34m\u001b[0m\u001b[0;34m\u001b[0m\u001b[0m\n\u001b[0;32m--> 897\u001b[0;31m         \u001b[0;32mreturn\u001b[0m \u001b[0marr\u001b[0m\u001b[0;34m.\u001b[0m\u001b[0mastype\u001b[0m\u001b[0;34m(\u001b[0m\u001b[0mdtype\u001b[0m\u001b[0;34m,\u001b[0m \u001b[0mcopy\u001b[0m\u001b[0;34m=\u001b[0m\u001b[0;32mTrue\u001b[0m\u001b[0;34m)\u001b[0m\u001b[0;34m\u001b[0m\u001b[0m\n\u001b[0m\u001b[1;32m    898\u001b[0m \u001b[0;34m\u001b[0m\u001b[0m\n\u001b[1;32m    899\u001b[0m     \u001b[0;32mreturn\u001b[0m \u001b[0marr\u001b[0m\u001b[0;34m.\u001b[0m\u001b[0mview\u001b[0m\u001b[0;34m(\u001b[0m\u001b[0mdtype\u001b[0m\u001b[0;34m)\u001b[0m\u001b[0;34m\u001b[0m\u001b[0m\n",
      "\u001b[0;31mValueError\u001b[0m: could not convert string to float: '1,106.89'"
     ]
    }
   ],
   "source": [
    "power_df.thermal_generation_actual.astype(float)"
   ]
  },
  {
   "cell_type": "code",
   "execution_count": 25,
   "metadata": {},
   "outputs": [
    {
     "data": {
      "text/plain": [
       "0      624.23\n",
       "1    1,106.89\n",
       "2      576.66\n",
       "3      441.02\n",
       "4       29.11\n",
       "Name: thermal_generation_actual, dtype: object"
      ]
     },
     "execution_count": 25,
     "metadata": {},
     "output_type": "execute_result"
    }
   ],
   "source": [
    "power_df.thermal_generation_actual.head()"
   ]
  },
  {
   "cell_type": "code",
   "execution_count": 26,
   "metadata": {},
   "outputs": [
    {
     "data": {
      "text/plain": [
       "988"
      ]
     },
     "execution_count": 26,
     "metadata": {},
     "output_type": "execute_result"
    }
   ],
   "source": [
    "power_df.thermal_generation_actual.str.contains(',').sum()"
   ]
  },
  {
   "cell_type": "code",
   "execution_count": 27,
   "metadata": {},
   "outputs": [
    {
     "data": {
      "text/plain": [
       "967"
      ]
     },
     "execution_count": 27,
     "metadata": {},
     "output_type": "execute_result"
    }
   ],
   "source": [
    "power_df.thermal_generation_estimated.str.contains(',').sum()"
   ]
  },
  {
   "cell_type": "code",
   "execution_count": 28,
   "metadata": {},
   "outputs": [
    {
     "data": {
      "text/plain": [
       "0       624.23\n",
       "1          NaN\n",
       "2       576.66\n",
       "3       441.02\n",
       "4        29.11\n",
       "         ...  \n",
       "4940    669.47\n",
       "4941       NaN\n",
       "4942    494.66\n",
       "4943    482.86\n",
       "4944     34.42\n",
       "Name: thermal_generation_actual, Length: 4945, dtype: float64"
      ]
     },
     "execution_count": 28,
     "metadata": {},
     "output_type": "execute_result"
    }
   ],
   "source": [
    "pd.to_numeric(power_df.thermal_generation_actual, errors='coerce')"
   ]
  },
  {
   "cell_type": "code",
   "execution_count": 29,
   "metadata": {},
   "outputs": [
    {
     "data": {
      "text/plain": [
       "date                             object\n",
       "region                           object\n",
       "thermal_generation_actual       float64\n",
       "thermal_generation_estimated    float64\n",
       "nuclear_generation_actual       float64\n",
       "nuclear_generation_estimated    float64\n",
       "hydro_generation_actual         float64\n",
       "hydro_generation_estimated      float64\n",
       "dtype: object"
      ]
     },
     "execution_count": 29,
     "metadata": {},
     "output_type": "execute_result"
    }
   ],
   "source": [
    "power_df.thermal_generation_actual = power_df.thermal_generation_actual.str.replace(',','').astype(float)\n",
    "power_df.thermal_generation_estimated = power_df.thermal_generation_estimated.str.replace(',','').astype(float)\n",
    "power_df.dtypes"
   ]
  },
  {
   "cell_type": "code",
   "execution_count": 30,
   "metadata": {},
   "outputs": [
    {
     "data": {
      "text/html": [
       "<div>\n",
       "<style scoped>\n",
       "    .dataframe tbody tr th:only-of-type {\n",
       "        vertical-align: middle;\n",
       "    }\n",
       "\n",
       "    .dataframe tbody tr th {\n",
       "        vertical-align: top;\n",
       "    }\n",
       "\n",
       "    .dataframe thead th {\n",
       "        text-align: right;\n",
       "    }\n",
       "</style>\n",
       "<table border=\"1\" class=\"dataframe\">\n",
       "  <thead>\n",
       "    <tr style=\"text-align: right;\">\n",
       "      <th></th>\n",
       "      <th>thermal_generation_actual</th>\n",
       "      <th>thermal_generation_estimated</th>\n",
       "      <th>nuclear_generation_actual</th>\n",
       "      <th>nuclear_generation_estimated</th>\n",
       "      <th>hydro_generation_actual</th>\n",
       "      <th>hydro_generation_estimated</th>\n",
       "    </tr>\n",
       "  </thead>\n",
       "  <tbody>\n",
       "    <tr>\n",
       "      <th>count</th>\n",
       "      <td>4945.000000</td>\n",
       "      <td>4945.000000</td>\n",
       "      <td>4945.000000</td>\n",
       "      <td>4945.000000</td>\n",
       "      <td>4945.000000</td>\n",
       "      <td>4945.000000</td>\n",
       "    </tr>\n",
       "    <tr>\n",
       "      <th>mean</th>\n",
       "      <td>603.978358</td>\n",
       "      <td>575.395116</td>\n",
       "      <td>22.345325</td>\n",
       "      <td>22.192726</td>\n",
       "      <td>73.305921</td>\n",
       "      <td>76.842965</td>\n",
       "    </tr>\n",
       "    <tr>\n",
       "      <th>std</th>\n",
       "      <td>383.534208</td>\n",
       "      <td>383.387299</td>\n",
       "      <td>22.006882</td>\n",
       "      <td>20.189857</td>\n",
       "      <td>74.482145</td>\n",
       "      <td>82.043952</td>\n",
       "    </tr>\n",
       "    <tr>\n",
       "      <th>min</th>\n",
       "      <td>12.340000</td>\n",
       "      <td>12.380000</td>\n",
       "      <td>0.000000</td>\n",
       "      <td>0.000000</td>\n",
       "      <td>0.000000</td>\n",
       "      <td>0.000000</td>\n",
       "    </tr>\n",
       "    <tr>\n",
       "      <th>25%</th>\n",
       "      <td>470.050000</td>\n",
       "      <td>427.460000</td>\n",
       "      <td>0.000000</td>\n",
       "      <td>0.000000</td>\n",
       "      <td>26.910000</td>\n",
       "      <td>23.310000</td>\n",
       "    </tr>\n",
       "    <tr>\n",
       "      <th>50%</th>\n",
       "      <td>615.280000</td>\n",
       "      <td>535.980000</td>\n",
       "      <td>25.130000</td>\n",
       "      <td>28.460000</td>\n",
       "      <td>52.960000</td>\n",
       "      <td>50.270000</td>\n",
       "    </tr>\n",
       "    <tr>\n",
       "      <th>75%</th>\n",
       "      <td>689.530000</td>\n",
       "      <td>672.740000</td>\n",
       "      <td>34.020000</td>\n",
       "      <td>36.600000</td>\n",
       "      <td>85.940000</td>\n",
       "      <td>95.800000</td>\n",
       "    </tr>\n",
       "    <tr>\n",
       "      <th>max</th>\n",
       "      <td>1395.970000</td>\n",
       "      <td>1442.380000</td>\n",
       "      <td>68.740000</td>\n",
       "      <td>76.640000</td>\n",
       "      <td>348.720000</td>\n",
       "      <td>397.380000</td>\n",
       "    </tr>\n",
       "  </tbody>\n",
       "</table>\n",
       "</div>"
      ],
      "text/plain": [
       "       thermal_generation_actual  thermal_generation_estimated  \\\n",
       "count                4945.000000                   4945.000000   \n",
       "mean                  603.978358                    575.395116   \n",
       "std                   383.534208                    383.387299   \n",
       "min                    12.340000                     12.380000   \n",
       "25%                   470.050000                    427.460000   \n",
       "50%                   615.280000                    535.980000   \n",
       "75%                   689.530000                    672.740000   \n",
       "max                  1395.970000                   1442.380000   \n",
       "\n",
       "       nuclear_generation_actual  nuclear_generation_estimated  \\\n",
       "count                4945.000000                   4945.000000   \n",
       "mean                   22.345325                     22.192726   \n",
       "std                    22.006882                     20.189857   \n",
       "min                     0.000000                      0.000000   \n",
       "25%                     0.000000                      0.000000   \n",
       "50%                    25.130000                     28.460000   \n",
       "75%                    34.020000                     36.600000   \n",
       "max                    68.740000                     76.640000   \n",
       "\n",
       "       hydro_generation_actual  hydro_generation_estimated  \n",
       "count              4945.000000                 4945.000000  \n",
       "mean                 73.305921                   76.842965  \n",
       "std                  74.482145                   82.043952  \n",
       "min                   0.000000                    0.000000  \n",
       "25%                  26.910000                   23.310000  \n",
       "50%                  52.960000                   50.270000  \n",
       "75%                  85.940000                   95.800000  \n",
       "max                 348.720000                  397.380000  "
      ]
     },
     "execution_count": 30,
     "metadata": {},
     "output_type": "execute_result"
    }
   ],
   "source": [
    "power_df.describe()"
   ]
  },
  {
   "cell_type": "markdown",
   "metadata": {
    "colab_type": "text",
    "id": "po8qVHobqcTO"
   },
   "source": [
    "## Coverting the date values to DateTime format"
   ]
  },
  {
   "cell_type": "code",
   "execution_count": 31,
   "metadata": {
    "colab": {},
    "colab_type": "code",
    "id": "ALWIMSmIqg6f"
   },
   "outputs": [
    {
     "data": {
      "text/plain": [
       "date                            datetime64[ns]\n",
       "region                                  object\n",
       "thermal_generation_actual              float64\n",
       "thermal_generation_estimated           float64\n",
       "nuclear_generation_actual              float64\n",
       "nuclear_generation_estimated           float64\n",
       "hydro_generation_actual                float64\n",
       "hydro_generation_estimated             float64\n",
       "dtype: object"
      ]
     },
     "execution_count": 31,
     "metadata": {},
     "output_type": "execute_result"
    }
   ],
   "source": [
    "power_df.date = pd.to_datetime(power_df.date)\n",
    "power_df.dtypes"
   ]
  },
  {
   "cell_type": "code",
   "execution_count": 32,
   "metadata": {},
   "outputs": [
    {
     "data": {
      "text/html": [
       "<div>\n",
       "<style scoped>\n",
       "    .dataframe tbody tr th:only-of-type {\n",
       "        vertical-align: middle;\n",
       "    }\n",
       "\n",
       "    .dataframe tbody tr th {\n",
       "        vertical-align: top;\n",
       "    }\n",
       "\n",
       "    .dataframe thead th {\n",
       "        text-align: right;\n",
       "    }\n",
       "</style>\n",
       "<table border=\"1\" class=\"dataframe\">\n",
       "  <thead>\n",
       "    <tr style=\"text-align: right;\">\n",
       "      <th></th>\n",
       "      <th>date</th>\n",
       "      <th>region</th>\n",
       "      <th>thermal_generation_actual</th>\n",
       "      <th>thermal_generation_estimated</th>\n",
       "      <th>nuclear_generation_actual</th>\n",
       "      <th>nuclear_generation_estimated</th>\n",
       "      <th>hydro_generation_actual</th>\n",
       "      <th>hydro_generation_estimated</th>\n",
       "    </tr>\n",
       "  </thead>\n",
       "  <tbody>\n",
       "    <tr>\n",
       "      <th>0</th>\n",
       "      <td>2017-09-01</td>\n",
       "      <td>Northern</td>\n",
       "      <td>624.23</td>\n",
       "      <td>484.21</td>\n",
       "      <td>30.36</td>\n",
       "      <td>35.57</td>\n",
       "      <td>273.27</td>\n",
       "      <td>320.81</td>\n",
       "    </tr>\n",
       "    <tr>\n",
       "      <th>1</th>\n",
       "      <td>2017-09-01</td>\n",
       "      <td>Western</td>\n",
       "      <td>1106.89</td>\n",
       "      <td>1024.33</td>\n",
       "      <td>25.17</td>\n",
       "      <td>3.81</td>\n",
       "      <td>72.00</td>\n",
       "      <td>21.53</td>\n",
       "    </tr>\n",
       "    <tr>\n",
       "      <th>2</th>\n",
       "      <td>2017-09-01</td>\n",
       "      <td>Southern</td>\n",
       "      <td>576.66</td>\n",
       "      <td>578.55</td>\n",
       "      <td>62.73</td>\n",
       "      <td>49.80</td>\n",
       "      <td>111.57</td>\n",
       "      <td>64.78</td>\n",
       "    </tr>\n",
       "    <tr>\n",
       "      <th>3</th>\n",
       "      <td>2017-09-01</td>\n",
       "      <td>Eastern</td>\n",
       "      <td>441.02</td>\n",
       "      <td>429.39</td>\n",
       "      <td>0.00</td>\n",
       "      <td>0.00</td>\n",
       "      <td>85.94</td>\n",
       "      <td>69.36</td>\n",
       "    </tr>\n",
       "    <tr>\n",
       "      <th>4</th>\n",
       "      <td>2017-09-01</td>\n",
       "      <td>NorthEastern</td>\n",
       "      <td>29.11</td>\n",
       "      <td>15.91</td>\n",
       "      <td>0.00</td>\n",
       "      <td>0.00</td>\n",
       "      <td>24.64</td>\n",
       "      <td>21.21</td>\n",
       "    </tr>\n",
       "  </tbody>\n",
       "</table>\n",
       "</div>"
      ],
      "text/plain": [
       "        date        region  thermal_generation_actual  \\\n",
       "0 2017-09-01      Northern                     624.23   \n",
       "1 2017-09-01       Western                    1106.89   \n",
       "2 2017-09-01      Southern                     576.66   \n",
       "3 2017-09-01       Eastern                     441.02   \n",
       "4 2017-09-01  NorthEastern                      29.11   \n",
       "\n",
       "   thermal_generation_estimated  nuclear_generation_actual  \\\n",
       "0                        484.21                      30.36   \n",
       "1                       1024.33                      25.17   \n",
       "2                        578.55                      62.73   \n",
       "3                        429.39                       0.00   \n",
       "4                         15.91                       0.00   \n",
       "\n",
       "   nuclear_generation_estimated  hydro_generation_actual  \\\n",
       "0                         35.57                   273.27   \n",
       "1                          3.81                    72.00   \n",
       "2                         49.80                   111.57   \n",
       "3                          0.00                    85.94   \n",
       "4                          0.00                    24.64   \n",
       "\n",
       "   hydro_generation_estimated  \n",
       "0                      320.81  \n",
       "1                       21.53  \n",
       "2                       64.78  \n",
       "3                       69.36  \n",
       "4                       21.21  "
      ]
     },
     "execution_count": 32,
     "metadata": {},
     "output_type": "execute_result"
    }
   ],
   "source": [
    "power_df.head()"
   ]
  },
  {
   "cell_type": "markdown",
   "metadata": {
    "colab_type": "text",
    "id": "ZSuEUGEkqiGg"
   },
   "source": [
    "## Find out the region which has the highest number of states and find out which states they are.\n",
    "\n"
   ]
  },
  {
   "cell_type": "code",
   "execution_count": 33,
   "metadata": {
    "colab": {},
    "colab_type": "code",
    "id": "sBxti6YCqn4j"
   },
   "outputs": [
    {
     "data": {
      "text/html": [
       "<div>\n",
       "<style scoped>\n",
       "    .dataframe tbody tr th:only-of-type {\n",
       "        vertical-align: middle;\n",
       "    }\n",
       "\n",
       "    .dataframe tbody tr th {\n",
       "        vertical-align: top;\n",
       "    }\n",
       "\n",
       "    .dataframe thead th {\n",
       "        text-align: right;\n",
       "    }\n",
       "</style>\n",
       "<table border=\"1\" class=\"dataframe\">\n",
       "  <thead>\n",
       "    <tr style=\"text-align: right;\">\n",
       "      <th></th>\n",
       "      <th>state</th>\n",
       "      <th>area</th>\n",
       "      <th>region</th>\n",
       "      <th>national_share</th>\n",
       "    </tr>\n",
       "  </thead>\n",
       "  <tbody>\n",
       "    <tr>\n",
       "      <th>0</th>\n",
       "      <td>Rajasthan</td>\n",
       "      <td>342239</td>\n",
       "      <td>Northern</td>\n",
       "      <td>10.550</td>\n",
       "    </tr>\n",
       "    <tr>\n",
       "      <th>1</th>\n",
       "      <td>Madhya Pradesh</td>\n",
       "      <td>308350</td>\n",
       "      <td>Central</td>\n",
       "      <td>9.370</td>\n",
       "    </tr>\n",
       "    <tr>\n",
       "      <th>2</th>\n",
       "      <td>Maharashtra</td>\n",
       "      <td>307713</td>\n",
       "      <td>Western</td>\n",
       "      <td>9.360</td>\n",
       "    </tr>\n",
       "    <tr>\n",
       "      <th>3</th>\n",
       "      <td>Uttar Pradesh</td>\n",
       "      <td>240928</td>\n",
       "      <td>Northern</td>\n",
       "      <td>7.330</td>\n",
       "    </tr>\n",
       "    <tr>\n",
       "      <th>4</th>\n",
       "      <td>Gujarat</td>\n",
       "      <td>196024</td>\n",
       "      <td>Western</td>\n",
       "      <td>5.960</td>\n",
       "    </tr>\n",
       "    <tr>\n",
       "      <th>5</th>\n",
       "      <td>Karnataka</td>\n",
       "      <td>191791</td>\n",
       "      <td>Southern</td>\n",
       "      <td>5.830</td>\n",
       "    </tr>\n",
       "    <tr>\n",
       "      <th>6</th>\n",
       "      <td>Andhra Pradesh</td>\n",
       "      <td>162970</td>\n",
       "      <td>Southern</td>\n",
       "      <td>4.870</td>\n",
       "    </tr>\n",
       "    <tr>\n",
       "      <th>7</th>\n",
       "      <td>Odisha</td>\n",
       "      <td>155707</td>\n",
       "      <td>Eastern</td>\n",
       "      <td>4.730</td>\n",
       "    </tr>\n",
       "    <tr>\n",
       "      <th>8</th>\n",
       "      <td>Chhattisgarh</td>\n",
       "      <td>135191</td>\n",
       "      <td>Central</td>\n",
       "      <td>4.110</td>\n",
       "    </tr>\n",
       "    <tr>\n",
       "      <th>9</th>\n",
       "      <td>Tamil Nadu</td>\n",
       "      <td>130058</td>\n",
       "      <td>Southern</td>\n",
       "      <td>3.950</td>\n",
       "    </tr>\n",
       "    <tr>\n",
       "      <th>10</th>\n",
       "      <td>Telangana</td>\n",
       "      <td>112077</td>\n",
       "      <td>Southern</td>\n",
       "      <td>3.490</td>\n",
       "    </tr>\n",
       "    <tr>\n",
       "      <th>11</th>\n",
       "      <td>Bihar</td>\n",
       "      <td>94163</td>\n",
       "      <td>Eastern</td>\n",
       "      <td>2.860</td>\n",
       "    </tr>\n",
       "    <tr>\n",
       "      <th>12</th>\n",
       "      <td>West Bengal</td>\n",
       "      <td>88752</td>\n",
       "      <td>Eastern</td>\n",
       "      <td>2.700</td>\n",
       "    </tr>\n",
       "    <tr>\n",
       "      <th>13</th>\n",
       "      <td>Arunachal Pradesh</td>\n",
       "      <td>83743</td>\n",
       "      <td>NorthEastern</td>\n",
       "      <td>2.540</td>\n",
       "    </tr>\n",
       "    <tr>\n",
       "      <th>14</th>\n",
       "      <td>Jharkhand</td>\n",
       "      <td>79714</td>\n",
       "      <td>Eastern</td>\n",
       "      <td>2.420</td>\n",
       "    </tr>\n",
       "    <tr>\n",
       "      <th>15</th>\n",
       "      <td>Assam</td>\n",
       "      <td>78438</td>\n",
       "      <td>NorthEastern</td>\n",
       "      <td>2.380</td>\n",
       "    </tr>\n",
       "    <tr>\n",
       "      <th>16</th>\n",
       "      <td>Ladakh</td>\n",
       "      <td>59146</td>\n",
       "      <td>Northern</td>\n",
       "      <td>1.800</td>\n",
       "    </tr>\n",
       "    <tr>\n",
       "      <th>17</th>\n",
       "      <td>Himachal Pradesh</td>\n",
       "      <td>55673</td>\n",
       "      <td>Northern</td>\n",
       "      <td>1.700</td>\n",
       "    </tr>\n",
       "    <tr>\n",
       "      <th>18</th>\n",
       "      <td>Uttarakhand</td>\n",
       "      <td>53483</td>\n",
       "      <td>Northern</td>\n",
       "      <td>1.620</td>\n",
       "    </tr>\n",
       "    <tr>\n",
       "      <th>19</th>\n",
       "      <td>Punjab</td>\n",
       "      <td>50362</td>\n",
       "      <td>Northern</td>\n",
       "      <td>1.530</td>\n",
       "    </tr>\n",
       "    <tr>\n",
       "      <th>20</th>\n",
       "      <td>Haryana</td>\n",
       "      <td>44212</td>\n",
       "      <td>Northern</td>\n",
       "      <td>1.340</td>\n",
       "    </tr>\n",
       "    <tr>\n",
       "      <th>21</th>\n",
       "      <td>Jammu and Kashmir</td>\n",
       "      <td>42241</td>\n",
       "      <td>Northern</td>\n",
       "      <td>1.280</td>\n",
       "    </tr>\n",
       "    <tr>\n",
       "      <th>22</th>\n",
       "      <td>Kerala</td>\n",
       "      <td>38863</td>\n",
       "      <td>Southern</td>\n",
       "      <td>1.180</td>\n",
       "    </tr>\n",
       "    <tr>\n",
       "      <th>23</th>\n",
       "      <td>Meghalaya</td>\n",
       "      <td>22429</td>\n",
       "      <td>NorthEastern</td>\n",
       "      <td>0.680</td>\n",
       "    </tr>\n",
       "    <tr>\n",
       "      <th>24</th>\n",
       "      <td>Manipur</td>\n",
       "      <td>22327</td>\n",
       "      <td>NorthEastern</td>\n",
       "      <td>0.680</td>\n",
       "    </tr>\n",
       "    <tr>\n",
       "      <th>25</th>\n",
       "      <td>Mizoram</td>\n",
       "      <td>21081</td>\n",
       "      <td>NorthEastern</td>\n",
       "      <td>0.640</td>\n",
       "    </tr>\n",
       "    <tr>\n",
       "      <th>26</th>\n",
       "      <td>Nagaland</td>\n",
       "      <td>16579</td>\n",
       "      <td>NorthEastern</td>\n",
       "      <td>0.500</td>\n",
       "    </tr>\n",
       "    <tr>\n",
       "      <th>27</th>\n",
       "      <td>Tripura</td>\n",
       "      <td>10486</td>\n",
       "      <td>NorthEastern</td>\n",
       "      <td>0.310</td>\n",
       "    </tr>\n",
       "    <tr>\n",
       "      <th>28</th>\n",
       "      <td>Sikkim</td>\n",
       "      <td>7096</td>\n",
       "      <td>NorthEastern</td>\n",
       "      <td>0.210</td>\n",
       "    </tr>\n",
       "    <tr>\n",
       "      <th>29</th>\n",
       "      <td>Goa</td>\n",
       "      <td>3702</td>\n",
       "      <td>Western</td>\n",
       "      <td>0.110</td>\n",
       "    </tr>\n",
       "    <tr>\n",
       "      <th>30</th>\n",
       "      <td>Delhi</td>\n",
       "      <td>1483</td>\n",
       "      <td>Northern</td>\n",
       "      <td>0.040</td>\n",
       "    </tr>\n",
       "    <tr>\n",
       "      <th>31</th>\n",
       "      <td>Dadra and Nagar Haveli and Daman and Diu</td>\n",
       "      <td>603</td>\n",
       "      <td>Western</td>\n",
       "      <td>0.010</td>\n",
       "    </tr>\n",
       "    <tr>\n",
       "      <th>32</th>\n",
       "      <td>Puducherry</td>\n",
       "      <td>492</td>\n",
       "      <td>Southern</td>\n",
       "      <td>0.010</td>\n",
       "    </tr>\n",
       "    <tr>\n",
       "      <th>33</th>\n",
       "      <td>Chandigarh</td>\n",
       "      <td>114</td>\n",
       "      <td>Northern</td>\n",
       "      <td>0.003</td>\n",
       "    </tr>\n",
       "  </tbody>\n",
       "</table>\n",
       "</div>"
      ],
      "text/plain": [
       "                                       state    area        region  \\\n",
       "0                                  Rajasthan  342239      Northern   \n",
       "1                             Madhya Pradesh  308350       Central   \n",
       "2                                Maharashtra  307713       Western   \n",
       "3                              Uttar Pradesh  240928      Northern   \n",
       "4                                    Gujarat  196024       Western   \n",
       "5                                  Karnataka  191791      Southern   \n",
       "6                             Andhra Pradesh  162970      Southern   \n",
       "7                                     Odisha  155707       Eastern   \n",
       "8                               Chhattisgarh  135191       Central   \n",
       "9                                 Tamil Nadu  130058      Southern   \n",
       "10                                 Telangana  112077      Southern   \n",
       "11                                     Bihar   94163       Eastern   \n",
       "12                               West Bengal   88752       Eastern   \n",
       "13                         Arunachal Pradesh   83743  NorthEastern   \n",
       "14                                 Jharkhand   79714       Eastern   \n",
       "15                                     Assam   78438  NorthEastern   \n",
       "16                                    Ladakh   59146      Northern   \n",
       "17                          Himachal Pradesh   55673      Northern   \n",
       "18                               Uttarakhand   53483      Northern   \n",
       "19                                    Punjab   50362      Northern   \n",
       "20                                   Haryana   44212      Northern   \n",
       "21                         Jammu and Kashmir   42241      Northern   \n",
       "22                                    Kerala   38863      Southern   \n",
       "23                                 Meghalaya   22429  NorthEastern   \n",
       "24                                   Manipur   22327  NorthEastern   \n",
       "25                                   Mizoram   21081  NorthEastern   \n",
       "26                                  Nagaland   16579  NorthEastern   \n",
       "27                                   Tripura   10486  NorthEastern   \n",
       "28                                    Sikkim    7096  NorthEastern   \n",
       "29                                       Goa    3702       Western   \n",
       "30                                     Delhi    1483      Northern   \n",
       "31  Dadra and Nagar Haveli and Daman and Diu     603       Western   \n",
       "32                                Puducherry     492      Southern   \n",
       "33                                Chandigarh     114      Northern   \n",
       "\n",
       "    national_share  \n",
       "0           10.550  \n",
       "1            9.370  \n",
       "2            9.360  \n",
       "3            7.330  \n",
       "4            5.960  \n",
       "5            5.830  \n",
       "6            4.870  \n",
       "7            4.730  \n",
       "8            4.110  \n",
       "9            3.950  \n",
       "10           3.490  \n",
       "11           2.860  \n",
       "12           2.700  \n",
       "13           2.540  \n",
       "14           2.420  \n",
       "15           2.380  \n",
       "16           1.800  \n",
       "17           1.700  \n",
       "18           1.620  \n",
       "19           1.530  \n",
       "20           1.340  \n",
       "21           1.280  \n",
       "22           1.180  \n",
       "23           0.680  \n",
       "24           0.680  \n",
       "25           0.640  \n",
       "26           0.500  \n",
       "27           0.310  \n",
       "28           0.210  \n",
       "29           0.110  \n",
       "30           0.040  \n",
       "31           0.010  \n",
       "32           0.010  \n",
       "33           0.003  "
      ]
     },
     "execution_count": 33,
     "metadata": {},
     "output_type": "execute_result"
    }
   ],
   "source": [
    "states_df.head(100)"
   ]
  },
  {
   "cell_type": "code",
   "execution_count": 34,
   "metadata": {},
   "outputs": [
    {
     "data": {
      "text/plain": [
       "'Northern'"
      ]
     },
     "execution_count": 34,
     "metadata": {},
     "output_type": "execute_result"
    }
   ],
   "source": [
    "max_state_region = states_df.groupby('region')['state'].count().idxmax()\n",
    "max_state_region"
   ]
  },
  {
   "cell_type": "code",
   "execution_count": 35,
   "metadata": {},
   "outputs": [
    {
     "data": {
      "text/plain": [
       "96.093"
      ]
     },
     "execution_count": 35,
     "metadata": {},
     "output_type": "execute_result"
    }
   ],
   "source": [
    "states_df.national_share.sum()"
   ]
  },
  {
   "cell_type": "code",
   "execution_count": 36,
   "metadata": {},
   "outputs": [
    {
     "data": {
      "text/plain": [
       "array(['Rajasthan', 'Uttar Pradesh', 'Ladakh', 'Himachal Pradesh',\n",
       "       'Uttarakhand', 'Punjab', 'Haryana', 'Jammu and Kashmir', 'Delhi',\n",
       "       'Chandigarh'], dtype=object)"
      ]
     },
     "execution_count": 36,
     "metadata": {},
     "output_type": "execute_result"
    }
   ],
   "source": [
    "states_df.groupby('region')['state'].unique()[max_state_region]"
   ]
  },
  {
   "cell_type": "code",
   "execution_count": 37,
   "metadata": {},
   "outputs": [
    {
     "data": {
      "text/html": [
       "<div>\n",
       "<style scoped>\n",
       "    .dataframe tbody tr th:only-of-type {\n",
       "        vertical-align: middle;\n",
       "    }\n",
       "\n",
       "    .dataframe tbody tr th {\n",
       "        vertical-align: top;\n",
       "    }\n",
       "\n",
       "    .dataframe thead tr th {\n",
       "        text-align: left;\n",
       "    }\n",
       "\n",
       "    .dataframe thead tr:last-of-type th {\n",
       "        text-align: right;\n",
       "    }\n",
       "</style>\n",
       "<table border=\"1\" class=\"dataframe\">\n",
       "  <thead>\n",
       "    <tr>\n",
       "      <th></th>\n",
       "      <th colspan=\"2\" halign=\"left\">state</th>\n",
       "      <th colspan=\"2\" halign=\"left\">area</th>\n",
       "    </tr>\n",
       "    <tr>\n",
       "      <th></th>\n",
       "      <th>unique</th>\n",
       "      <th>count</th>\n",
       "      <th>sum</th>\n",
       "      <th>mean</th>\n",
       "    </tr>\n",
       "    <tr>\n",
       "      <th>region</th>\n",
       "      <th></th>\n",
       "      <th></th>\n",
       "      <th></th>\n",
       "      <th></th>\n",
       "    </tr>\n",
       "  </thead>\n",
       "  <tbody>\n",
       "    <tr>\n",
       "      <th>Central</th>\n",
       "      <td>[Madhya Pradesh, Chhattisgarh]</td>\n",
       "      <td>2</td>\n",
       "      <td>443541</td>\n",
       "      <td>221770.500000</td>\n",
       "    </tr>\n",
       "    <tr>\n",
       "      <th>Eastern</th>\n",
       "      <td>[Odisha, Bihar, West Bengal, Jharkhand]</td>\n",
       "      <td>4</td>\n",
       "      <td>418336</td>\n",
       "      <td>104584.000000</td>\n",
       "    </tr>\n",
       "    <tr>\n",
       "      <th>NorthEastern</th>\n",
       "      <td>[Arunachal Pradesh, Assam, Meghalaya, Manipur,...</td>\n",
       "      <td>8</td>\n",
       "      <td>262179</td>\n",
       "      <td>32772.375000</td>\n",
       "    </tr>\n",
       "    <tr>\n",
       "      <th>Northern</th>\n",
       "      <td>[Rajasthan, Uttar Pradesh, Ladakh, Himachal Pr...</td>\n",
       "      <td>10</td>\n",
       "      <td>889881</td>\n",
       "      <td>88988.100000</td>\n",
       "    </tr>\n",
       "    <tr>\n",
       "      <th>Southern</th>\n",
       "      <td>[Karnataka, Andhra Pradesh, Tamil Nadu, Telang...</td>\n",
       "      <td>6</td>\n",
       "      <td>636251</td>\n",
       "      <td>106041.833333</td>\n",
       "    </tr>\n",
       "    <tr>\n",
       "      <th>Western</th>\n",
       "      <td>[Maharashtra, Gujarat, Goa, Dadra and Nagar Ha...</td>\n",
       "      <td>4</td>\n",
       "      <td>508042</td>\n",
       "      <td>127010.500000</td>\n",
       "    </tr>\n",
       "  </tbody>\n",
       "</table>\n",
       "</div>"
      ],
      "text/plain": [
       "                                                          state          area  \\\n",
       "                                                         unique count     sum   \n",
       "region                                                                          \n",
       "Central                          [Madhya Pradesh, Chhattisgarh]     2  443541   \n",
       "Eastern                 [Odisha, Bihar, West Bengal, Jharkhand]     4  418336   \n",
       "NorthEastern  [Arunachal Pradesh, Assam, Meghalaya, Manipur,...     8  262179   \n",
       "Northern      [Rajasthan, Uttar Pradesh, Ladakh, Himachal Pr...    10  889881   \n",
       "Southern      [Karnataka, Andhra Pradesh, Tamil Nadu, Telang...     6  636251   \n",
       "Western       [Maharashtra, Gujarat, Goa, Dadra and Nagar Ha...     4  508042   \n",
       "\n",
       "                             \n",
       "                       mean  \n",
       "region                       \n",
       "Central       221770.500000  \n",
       "Eastern       104584.000000  \n",
       "NorthEastern   32772.375000  \n",
       "Northern       88988.100000  \n",
       "Southern      106041.833333  \n",
       "Western       127010.500000  "
      ]
     },
     "execution_count": 37,
     "metadata": {},
     "output_type": "execute_result"
    }
   ],
   "source": [
    "states_df.groupby('region').agg({'state': ['unique','count'],\n",
    "                                'area':['sum','mean']})"
   ]
  },
  {
   "cell_type": "code",
   "execution_count": 38,
   "metadata": {},
   "outputs": [
    {
     "data": {
      "text/html": [
       "<div>\n",
       "<style scoped>\n",
       "    .dataframe tbody tr th:only-of-type {\n",
       "        vertical-align: middle;\n",
       "    }\n",
       "\n",
       "    .dataframe tbody tr th {\n",
       "        vertical-align: top;\n",
       "    }\n",
       "\n",
       "    .dataframe thead th {\n",
       "        text-align: right;\n",
       "    }\n",
       "</style>\n",
       "<table border=\"1\" class=\"dataframe\">\n",
       "  <thead>\n",
       "    <tr style=\"text-align: right;\">\n",
       "      <th></th>\n",
       "      <th>states</th>\n",
       "      <th>total_states</th>\n",
       "      <th>total_area</th>\n",
       "      <th>average_area</th>\n",
       "    </tr>\n",
       "    <tr>\n",
       "      <th>region</th>\n",
       "      <th></th>\n",
       "      <th></th>\n",
       "      <th></th>\n",
       "      <th></th>\n",
       "    </tr>\n",
       "  </thead>\n",
       "  <tbody>\n",
       "    <tr>\n",
       "      <th>Central</th>\n",
       "      <td>[Madhya Pradesh, Chhattisgarh]</td>\n",
       "      <td>2</td>\n",
       "      <td>443541</td>\n",
       "      <td>221770.500000</td>\n",
       "    </tr>\n",
       "    <tr>\n",
       "      <th>Eastern</th>\n",
       "      <td>[Odisha, Bihar, West Bengal, Jharkhand]</td>\n",
       "      <td>4</td>\n",
       "      <td>418336</td>\n",
       "      <td>104584.000000</td>\n",
       "    </tr>\n",
       "    <tr>\n",
       "      <th>NorthEastern</th>\n",
       "      <td>[Arunachal Pradesh, Assam, Meghalaya, Manipur,...</td>\n",
       "      <td>8</td>\n",
       "      <td>262179</td>\n",
       "      <td>32772.375000</td>\n",
       "    </tr>\n",
       "    <tr>\n",
       "      <th>Northern</th>\n",
       "      <td>[Rajasthan, Uttar Pradesh, Ladakh, Himachal Pr...</td>\n",
       "      <td>10</td>\n",
       "      <td>889881</td>\n",
       "      <td>88988.100000</td>\n",
       "    </tr>\n",
       "    <tr>\n",
       "      <th>Southern</th>\n",
       "      <td>[Karnataka, Andhra Pradesh, Tamil Nadu, Telang...</td>\n",
       "      <td>6</td>\n",
       "      <td>636251</td>\n",
       "      <td>106041.833333</td>\n",
       "    </tr>\n",
       "    <tr>\n",
       "      <th>Western</th>\n",
       "      <td>[Maharashtra, Gujarat, Goa, Dadra and Nagar Ha...</td>\n",
       "      <td>4</td>\n",
       "      <td>508042</td>\n",
       "      <td>127010.500000</td>\n",
       "    </tr>\n",
       "  </tbody>\n",
       "</table>\n",
       "</div>"
      ],
      "text/plain": [
       "                                                         states  total_states  \\\n",
       "region                                                                          \n",
       "Central                          [Madhya Pradesh, Chhattisgarh]             2   \n",
       "Eastern                 [Odisha, Bihar, West Bengal, Jharkhand]             4   \n",
       "NorthEastern  [Arunachal Pradesh, Assam, Meghalaya, Manipur,...             8   \n",
       "Northern      [Rajasthan, Uttar Pradesh, Ladakh, Himachal Pr...            10   \n",
       "Southern      [Karnataka, Andhra Pradesh, Tamil Nadu, Telang...             6   \n",
       "Western       [Maharashtra, Gujarat, Goa, Dadra and Nagar Ha...             4   \n",
       "\n",
       "              total_area   average_area  \n",
       "region                                   \n",
       "Central           443541  221770.500000  \n",
       "Eastern           418336  104584.000000  \n",
       "NorthEastern      262179   32772.375000  \n",
       "Northern          889881   88988.100000  \n",
       "Southern          636251  106041.833333  \n",
       "Western           508042  127010.500000  "
      ]
     },
     "execution_count": 38,
     "metadata": {},
     "output_type": "execute_result"
    }
   ],
   "source": [
    "states_agg_df = states_df.groupby('region').agg(states=('state','unique'),\n",
    "                               total_states=('state','count'),\n",
    "                               total_area=('area','sum'),\n",
    "                               average_area=('area','mean'))\n",
    "\n",
    "states_agg_df"
   ]
  },
  {
   "cell_type": "code",
   "execution_count": 39,
   "metadata": {},
   "outputs": [
    {
     "data": {
      "text/plain": [
       "<matplotlib.axes._subplots.AxesSubplot at 0x7fb5b0a02c18>"
      ]
     },
     "execution_count": 39,
     "metadata": {},
     "output_type": "execute_result"
    },
    {
     "data": {
      "image/png": "[encoded data removed]",
      "text/plain": [
       "<Figure size 432x288 with 1 Axes>"
      ]
     },
     "metadata": {
      "needs_background": "light"
     },
     "output_type": "display_data"
    }
   ],
   "source": [
    "states_agg_df.total_states.sort_values().plot.barh()"
   ]
  },
  {
   "cell_type": "code",
   "execution_count": 40,
   "metadata": {},
   "outputs": [
    {
     "data": {
      "text/plain": [
       "<matplotlib.axes._subplots.AxesSubplot at 0x7fb5f0b90cf8>"
      ]
     },
     "execution_count": 40,
     "metadata": {},
     "output_type": "execute_result"
    },
    {
     "data": {
      "image/png": "[encoded data removed]",
      "text/plain": [
       "<Figure size 720x720 with 1 Axes>"
      ]
     },
     "metadata": {},
     "output_type": "display_data"
    }
   ],
   "source": [
    "states_agg_df.total_area.plot.pie(figsize=(10,10))"
   ]
  },
  {
   "cell_type": "markdown",
   "metadata": {
    "colab_type": "text",
    "id": "Vx3j5SmmqpIf"
   },
   "source": [
    "##  Create a subset of the dataframe such that it shows mean power generated on each of the days for all the sectors."
   ]
  },
  {
   "cell_type": "markdown",
   "metadata": {},
   "source": [
    "Create a new col which is sum of all actual power generated"
   ]
  },
  {
   "cell_type": "code",
   "execution_count": 41,
   "metadata": {},
   "outputs": [
    {
     "data": {
      "text/html": [
       "<div>\n",
       "<style scoped>\n",
       "    .dataframe tbody tr th:only-of-type {\n",
       "        vertical-align: middle;\n",
       "    }\n",
       "\n",
       "    .dataframe tbody tr th {\n",
       "        vertical-align: top;\n",
       "    }\n",
       "\n",
       "    .dataframe thead th {\n",
       "        text-align: right;\n",
       "    }\n",
       "</style>\n",
       "<table border=\"1\" class=\"dataframe\">\n",
       "  <thead>\n",
       "    <tr style=\"text-align: right;\">\n",
       "      <th></th>\n",
       "      <th>date</th>\n",
       "      <th>region</th>\n",
       "      <th>thermal_generation_actual</th>\n",
       "      <th>thermal_generation_estimated</th>\n",
       "      <th>nuclear_generation_actual</th>\n",
       "      <th>nuclear_generation_estimated</th>\n",
       "      <th>hydro_generation_actual</th>\n",
       "      <th>hydro_generation_estimated</th>\n",
       "      <th>all_actual</th>\n",
       "    </tr>\n",
       "  </thead>\n",
       "  <tbody>\n",
       "    <tr>\n",
       "      <th>0</th>\n",
       "      <td>2017-09-01</td>\n",
       "      <td>Northern</td>\n",
       "      <td>624.23</td>\n",
       "      <td>484.21</td>\n",
       "      <td>30.36</td>\n",
       "      <td>35.57</td>\n",
       "      <td>273.27</td>\n",
       "      <td>320.81</td>\n",
       "      <td>927.86</td>\n",
       "    </tr>\n",
       "    <tr>\n",
       "      <th>1</th>\n",
       "      <td>2017-09-01</td>\n",
       "      <td>Western</td>\n",
       "      <td>1106.89</td>\n",
       "      <td>1024.33</td>\n",
       "      <td>25.17</td>\n",
       "      <td>3.81</td>\n",
       "      <td>72.00</td>\n",
       "      <td>21.53</td>\n",
       "      <td>1204.06</td>\n",
       "    </tr>\n",
       "    <tr>\n",
       "      <th>2</th>\n",
       "      <td>2017-09-01</td>\n",
       "      <td>Southern</td>\n",
       "      <td>576.66</td>\n",
       "      <td>578.55</td>\n",
       "      <td>62.73</td>\n",
       "      <td>49.80</td>\n",
       "      <td>111.57</td>\n",
       "      <td>64.78</td>\n",
       "      <td>750.96</td>\n",
       "    </tr>\n",
       "    <tr>\n",
       "      <th>3</th>\n",
       "      <td>2017-09-01</td>\n",
       "      <td>Eastern</td>\n",
       "      <td>441.02</td>\n",
       "      <td>429.39</td>\n",
       "      <td>0.00</td>\n",
       "      <td>0.00</td>\n",
       "      <td>85.94</td>\n",
       "      <td>69.36</td>\n",
       "      <td>526.96</td>\n",
       "    </tr>\n",
       "    <tr>\n",
       "      <th>4</th>\n",
       "      <td>2017-09-01</td>\n",
       "      <td>NorthEastern</td>\n",
       "      <td>29.11</td>\n",
       "      <td>15.91</td>\n",
       "      <td>0.00</td>\n",
       "      <td>0.00</td>\n",
       "      <td>24.64</td>\n",
       "      <td>21.21</td>\n",
       "      <td>53.75</td>\n",
       "    </tr>\n",
       "  </tbody>\n",
       "</table>\n",
       "</div>"
      ],
      "text/plain": [
       "        date        region  thermal_generation_actual  \\\n",
       "0 2017-09-01      Northern                     624.23   \n",
       "1 2017-09-01       Western                    1106.89   \n",
       "2 2017-09-01      Southern                     576.66   \n",
       "3 2017-09-01       Eastern                     441.02   \n",
       "4 2017-09-01  NorthEastern                      29.11   \n",
       "\n",
       "   thermal_generation_estimated  nuclear_generation_actual  \\\n",
       "0                        484.21                      30.36   \n",
       "1                       1024.33                      25.17   \n",
       "2                        578.55                      62.73   \n",
       "3                        429.39                       0.00   \n",
       "4                         15.91                       0.00   \n",
       "\n",
       "   nuclear_generation_estimated  hydro_generation_actual  \\\n",
       "0                         35.57                   273.27   \n",
       "1                          3.81                    72.00   \n",
       "2                         49.80                   111.57   \n",
       "3                          0.00                    85.94   \n",
       "4                          0.00                    24.64   \n",
       "\n",
       "   hydro_generation_estimated  all_actual  \n",
       "0                      320.81      927.86  \n",
       "1                       21.53     1204.06  \n",
       "2                       64.78      750.96  \n",
       "3                       69.36      526.96  \n",
       "4                       21.21       53.75  "
      ]
     },
     "execution_count": 41,
     "metadata": {},
     "output_type": "execute_result"
    }
   ],
   "source": [
    "power_df['all_actual'] = power_df.loc[:,['thermal_generation_actual','nuclear_generation_actual','hydro_generation_actual']].sum(axis=1)\n",
    "power_df.head()"
   ]
  },
  {
   "cell_type": "markdown",
   "metadata": {},
   "source": [
    "get the average daily production across all regions "
   ]
  },
  {
   "cell_type": "code",
   "execution_count": 42,
   "metadata": {
    "colab": {},
    "colab_type": "code",
    "id": "oedxXWs1qtmi"
   },
   "outputs": [
    {
     "data": {
      "text/html": [
       "<div>\n",
       "<style scoped>\n",
       "    .dataframe tbody tr th:only-of-type {\n",
       "        vertical-align: middle;\n",
       "    }\n",
       "\n",
       "    .dataframe tbody tr th {\n",
       "        vertical-align: top;\n",
       "    }\n",
       "\n",
       "    .dataframe thead th {\n",
       "        text-align: right;\n",
       "    }\n",
       "</style>\n",
       "<table border=\"1\" class=\"dataframe\">\n",
       "  <thead>\n",
       "    <tr style=\"text-align: right;\">\n",
       "      <th></th>\n",
       "      <th>thermal_generation_actual</th>\n",
       "      <th>thermal_generation_estimated</th>\n",
       "      <th>nuclear_generation_actual</th>\n",
       "      <th>nuclear_generation_estimated</th>\n",
       "      <th>hydro_generation_actual</th>\n",
       "      <th>hydro_generation_estimated</th>\n",
       "      <th>all_actual</th>\n",
       "    </tr>\n",
       "    <tr>\n",
       "      <th>date</th>\n",
       "      <th></th>\n",
       "      <th></th>\n",
       "      <th></th>\n",
       "      <th></th>\n",
       "      <th></th>\n",
       "      <th></th>\n",
       "      <th></th>\n",
       "    </tr>\n",
       "  </thead>\n",
       "  <tbody>\n",
       "    <tr>\n",
       "      <th>2017-09-01</th>\n",
       "      <td>555.582</td>\n",
       "      <td>506.478</td>\n",
       "      <td>23.652</td>\n",
       "      <td>17.836</td>\n",
       "      <td>113.484</td>\n",
       "      <td>99.538</td>\n",
       "      <td>692.718</td>\n",
       "    </tr>\n",
       "    <tr>\n",
       "      <th>2017-09-02</th>\n",
       "      <td>555.582</td>\n",
       "      <td>512.674</td>\n",
       "      <td>23.652</td>\n",
       "      <td>18.456</td>\n",
       "      <td>113.484</td>\n",
       "      <td>99.128</td>\n",
       "      <td>692.718</td>\n",
       "    </tr>\n",
       "    <tr>\n",
       "      <th>2017-09-03</th>\n",
       "      <td>555.554</td>\n",
       "      <td>506.646</td>\n",
       "      <td>23.652</td>\n",
       "      <td>18.514</td>\n",
       "      <td>113.484</td>\n",
       "      <td>94.610</td>\n",
       "      <td>692.690</td>\n",
       "    </tr>\n",
       "    <tr>\n",
       "      <th>2017-09-04</th>\n",
       "      <td>555.554</td>\n",
       "      <td>542.856</td>\n",
       "      <td>23.652</td>\n",
       "      <td>18.524</td>\n",
       "      <td>113.484</td>\n",
       "      <td>100.072</td>\n",
       "      <td>692.690</td>\n",
       "    </tr>\n",
       "    <tr>\n",
       "      <th>2017-09-05</th>\n",
       "      <td>558.170</td>\n",
       "      <td>555.930</td>\n",
       "      <td>23.652</td>\n",
       "      <td>18.542</td>\n",
       "      <td>113.484</td>\n",
       "      <td>94.032</td>\n",
       "      <td>695.306</td>\n",
       "    </tr>\n",
       "  </tbody>\n",
       "</table>\n",
       "</div>"
      ],
      "text/plain": [
       "            thermal_generation_actual  thermal_generation_estimated  \\\n",
       "date                                                                  \n",
       "2017-09-01                    555.582                       506.478   \n",
       "2017-09-02                    555.582                       512.674   \n",
       "2017-09-03                    555.554                       506.646   \n",
       "2017-09-04                    555.554                       542.856   \n",
       "2017-09-05                    558.170                       555.930   \n",
       "\n",
       "            nuclear_generation_actual  nuclear_generation_estimated  \\\n",
       "date                                                                  \n",
       "2017-09-01                     23.652                        17.836   \n",
       "2017-09-02                     23.652                        18.456   \n",
       "2017-09-03                     23.652                        18.514   \n",
       "2017-09-04                     23.652                        18.524   \n",
       "2017-09-05                     23.652                        18.542   \n",
       "\n",
       "            hydro_generation_actual  hydro_generation_estimated  all_actual  \n",
       "date                                                                         \n",
       "2017-09-01                  113.484                      99.538     692.718  \n",
       "2017-09-02                  113.484                      99.128     692.718  \n",
       "2017-09-03                  113.484                      94.610     692.690  \n",
       "2017-09-04                  113.484                     100.072     692.690  \n",
       "2017-09-05                  113.484                      94.032     695.306  "
      ]
     },
     "execution_count": 42,
     "metadata": {},
     "output_type": "execute_result"
    }
   ],
   "source": [
    "mean_df = power_df.groupby('date').mean()\n",
    "mean_df.head()"
   ]
  },
  {
   "cell_type": "markdown",
   "metadata": {
    "colab_type": "text",
    "id": "wu-Nh9-IqzDV"
   },
   "source": [
    "## Plotting a graph of mean of all the types of power gernerations in all of India, with total power generation"
   ]
  },
  {
   "cell_type": "code",
   "execution_count": 43,
   "metadata": {},
   "outputs": [
    {
     "data": {
      "text/plain": [
       "array([ True, False,  True, False,  True, False,  True])"
      ]
     },
     "execution_count": 43,
     "metadata": {},
     "output_type": "execute_result"
    }
   ],
   "source": [
    "actual_col_list = mean_df.columns.str.endswith('actual')\n",
    "actual_col_list"
   ]
  },
  {
   "cell_type": "code",
   "execution_count": 44,
   "metadata": {},
   "outputs": [
    {
     "data": {
      "text/html": [
       "<div>\n",
       "<style scoped>\n",
       "    .dataframe tbody tr th:only-of-type {\n",
       "        vertical-align: middle;\n",
       "    }\n",
       "\n",
       "    .dataframe tbody tr th {\n",
       "        vertical-align: top;\n",
       "    }\n",
       "\n",
       "    .dataframe thead th {\n",
       "        text-align: right;\n",
       "    }\n",
       "</style>\n",
       "<table border=\"1\" class=\"dataframe\">\n",
       "  <thead>\n",
       "    <tr style=\"text-align: right;\">\n",
       "      <th></th>\n",
       "      <th>thermal_generation_actual</th>\n",
       "      <th>nuclear_generation_actual</th>\n",
       "      <th>hydro_generation_actual</th>\n",
       "      <th>all_actual</th>\n",
       "    </tr>\n",
       "    <tr>\n",
       "      <th>date</th>\n",
       "      <th></th>\n",
       "      <th></th>\n",
       "      <th></th>\n",
       "      <th></th>\n",
       "    </tr>\n",
       "  </thead>\n",
       "  <tbody>\n",
       "    <tr>\n",
       "      <th>2017-09-01</th>\n",
       "      <td>555.582</td>\n",
       "      <td>23.652</td>\n",
       "      <td>113.484</td>\n",
       "      <td>692.718</td>\n",
       "    </tr>\n",
       "    <tr>\n",
       "      <th>2017-09-02</th>\n",
       "      <td>555.582</td>\n",
       "      <td>23.652</td>\n",
       "      <td>113.484</td>\n",
       "      <td>692.718</td>\n",
       "    </tr>\n",
       "    <tr>\n",
       "      <th>2017-09-03</th>\n",
       "      <td>555.554</td>\n",
       "      <td>23.652</td>\n",
       "      <td>113.484</td>\n",
       "      <td>692.690</td>\n",
       "    </tr>\n",
       "    <tr>\n",
       "      <th>2017-09-04</th>\n",
       "      <td>555.554</td>\n",
       "      <td>23.652</td>\n",
       "      <td>113.484</td>\n",
       "      <td>692.690</td>\n",
       "    </tr>\n",
       "    <tr>\n",
       "      <th>2017-09-05</th>\n",
       "      <td>558.170</td>\n",
       "      <td>23.652</td>\n",
       "      <td>113.484</td>\n",
       "      <td>695.306</td>\n",
       "    </tr>\n",
       "    <tr>\n",
       "      <th>...</th>\n",
       "      <td>...</td>\n",
       "      <td>...</td>\n",
       "      <td>...</td>\n",
       "      <td>...</td>\n",
       "    </tr>\n",
       "    <tr>\n",
       "      <th>2020-07-28</th>\n",
       "      <td>592.326</td>\n",
       "      <td>26.216</td>\n",
       "      <td>105.154</td>\n",
       "      <td>723.696</td>\n",
       "    </tr>\n",
       "    <tr>\n",
       "      <th>2020-07-29</th>\n",
       "      <td>592.326</td>\n",
       "      <td>26.216</td>\n",
       "      <td>105.154</td>\n",
       "      <td>723.696</td>\n",
       "    </tr>\n",
       "    <tr>\n",
       "      <th>2020-07-30</th>\n",
       "      <td>594.872</td>\n",
       "      <td>26.216</td>\n",
       "      <td>105.154</td>\n",
       "      <td>726.242</td>\n",
       "    </tr>\n",
       "    <tr>\n",
       "      <th>2020-07-31</th>\n",
       "      <td>596.800</td>\n",
       "      <td>26.216</td>\n",
       "      <td>105.154</td>\n",
       "      <td>728.170</td>\n",
       "    </tr>\n",
       "    <tr>\n",
       "      <th>2020-08-01</th>\n",
       "      <td>559.482</td>\n",
       "      <td>26.216</td>\n",
       "      <td>122.794</td>\n",
       "      <td>708.492</td>\n",
       "    </tr>\n",
       "  </tbody>\n",
       "</table>\n",
       "<p>989 rows × 4 columns</p>\n",
       "</div>"
      ],
      "text/plain": [
       "            thermal_generation_actual  nuclear_generation_actual  \\\n",
       "date                                                               \n",
       "2017-09-01                    555.582                     23.652   \n",
       "2017-09-02                    555.582                     23.652   \n",
       "2017-09-03                    555.554                     23.652   \n",
       "2017-09-04                    555.554                     23.652   \n",
       "2017-09-05                    558.170                     23.652   \n",
       "...                               ...                        ...   \n",
       "2020-07-28                    592.326                     26.216   \n",
       "2020-07-29                    592.326                     26.216   \n",
       "2020-07-30                    594.872                     26.216   \n",
       "2020-07-31                    596.800                     26.216   \n",
       "2020-08-01                    559.482                     26.216   \n",
       "\n",
       "            hydro_generation_actual  all_actual  \n",
       "date                                             \n",
       "2017-09-01                  113.484     692.718  \n",
       "2017-09-02                  113.484     692.718  \n",
       "2017-09-03                  113.484     692.690  \n",
       "2017-09-04                  113.484     692.690  \n",
       "2017-09-05                  113.484     695.306  \n",
       "...                             ...         ...  \n",
       "2020-07-28                  105.154     723.696  \n",
       "2020-07-29                  105.154     723.696  \n",
       "2020-07-30                  105.154     726.242  \n",
       "2020-07-31                  105.154     728.170  \n",
       "2020-08-01                  122.794     708.492  \n",
       "\n",
       "[989 rows x 4 columns]"
      ]
     },
     "execution_count": 44,
     "metadata": {},
     "output_type": "execute_result"
    }
   ],
   "source": [
    "mean_df.loc[:, actual_col_list]"
   ]
  },
  {
   "cell_type": "code",
   "execution_count": 45,
   "metadata": {},
   "outputs": [
    {
     "data": {
      "text/plain": [
       "<matplotlib.axes._subplots.AxesSubplot at 0x7fb5e07017b8>"
      ]
     },
     "execution_count": 45,
     "metadata": {},
     "output_type": "execute_result"
    },
    {
     "data": {
      "image/png": "[encoded data removed]",
      "text/plain": [
       "<Figure size 720x720 with 1 Axes>"
      ]
     },
     "metadata": {
      "needs_background": "light"
     },
     "output_type": "display_data"
    }
   ],
   "source": [
    "mean_df.loc[:,actual_col_list].plot.line(title='Avg power generated across regions',figsize=(10,10))\n"
   ]
  },
  {
   "cell_type": "markdown",
   "metadata": {},
   "source": [
    "similarly, we can plot, daily power generated across all regions"
   ]
  },
  {
   "cell_type": "code",
   "execution_count": 46,
   "metadata": {},
   "outputs": [
    {
     "data": {
      "text/plain": [
       "<matplotlib.axes._subplots.AxesSubplot at 0x7fb5b0ab9160>"
      ]
     },
     "execution_count": 46,
     "metadata": {},
     "output_type": "execute_result"
    },
    {
     "data": {
      "image/png": "[encoded data removed]",
      "text/plain": [
       "<Figure size 720x720 with 1 Axes>"
      ]
     },
     "metadata": {
      "needs_background": "light"
     },
     "output_type": "display_data"
    }
   ],
   "source": [
    "(power_df\n",
    " .groupby('date').sum()\n",
    " .loc[:,actual_col_list]\n",
    " .plot.line(\n",
    "     title='Total power generated across all regions', \n",
    "     figsize=(10,10))\n",
    ")"
   ]
  },
  {
   "cell_type": "markdown",
   "metadata": {
    "colab_type": "text",
    "id": "4g9NzXApq4kP"
   },
   "source": [
    "## With data cleaning and some basic eda done, what other questions would would you like to get the answer for?\n",
    "\n",
    "## Come up with atleat 3 such questions and find the anwers for the same individually before the session ends.\n",
    "\n",
    "## Try forming as many questions and their answers later as per your availability and share your notebooks on slack."
   ]
  },
  {
   "cell_type": "markdown",
   "metadata": {
    "colab": {},
    "colab_type": "code",
    "id": "tmEQ2aV3q5he"
   },
   "source": [
    "## Some ideas\n",
    "- Clustering, [example in R](https://www.kaggle.com/aishwaryasharma1992/exploratory-data-analysis-with-k-means-clustering)\n",
    "- Additional plots, [example using Plotly](https://www.kaggle.com/shakka/eda-and-visualization-using-pandas-plotly)\n",
    "- Regression, [example linear reg](https://www.kaggle.com/kuroganedecimo/power-generation-eda-linear-regression)"
   ]
  },
  {
   "cell_type": "code",
   "execution_count": null,
   "metadata": {},
   "outputs": [],
   "source": []
  }
 ],
 "metadata": {
  "colab": {
   "name": "daily_power_generation.ipynb",
   "provenance": []
  },
  "kernelspec": {
   "display_name": "Python 3",
   "language": "python",
   "name": "python3"
  },
  "language_info": {
   "codemirror_mode": {
    "name": "ipython",
    "version": 3
   },
   "file_extension": ".py",
   "mimetype": "text/x-python",
   "name": "python",
   "nbconvert_exporter": "python",
   "pygments_lexer": "ipython3",
   "version": "3.7.0"
  }
 },
 "nbformat": 4,
 "nbformat_minor": 4
}
