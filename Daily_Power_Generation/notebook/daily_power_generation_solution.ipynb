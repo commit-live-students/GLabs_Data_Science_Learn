{
  "nbformat": 4,
  "nbformat_minor": 0,
  "metadata": {
    "colab": {
      "name": "daily_power_generation_solution.ipynb",
      "provenance": [],
      "toc_visible": true
    },
    "kernelspec": {
      "name": "python3",
      "display_name": "Python 3"
    }
  },
  "cells": [
    {
      "cell_type": "markdown",
      "metadata": {
        "id": "kY8PYCGLVjjM",
        "colab_type": "text"
      },
      "source": [
        "# Daily Power Generation Data Cleaning and Analysis\n",
        "\n"
      ]
    },
    {
      "cell_type": "markdown",
      "metadata": {
        "id": "l2Yvw73CVIx2",
        "colab_type": "text"
      },
      "source": [
        "\n",
        "India is the world's third-largest producer and third largest consumer of electricity. The national electric grid in India has an installed capacity of 370.106 GW as of 31 March 2020. Renewable power plants, which also include large hydroelectric plants, constitute 35.86% of India's total installed capacity.\n",
        "India has a surplus power generation capacity but lacks adequate distribution infrastructure.\n",
        "\n",
        "India's electricity sector is dominated by fossil fuels, in particular coal, which during the 2018-19 fiscal year produced about three-quarters of the country's electricity. The government is making efforts to increase investment in renewable energy. The government's National Electricity Plan of 2018 states that the country does not need more non-renewable power plants in the utility sector until 2027, with the commissioning of 50,025 MW coal-based power plants under construction and addition of 275,000 MW total renewable power capacity after the retirement of nearly 48,000 MW old coal-fired plants.\n",
        "\n",
        "India has recorded rapid growth in electricity generation since 1985, increasing from 179 TW-hr in 1985 to 1,057 TW-hr in 2012. The majority of the increase came from coal-fired plants and non-conventional renewable energy sources (RES), with the contribution from natural gas, oil, and hydro plants decreasing in 2012-2017. The gross utility electricity generation (excluding imports from Bhutan) was 1,384 billion kWh in 2019-20, representing 1.0 % annual growth compared to 2018-2019. The contribution from renewable energy sources was nearly 20% of the total. In the year 2019-20, all the incremental electricity generation is contributed by renewable energy sources as the power generation from fossil fuels decreased.\n",
        "The drivers for India's electricity sector are its rapidly growing economy, rising exports, improving infrastructure, and increasing household incomes.\n",
        "\n",
        "\n",
        "## Data\n",
        "There are 2 CSV files for the study. Each file has detailed file, and row, and column description for easier understanding of the user.\n",
        "\n",
        "## Acknowledgements\n",
        "Data has been extracted from openly available reports of National Power Portal at \"https://npp.gov.in/\". I have made my code for extracting the dataset which you can find under the kernels section of the dataset.\n"
      ]
    },
    {
      "cell_type": "markdown",
      "metadata": {
        "id": "hLMmCNmCXeu3",
        "colab_type": "text"
      },
      "source": [
        "## Session flow :\n",
        "\n",
        "* Data Cleaning and basic analysis will be done for the first 90 - 100 minutes.\n",
        "\n",
        "* Brainstorming activity to form atleast 3 questions which are to be answered and try to individually code it to get the desired output(20-30 minutes)"
      ]
    },
    {
      "cell_type": "markdown",
      "metadata": {
        "id": "9qas-e91YQBT",
        "colab_type": "text"
      },
      "source": [
        "## Load the libraries"
      ]
    },
    {
      "cell_type": "code",
      "metadata": {
        "id": "ryAwbNApLwCw",
        "colab_type": "code",
        "colab": {}
      },
      "source": [
        "import os\n",
        "import pandas as pd\n",
        "import numpy as np\n",
        "import matplotlib.pyplot as plt\n"
      ],
      "execution_count": 85,
      "outputs": []
    },
    {
      "cell_type": "markdown",
      "metadata": {
        "id": "OyTD7iRdQslD",
        "colab_type": "text"
      },
      "source": [
        "## Loading the data"
      ]
    },
    {
      "cell_type": "code",
      "metadata": {
        "id": "s9v-Mv0jNl7Q",
        "colab_type": "code",
        "colab": {
          "base_uri": "https://localhost:8080/",
          "height": 241
        },
        "outputId": "4bf68922-ca8c-4296-b565-0e9cdff9b916"
      },
      "source": [
        "power_df = pd.read_csv('../data/power_generation.csv')\n",
        "power_df.head()"
      ],
      "execution_count": 86,
      "outputs": [
        {
          "output_type": "execute_result",
          "data": {
            "text/html": [
              "<div>\n",
              "<style scoped>\n",
              "    .dataframe tbody tr th:only-of-type {\n",
              "        vertical-align: middle;\n",
              "    }\n",
              "\n",
              "    .dataframe tbody tr th {\n",
              "        vertical-align: top;\n",
              "    }\n",
              "\n",
              "    .dataframe thead th {\n",
              "        text-align: right;\n",
              "    }\n",
              "</style>\n",
              "<table border=\"1\" class=\"dataframe\">\n",
              "  <thead>\n",
              "    <tr style=\"text-align: right;\">\n",
              "      <th></th>\n",
              "      <th>index</th>\n",
              "      <th>Date</th>\n",
              "      <th>Region</th>\n",
              "      <th>Thermal Generation Actual (in MU)</th>\n",
              "      <th>Thermal Generation Estimated (in MU)</th>\n",
              "      <th>Nuclear Generation Actual (in MU)</th>\n",
              "      <th>Nuclear Generation Estimated (in MU)</th>\n",
              "      <th>Hydro Generation Actual (in MU)</th>\n",
              "      <th>Hydro Generation Estimated (in MU)</th>\n",
              "    </tr>\n",
              "  </thead>\n",
              "  <tbody>\n",
              "    <tr>\n",
              "      <th>0</th>\n",
              "      <td>0</td>\n",
              "      <td>2017-09-01</td>\n",
              "      <td>Northern</td>\n",
              "      <td>624.23</td>\n",
              "      <td>484.21</td>\n",
              "      <td>30.36</td>\n",
              "      <td>35.57</td>\n",
              "      <td>273.27</td>\n",
              "      <td>320.81</td>\n",
              "    </tr>\n",
              "    <tr>\n",
              "      <th>1</th>\n",
              "      <td>1</td>\n",
              "      <td>2017-09-01</td>\n",
              "      <td>Western</td>\n",
              "      <td>1,106.89</td>\n",
              "      <td>1,024.33</td>\n",
              "      <td>25.17</td>\n",
              "      <td>3.81</td>\n",
              "      <td>72.00</td>\n",
              "      <td>21.53</td>\n",
              "    </tr>\n",
              "    <tr>\n",
              "      <th>2</th>\n",
              "      <td>2</td>\n",
              "      <td>2017-09-01</td>\n",
              "      <td>Southern</td>\n",
              "      <td>576.66</td>\n",
              "      <td>578.55</td>\n",
              "      <td>62.73</td>\n",
              "      <td>49.80</td>\n",
              "      <td>111.57</td>\n",
              "      <td>64.78</td>\n",
              "    </tr>\n",
              "    <tr>\n",
              "      <th>3</th>\n",
              "      <td>3</td>\n",
              "      <td>2017-09-01</td>\n",
              "      <td>Eastern</td>\n",
              "      <td>441.02</td>\n",
              "      <td>429.39</td>\n",
              "      <td>NaN</td>\n",
              "      <td>NaN</td>\n",
              "      <td>85.94</td>\n",
              "      <td>69.36</td>\n",
              "    </tr>\n",
              "    <tr>\n",
              "      <th>4</th>\n",
              "      <td>4</td>\n",
              "      <td>2017-09-01</td>\n",
              "      <td>NorthEastern</td>\n",
              "      <td>29.11</td>\n",
              "      <td>15.91</td>\n",
              "      <td>NaN</td>\n",
              "      <td>NaN</td>\n",
              "      <td>24.64</td>\n",
              "      <td>21.21</td>\n",
              "    </tr>\n",
              "  </tbody>\n",
              "</table>\n",
              "</div>"
            ],
            "text/plain": [
              "   index  ... Hydro Generation Estimated (in MU)\n",
              "0      0  ...                             320.81\n",
              "1      1  ...                              21.53\n",
              "2      2  ...                              64.78\n",
              "3      3  ...                              69.36\n",
              "4      4  ...                              21.21\n",
              "\n",
              "[5 rows x 9 columns]"
            ]
          },
          "metadata": {
            "tags": []
          },
          "execution_count": 86
        }
      ]
    },
    {
      "cell_type": "code",
      "metadata": {
        "id": "vZWLWyttQ4IE",
        "colab_type": "code",
        "colab": {
          "base_uri": "https://localhost:8080/",
          "height": 206
        },
        "outputId": "30318ff0-3c83-44ad-825f-e32e6f46b829"
      },
      "source": [
        "states_df = pd.read_csv('../data/State_Region_corrected.csv')\n",
        "states_df.head()"
      ],
      "execution_count": 87,
      "outputs": [
        {
          "output_type": "execute_result",
          "data": {
            "text/html": [
              "<div>\n",
              "<style scoped>\n",
              "    .dataframe tbody tr th:only-of-type {\n",
              "        vertical-align: middle;\n",
              "    }\n",
              "\n",
              "    .dataframe tbody tr th {\n",
              "        vertical-align: top;\n",
              "    }\n",
              "\n",
              "    .dataframe thead th {\n",
              "        text-align: right;\n",
              "    }\n",
              "</style>\n",
              "<table border=\"1\" class=\"dataframe\">\n",
              "  <thead>\n",
              "    <tr style=\"text-align: right;\">\n",
              "      <th></th>\n",
              "      <th>State / Union territory (UT)</th>\n",
              "      <th>Area (km2)</th>\n",
              "      <th>Region</th>\n",
              "      <th>National Share (%)</th>\n",
              "    </tr>\n",
              "  </thead>\n",
              "  <tbody>\n",
              "    <tr>\n",
              "      <th>0</th>\n",
              "      <td>Rajasthan</td>\n",
              "      <td>342239</td>\n",
              "      <td>Northern</td>\n",
              "      <td>10.55</td>\n",
              "    </tr>\n",
              "    <tr>\n",
              "      <th>1</th>\n",
              "      <td>Madhya Pradesh</td>\n",
              "      <td>308350</td>\n",
              "      <td>Central</td>\n",
              "      <td>9.37</td>\n",
              "    </tr>\n",
              "    <tr>\n",
              "      <th>2</th>\n",
              "      <td>Maharashtra</td>\n",
              "      <td>307713</td>\n",
              "      <td>Western</td>\n",
              "      <td>9.36</td>\n",
              "    </tr>\n",
              "    <tr>\n",
              "      <th>3</th>\n",
              "      <td>Uttar Pradesh</td>\n",
              "      <td>240928</td>\n",
              "      <td>Northern</td>\n",
              "      <td>7.33</td>\n",
              "    </tr>\n",
              "    <tr>\n",
              "      <th>4</th>\n",
              "      <td>Gujarat</td>\n",
              "      <td>196024</td>\n",
              "      <td>Western</td>\n",
              "      <td>5.96</td>\n",
              "    </tr>\n",
              "  </tbody>\n",
              "</table>\n",
              "</div>"
            ],
            "text/plain": [
              "  State / Union territory (UT)  Area (km2)    Region  National Share (%)\n",
              "0                    Rajasthan      342239  Northern               10.55\n",
              "1               Madhya Pradesh      308350   Central                9.37\n",
              "2                  Maharashtra      307713   Western                9.36\n",
              "3                Uttar Pradesh      240928  Northern                7.33\n",
              "4                      Gujarat      196024   Western                5.96"
            ]
          },
          "metadata": {
            "tags": []
          },
          "execution_count": 87
        }
      ]
    },
    {
      "cell_type": "markdown",
      "metadata": {
        "id": "ng0W1itaRO0e",
        "colab_type": "text"
      },
      "source": [
        "## Remove the column `index` from power_df dataframe"
      ]
    },
    {
      "cell_type": "code",
      "metadata": {
        "id": "juqRyrCuRLtZ",
        "colab_type": "code",
        "colab": {
          "base_uri": "https://localhost:8080/",
          "height": 224
        },
        "outputId": "c0eb2007-c2f7-4db4-a50c-9e27648b52a6"
      },
      "source": [
        "power_df.drop(columns='index',axis=1,inplace = True)\n",
        "\n",
        "power_df.head()"
      ],
      "execution_count": 88,
      "outputs": [
        {
          "output_type": "execute_result",
          "data": {
            "text/html": [
              "<div>\n",
              "<style scoped>\n",
              "    .dataframe tbody tr th:only-of-type {\n",
              "        vertical-align: middle;\n",
              "    }\n",
              "\n",
              "    .dataframe tbody tr th {\n",
              "        vertical-align: top;\n",
              "    }\n",
              "\n",
              "    .dataframe thead th {\n",
              "        text-align: right;\n",
              "    }\n",
              "</style>\n",
              "<table border=\"1\" class=\"dataframe\">\n",
              "  <thead>\n",
              "    <tr style=\"text-align: right;\">\n",
              "      <th></th>\n",
              "      <th>Date</th>\n",
              "      <th>Region</th>\n",
              "      <th>Thermal Generation Actual (in MU)</th>\n",
              "      <th>Thermal Generation Estimated (in MU)</th>\n",
              "      <th>Nuclear Generation Actual (in MU)</th>\n",
              "      <th>Nuclear Generation Estimated (in MU)</th>\n",
              "      <th>Hydro Generation Actual (in MU)</th>\n",
              "      <th>Hydro Generation Estimated (in MU)</th>\n",
              "    </tr>\n",
              "  </thead>\n",
              "  <tbody>\n",
              "    <tr>\n",
              "      <th>0</th>\n",
              "      <td>2017-09-01</td>\n",
              "      <td>Northern</td>\n",
              "      <td>624.23</td>\n",
              "      <td>484.21</td>\n",
              "      <td>30.36</td>\n",
              "      <td>35.57</td>\n",
              "      <td>273.27</td>\n",
              "      <td>320.81</td>\n",
              "    </tr>\n",
              "    <tr>\n",
              "      <th>1</th>\n",
              "      <td>2017-09-01</td>\n",
              "      <td>Western</td>\n",
              "      <td>1,106.89</td>\n",
              "      <td>1,024.33</td>\n",
              "      <td>25.17</td>\n",
              "      <td>3.81</td>\n",
              "      <td>72.00</td>\n",
              "      <td>21.53</td>\n",
              "    </tr>\n",
              "    <tr>\n",
              "      <th>2</th>\n",
              "      <td>2017-09-01</td>\n",
              "      <td>Southern</td>\n",
              "      <td>576.66</td>\n",
              "      <td>578.55</td>\n",
              "      <td>62.73</td>\n",
              "      <td>49.80</td>\n",
              "      <td>111.57</td>\n",
              "      <td>64.78</td>\n",
              "    </tr>\n",
              "    <tr>\n",
              "      <th>3</th>\n",
              "      <td>2017-09-01</td>\n",
              "      <td>Eastern</td>\n",
              "      <td>441.02</td>\n",
              "      <td>429.39</td>\n",
              "      <td>NaN</td>\n",
              "      <td>NaN</td>\n",
              "      <td>85.94</td>\n",
              "      <td>69.36</td>\n",
              "    </tr>\n",
              "    <tr>\n",
              "      <th>4</th>\n",
              "      <td>2017-09-01</td>\n",
              "      <td>NorthEastern</td>\n",
              "      <td>29.11</td>\n",
              "      <td>15.91</td>\n",
              "      <td>NaN</td>\n",
              "      <td>NaN</td>\n",
              "      <td>24.64</td>\n",
              "      <td>21.21</td>\n",
              "    </tr>\n",
              "  </tbody>\n",
              "</table>\n",
              "</div>"
            ],
            "text/plain": [
              "         Date  ... Hydro Generation Estimated (in MU)\n",
              "0  2017-09-01  ...                             320.81\n",
              "1  2017-09-01  ...                              21.53\n",
              "2  2017-09-01  ...                              64.78\n",
              "3  2017-09-01  ...                              69.36\n",
              "4  2017-09-01  ...                              21.21\n",
              "\n",
              "[5 rows x 8 columns]"
            ]
          },
          "metadata": {
            "tags": []
          },
          "execution_count": 88
        }
      ]
    },
    {
      "cell_type": "markdown",
      "metadata": {
        "id": "heXJge9oSfG6",
        "colab_type": "text"
      },
      "source": [
        "## Cleaning the power_df dataframe column names :\n",
        "* Remove the substring `' (in MU)'` from all the columns in the power_df dataframe.\n",
        "* Replace all the spaces with underscore in the power_df datafame\n",
        "* All the column names to be converted to small case in the power_df dataframe\n"
      ]
    },
    {
      "cell_type": "code",
      "metadata": {
        "id": "0VqJRjRMPpgw",
        "colab_type": "code",
        "colab": {
          "base_uri": "https://localhost:8080/",
          "height": 226
        },
        "outputId": "dab7d90c-8a87-4650-ec89-cca6c414bf06"
      },
      "source": [
        "new_column_names = []\n",
        "\n",
        "for column in power_df.columns:\n",
        "  new_column = column.replace(' (in MU)','')\n",
        "\n",
        "  new_column = new_column.replace(' ','_')\n",
        "\n",
        "  new_column = new_column.lower()\n",
        "\n",
        "  new_column_names.append(new_column)\n",
        "\n",
        "power_df.columns = new_column_names\n",
        "\n",
        "power_df.head()\n",
        "\n",
        "# Can be done in a single line once comfortable with Python\n",
        "# [new_column_names.append(column.replace(' (in MU)','').replace(' ','_').lower()) for column in power_df.columns]"
      ],
      "execution_count": 89,
      "outputs": [
        {
          "output_type": "execute_result",
          "data": {
            "text/html": [
              "<div>\n",
              "<style scoped>\n",
              "    .dataframe tbody tr th:only-of-type {\n",
              "        vertical-align: middle;\n",
              "    }\n",
              "\n",
              "    .dataframe tbody tr th {\n",
              "        vertical-align: top;\n",
              "    }\n",
              "\n",
              "    .dataframe thead th {\n",
              "        text-align: right;\n",
              "    }\n",
              "</style>\n",
              "<table border=\"1\" class=\"dataframe\">\n",
              "  <thead>\n",
              "    <tr style=\"text-align: right;\">\n",
              "      <th></th>\n",
              "      <th>date</th>\n",
              "      <th>region</th>\n",
              "      <th>thermal_generation_actual</th>\n",
              "      <th>thermal_generation_estimated</th>\n",
              "      <th>nuclear_generation_actual</th>\n",
              "      <th>nuclear_generation_estimated</th>\n",
              "      <th>hydro_generation_actual</th>\n",
              "      <th>hydro_generation_estimated</th>\n",
              "    </tr>\n",
              "  </thead>\n",
              "  <tbody>\n",
              "    <tr>\n",
              "      <th>0</th>\n",
              "      <td>2017-09-01</td>\n",
              "      <td>Northern</td>\n",
              "      <td>624.23</td>\n",
              "      <td>484.21</td>\n",
              "      <td>30.36</td>\n",
              "      <td>35.57</td>\n",
              "      <td>273.27</td>\n",
              "      <td>320.81</td>\n",
              "    </tr>\n",
              "    <tr>\n",
              "      <th>1</th>\n",
              "      <td>2017-09-01</td>\n",
              "      <td>Western</td>\n",
              "      <td>1,106.89</td>\n",
              "      <td>1,024.33</td>\n",
              "      <td>25.17</td>\n",
              "      <td>3.81</td>\n",
              "      <td>72.00</td>\n",
              "      <td>21.53</td>\n",
              "    </tr>\n",
              "    <tr>\n",
              "      <th>2</th>\n",
              "      <td>2017-09-01</td>\n",
              "      <td>Southern</td>\n",
              "      <td>576.66</td>\n",
              "      <td>578.55</td>\n",
              "      <td>62.73</td>\n",
              "      <td>49.80</td>\n",
              "      <td>111.57</td>\n",
              "      <td>64.78</td>\n",
              "    </tr>\n",
              "    <tr>\n",
              "      <th>3</th>\n",
              "      <td>2017-09-01</td>\n",
              "      <td>Eastern</td>\n",
              "      <td>441.02</td>\n",
              "      <td>429.39</td>\n",
              "      <td>NaN</td>\n",
              "      <td>NaN</td>\n",
              "      <td>85.94</td>\n",
              "      <td>69.36</td>\n",
              "    </tr>\n",
              "    <tr>\n",
              "      <th>4</th>\n",
              "      <td>2017-09-01</td>\n",
              "      <td>NorthEastern</td>\n",
              "      <td>29.11</td>\n",
              "      <td>15.91</td>\n",
              "      <td>NaN</td>\n",
              "      <td>NaN</td>\n",
              "      <td>24.64</td>\n",
              "      <td>21.21</td>\n",
              "    </tr>\n",
              "  </tbody>\n",
              "</table>\n",
              "</div>"
            ],
            "text/plain": [
              "         date  ... hydro_generation_estimated\n",
              "0  2017-09-01  ...                     320.81\n",
              "1  2017-09-01  ...                      21.53\n",
              "2  2017-09-01  ...                      64.78\n",
              "3  2017-09-01  ...                      69.36\n",
              "4  2017-09-01  ...                      21.21\n",
              "\n",
              "[5 rows x 8 columns]"
            ]
          },
          "metadata": {
            "tags": []
          },
          "execution_count": 89
        }
      ]
    },
    {
      "cell_type": "markdown",
      "metadata": {
        "id": "8CQkgQTSbJ1W",
        "colab_type": "text"
      },
      "source": [
        "## Cleaning state_df column names:\n",
        "* Replace the column names 'State / Union territory (UT)', 'Area (km2)', 'Region' and 'National Share (%)' with 'state','area','region' and 'national_share' respectively"
      ]
    },
    {
      "cell_type": "code",
      "metadata": {
        "id": "-8M_G6lxUbAq",
        "colab_type": "code",
        "colab": {
          "base_uri": "https://localhost:8080/",
          "height": 206
        },
        "outputId": "13c0f5b4-0160-45ac-da8b-ba751f50e6b7"
      },
      "source": [
        "state_colname = {'State / Union territory (UT)':'state',\n",
        "                 'Area (km2)':'area',\n",
        "                 'National Share (%)':'national_share',\n",
        "                 'Region':'region'}\n",
        "\n",
        "states_df = states_df.rename(columns=state_colname)\n",
        "\n",
        "states_df.head()"
      ],
      "execution_count": 90,
      "outputs": [
        {
          "output_type": "execute_result",
          "data": {
            "text/html": [
              "<div>\n",
              "<style scoped>\n",
              "    .dataframe tbody tr th:only-of-type {\n",
              "        vertical-align: middle;\n",
              "    }\n",
              "\n",
              "    .dataframe tbody tr th {\n",
              "        vertical-align: top;\n",
              "    }\n",
              "\n",
              "    .dataframe thead th {\n",
              "        text-align: right;\n",
              "    }\n",
              "</style>\n",
              "<table border=\"1\" class=\"dataframe\">\n",
              "  <thead>\n",
              "    <tr style=\"text-align: right;\">\n",
              "      <th></th>\n",
              "      <th>state</th>\n",
              "      <th>area</th>\n",
              "      <th>region</th>\n",
              "      <th>national_share</th>\n",
              "    </tr>\n",
              "  </thead>\n",
              "  <tbody>\n",
              "    <tr>\n",
              "      <th>0</th>\n",
              "      <td>Rajasthan</td>\n",
              "      <td>342239</td>\n",
              "      <td>Northern</td>\n",
              "      <td>10.55</td>\n",
              "    </tr>\n",
              "    <tr>\n",
              "      <th>1</th>\n",
              "      <td>Madhya Pradesh</td>\n",
              "      <td>308350</td>\n",
              "      <td>Central</td>\n",
              "      <td>9.37</td>\n",
              "    </tr>\n",
              "    <tr>\n",
              "      <th>2</th>\n",
              "      <td>Maharashtra</td>\n",
              "      <td>307713</td>\n",
              "      <td>Western</td>\n",
              "      <td>9.36</td>\n",
              "    </tr>\n",
              "    <tr>\n",
              "      <th>3</th>\n",
              "      <td>Uttar Pradesh</td>\n",
              "      <td>240928</td>\n",
              "      <td>Northern</td>\n",
              "      <td>7.33</td>\n",
              "    </tr>\n",
              "    <tr>\n",
              "      <th>4</th>\n",
              "      <td>Gujarat</td>\n",
              "      <td>196024</td>\n",
              "      <td>Western</td>\n",
              "      <td>5.96</td>\n",
              "    </tr>\n",
              "  </tbody>\n",
              "</table>\n",
              "</div>"
            ],
            "text/plain": [
              "            state    area    region  national_share\n",
              "0       Rajasthan  342239  Northern           10.55\n",
              "1  Madhya Pradesh  308350   Central            9.37\n",
              "2     Maharashtra  307713   Western            9.36\n",
              "3   Uttar Pradesh  240928  Northern            7.33\n",
              "4         Gujarat  196024   Western            5.96"
            ]
          },
          "metadata": {
            "tags": []
          },
          "execution_count": 90
        }
      ]
    },
    {
      "cell_type": "markdown",
      "metadata": {
        "id": "XOGdIFKbjx45",
        "colab_type": "text"
      },
      "source": [
        "## The region names in both the dataframes have to be the same, check for the same, if not, make the necessary changes"
      ]
    },
    {
      "cell_type": "code",
      "metadata": {
        "id": "a8OvqTyckslx",
        "colab_type": "code",
        "colab": {
          "base_uri": "https://localhost:8080/",
          "height": 54
        },
        "outputId": "de43e7d1-514d-4624-9e9d-f4fc9b1117ba"
      },
      "source": [
        "power_df.region.unique()"
      ],
      "execution_count": 91,
      "outputs": [
        {
          "output_type": "execute_result",
          "data": {
            "text/plain": [
              "array(['Northern', 'Western', 'Southern', 'Eastern', 'NorthEastern'],\n",
              "      dtype=object)"
            ]
          },
          "metadata": {
            "tags": []
          },
          "execution_count": 91
        }
      ]
    },
    {
      "cell_type": "code",
      "metadata": {
        "id": "8c_o_Js3k2Tk",
        "colab_type": "code",
        "colab": {
          "base_uri": "https://localhost:8080/",
          "height": 54
        },
        "outputId": "5e62e52f-db04-46e3-ae03-a995e7a096a5"
      },
      "source": [
        "states_df.region.unique()"
      ],
      "execution_count": 92,
      "outputs": [
        {
          "output_type": "execute_result",
          "data": {
            "text/plain": [
              "array(['Northern', 'Central', 'Western', 'Southern', 'Eastern',\n",
              "       'Northeastern'], dtype=object)"
            ]
          },
          "metadata": {
            "tags": []
          },
          "execution_count": 92
        }
      ]
    },
    {
      "cell_type": "code",
      "metadata": {
        "id": "2WxP3RiLlZRO",
        "colab_type": "code",
        "colab": {}
      },
      "source": [
        "states_df = states_df.replace('Northeastern','NorthEastern')\n"
      ],
      "execution_count": 93,
      "outputs": []
    },
    {
      "cell_type": "code",
      "metadata": {
        "id": "vBxVoH1Jlr6b",
        "colab_type": "code",
        "colab": {
          "base_uri": "https://localhost:8080/",
          "height": 54
        },
        "outputId": "3c237215-d340-4918-bc66-5af10550c714"
      },
      "source": [
        "states_df.region.unique()"
      ],
      "execution_count": 94,
      "outputs": [
        {
          "output_type": "execute_result",
          "data": {
            "text/plain": [
              "array(['Northern', 'Central', 'Western', 'Southern', 'Eastern',\n",
              "       'NorthEastern'], dtype=object)"
            ]
          },
          "metadata": {
            "tags": []
          },
          "execution_count": 94
        }
      ]
    },
    {
      "cell_type": "markdown",
      "metadata": {
        "id": "sx2yrHrQe3cQ",
        "colab_type": "text"
      },
      "source": [
        "## Basic data study"
      ]
    },
    {
      "cell_type": "code",
      "metadata": {
        "id": "nXqOUdkWUmyR",
        "colab_type": "code",
        "colab": {
          "base_uri": "https://localhost:8080/",
          "height": 296
        },
        "outputId": "8bb183f2-4d3c-4bb4-a6d1-e92e6efb2e5f"
      },
      "source": [
        "power_df.info()"
      ],
      "execution_count": 95,
      "outputs": [
        {
          "output_type": "stream",
          "text": [
            "<class 'pandas.core.frame.DataFrame'>\n",
            "RangeIndex: 4945 entries, 0 to 4944\n",
            "Data columns (total 8 columns):\n",
            " #   Column                        Non-Null Count  Dtype  \n",
            "---  ------                        --------------  -----  \n",
            " 0   date                          4945 non-null   object \n",
            " 1   region                        4945 non-null   object \n",
            " 2   thermal_generation_actual     4945 non-null   object \n",
            " 3   thermal_generation_estimated  4945 non-null   object \n",
            " 4   nuclear_generation_actual     2967 non-null   float64\n",
            " 5   nuclear_generation_estimated  2967 non-null   float64\n",
            " 6   hydro_generation_actual       4945 non-null   float64\n",
            " 7   hydro_generation_estimated    4945 non-null   float64\n",
            "dtypes: float64(4), object(4)\n",
            "memory usage: 309.2+ KB\n"
          ],
          "name": "stdout"
        }
      ]
    },
    {
      "cell_type": "code",
      "metadata": {
        "id": "K0dgHbrQe9WR",
        "colab_type": "code",
        "colab": {
          "base_uri": "https://localhost:8080/",
          "height": 222
        },
        "outputId": "cf552868-3348-43e5-a8fe-891df301a3ce"
      },
      "source": [
        "states_df.info()"
      ],
      "execution_count": 96,
      "outputs": [
        {
          "output_type": "stream",
          "text": [
            "<class 'pandas.core.frame.DataFrame'>\n",
            "RangeIndex: 34 entries, 0 to 33\n",
            "Data columns (total 4 columns):\n",
            " #   Column          Non-Null Count  Dtype  \n",
            "---  ------          --------------  -----  \n",
            " 0   state           34 non-null     object \n",
            " 1   area            34 non-null     int64  \n",
            " 2   region          34 non-null     object \n",
            " 3   national_share  34 non-null     float64\n",
            "dtypes: float64(1), int64(1), object(2)\n",
            "memory usage: 1.2+ KB\n"
          ],
          "name": "stdout"
        }
      ]
    },
    {
      "cell_type": "code",
      "metadata": {
        "id": "JYKwrP1mfAEx",
        "colab_type": "code",
        "colab": {
          "base_uri": "https://localhost:8080/",
          "height": 301
        },
        "outputId": "faaf0d71-7b5e-4a0c-f648-825329f912ab"
      },
      "source": [
        "power_df.describe()"
      ],
      "execution_count": 97,
      "outputs": [
        {
          "output_type": "execute_result",
          "data": {
            "text/html": [
              "<div>\n",
              "<style scoped>\n",
              "    .dataframe tbody tr th:only-of-type {\n",
              "        vertical-align: middle;\n",
              "    }\n",
              "\n",
              "    .dataframe tbody tr th {\n",
              "        vertical-align: top;\n",
              "    }\n",
              "\n",
              "    .dataframe thead th {\n",
              "        text-align: right;\n",
              "    }\n",
              "</style>\n",
              "<table border=\"1\" class=\"dataframe\">\n",
              "  <thead>\n",
              "    <tr style=\"text-align: right;\">\n",
              "      <th></th>\n",
              "      <th>nuclear_generation_actual</th>\n",
              "      <th>nuclear_generation_estimated</th>\n",
              "      <th>hydro_generation_actual</th>\n",
              "      <th>hydro_generation_estimated</th>\n",
              "    </tr>\n",
              "  </thead>\n",
              "  <tbody>\n",
              "    <tr>\n",
              "      <th>count</th>\n",
              "      <td>2967.000000</td>\n",
              "      <td>2967.000000</td>\n",
              "      <td>4945.000000</td>\n",
              "      <td>4945.000000</td>\n",
              "    </tr>\n",
              "    <tr>\n",
              "      <th>mean</th>\n",
              "      <td>37.242208</td>\n",
              "      <td>36.987877</td>\n",
              "      <td>73.305921</td>\n",
              "      <td>76.842965</td>\n",
              "    </tr>\n",
              "    <tr>\n",
              "      <th>std</th>\n",
              "      <td>15.883968</td>\n",
              "      <td>11.491292</td>\n",
              "      <td>74.482145</td>\n",
              "      <td>82.043952</td>\n",
              "    </tr>\n",
              "    <tr>\n",
              "      <th>min</th>\n",
              "      <td>0.000000</td>\n",
              "      <td>0.000000</td>\n",
              "      <td>0.000000</td>\n",
              "      <td>0.000000</td>\n",
              "    </tr>\n",
              "    <tr>\n",
              "      <th>25%</th>\n",
              "      <td>26.140000</td>\n",
              "      <td>30.190000</td>\n",
              "      <td>26.910000</td>\n",
              "      <td>23.310000</td>\n",
              "    </tr>\n",
              "    <tr>\n",
              "      <th>50%</th>\n",
              "      <td>30.720000</td>\n",
              "      <td>34.840000</td>\n",
              "      <td>52.960000</td>\n",
              "      <td>50.270000</td>\n",
              "    </tr>\n",
              "    <tr>\n",
              "      <th>75%</th>\n",
              "      <td>46.830000</td>\n",
              "      <td>43.075000</td>\n",
              "      <td>85.940000</td>\n",
              "      <td>95.800000</td>\n",
              "    </tr>\n",
              "    <tr>\n",
              "      <th>max</th>\n",
              "      <td>68.740000</td>\n",
              "      <td>76.640000</td>\n",
              "      <td>348.720000</td>\n",
              "      <td>397.380000</td>\n",
              "    </tr>\n",
              "  </tbody>\n",
              "</table>\n",
              "</div>"
            ],
            "text/plain": [
              "       nuclear_generation_actual  ...  hydro_generation_estimated\n",
              "count                2967.000000  ...                 4945.000000\n",
              "mean                   37.242208  ...                   76.842965\n",
              "std                    15.883968  ...                   82.043952\n",
              "min                     0.000000  ...                    0.000000\n",
              "25%                    26.140000  ...                   23.310000\n",
              "50%                    30.720000  ...                   50.270000\n",
              "75%                    46.830000  ...                   95.800000\n",
              "max                    68.740000  ...                  397.380000\n",
              "\n",
              "[8 rows x 4 columns]"
            ]
          },
          "metadata": {
            "tags": []
          },
          "execution_count": 97
        }
      ]
    },
    {
      "cell_type": "code",
      "metadata": {
        "id": "zAA1HD_bfIFE",
        "colab_type": "code",
        "colab": {
          "base_uri": "https://localhost:8080/",
          "height": 301
        },
        "outputId": "336a8e2d-4887-4d6b-8a12-3b68a7bb4a04"
      },
      "source": [
        "states_df.describe()"
      ],
      "execution_count": 98,
      "outputs": [
        {
          "output_type": "execute_result",
          "data": {
            "text/html": [
              "<div>\n",
              "<style scoped>\n",
              "    .dataframe tbody tr th:only-of-type {\n",
              "        vertical-align: middle;\n",
              "    }\n",
              "\n",
              "    .dataframe tbody tr th {\n",
              "        vertical-align: top;\n",
              "    }\n",
              "\n",
              "    .dataframe thead th {\n",
              "        text-align: right;\n",
              "    }\n",
              "</style>\n",
              "<table border=\"1\" class=\"dataframe\">\n",
              "  <thead>\n",
              "    <tr style=\"text-align: right;\">\n",
              "      <th></th>\n",
              "      <th>area</th>\n",
              "      <th>national_share</th>\n",
              "    </tr>\n",
              "  </thead>\n",
              "  <tbody>\n",
              "    <tr>\n",
              "      <th>count</th>\n",
              "      <td>34.000000</td>\n",
              "      <td>34.000000</td>\n",
              "    </tr>\n",
              "    <tr>\n",
              "      <th>mean</th>\n",
              "      <td>92889.117647</td>\n",
              "      <td>2.826265</td>\n",
              "    </tr>\n",
              "    <tr>\n",
              "      <th>std</th>\n",
              "      <td>95464.810113</td>\n",
              "      <td>2.914077</td>\n",
              "    </tr>\n",
              "    <tr>\n",
              "      <th>min</th>\n",
              "      <td>114.000000</td>\n",
              "      <td>0.003000</td>\n",
              "    </tr>\n",
              "    <tr>\n",
              "      <th>25%</th>\n",
              "      <td>21392.500000</td>\n",
              "      <td>0.650000</td>\n",
              "    </tr>\n",
              "    <tr>\n",
              "      <th>50%</th>\n",
              "      <td>57409.500000</td>\n",
              "      <td>1.750000</td>\n",
              "    </tr>\n",
              "    <tr>\n",
              "      <th>75%</th>\n",
              "      <td>133907.750000</td>\n",
              "      <td>4.070000</td>\n",
              "    </tr>\n",
              "    <tr>\n",
              "      <th>max</th>\n",
              "      <td>342239.000000</td>\n",
              "      <td>10.550000</td>\n",
              "    </tr>\n",
              "  </tbody>\n",
              "</table>\n",
              "</div>"
            ],
            "text/plain": [
              "                area  national_share\n",
              "count      34.000000       34.000000\n",
              "mean    92889.117647        2.826265\n",
              "std     95464.810113        2.914077\n",
              "min       114.000000        0.003000\n",
              "25%     21392.500000        0.650000\n",
              "50%     57409.500000        1.750000\n",
              "75%    133907.750000        4.070000\n",
              "max    342239.000000       10.550000"
            ]
          },
          "metadata": {
            "tags": []
          },
          "execution_count": 98
        }
      ]
    },
    {
      "cell_type": "markdown",
      "metadata": {
        "id": "5BsPQDyxfVEw",
        "colab_type": "text"
      },
      "source": [
        "## Find if there are any null values in both the dataframes, if there are, what is the possile strategy to deal with them?"
      ]
    },
    {
      "cell_type": "code",
      "metadata": {
        "id": "UrrJ2ij9fK7B",
        "colab_type": "code",
        "colab": {
          "base_uri": "https://localhost:8080/",
          "height": 185
        },
        "outputId": "aabe0dd8-e7b1-440d-9c9a-12d117150f86"
      },
      "source": [
        "power_df.isnull().sum()"
      ],
      "execution_count": 99,
      "outputs": [
        {
          "output_type": "execute_result",
          "data": {
            "text/plain": [
              "date                               0\n",
              "region                             0\n",
              "thermal_generation_actual          0\n",
              "thermal_generation_estimated       0\n",
              "nuclear_generation_actual       1978\n",
              "nuclear_generation_estimated    1978\n",
              "hydro_generation_actual            0\n",
              "hydro_generation_estimated         0\n",
              "dtype: int64"
            ]
          },
          "metadata": {
            "tags": []
          },
          "execution_count": 99
        }
      ]
    },
    {
      "cell_type": "code",
      "metadata": {
        "id": "mW_VDhGsg8z6",
        "colab_type": "code",
        "colab": {
          "base_uri": "https://localhost:8080/",
          "height": 110
        },
        "outputId": "169a6e5b-5f38-45ea-84fc-d6b6aa409aa9"
      },
      "source": [
        "states_df.isnull().sum()"
      ],
      "execution_count": 100,
      "outputs": [
        {
          "output_type": "execute_result",
          "data": {
            "text/plain": [
              "state             0\n",
              "area              0\n",
              "region            0\n",
              "national_share    0\n",
              "dtype: int64"
            ]
          },
          "metadata": {
            "tags": []
          },
          "execution_count": 100
        }
      ]
    },
    {
      "cell_type": "markdown",
      "metadata": {
        "id": "6HO-7rvLhFTt",
        "colab_type": "text"
      },
      "source": [
        "## Subset the dataframe with only the null values and check for pattern"
      ]
    },
    {
      "cell_type": "code",
      "metadata": {
        "id": "eOZ9R3P2hAaA",
        "colab_type": "code",
        "colab": {
          "base_uri": "https://localhost:8080/",
          "height": 226
        },
        "outputId": "131132ae-9c09-432d-9912-9bd76c9b8e45"
      },
      "source": [
        "power_df[power_df['nuclear_generation_actual'].isnull()].head()"
      ],
      "execution_count": 101,
      "outputs": [
        {
          "output_type": "execute_result",
          "data": {
            "text/html": [
              "<div>\n",
              "<style scoped>\n",
              "    .dataframe tbody tr th:only-of-type {\n",
              "        vertical-align: middle;\n",
              "    }\n",
              "\n",
              "    .dataframe tbody tr th {\n",
              "        vertical-align: top;\n",
              "    }\n",
              "\n",
              "    .dataframe thead th {\n",
              "        text-align: right;\n",
              "    }\n",
              "</style>\n",
              "<table border=\"1\" class=\"dataframe\">\n",
              "  <thead>\n",
              "    <tr style=\"text-align: right;\">\n",
              "      <th></th>\n",
              "      <th>date</th>\n",
              "      <th>region</th>\n",
              "      <th>thermal_generation_actual</th>\n",
              "      <th>thermal_generation_estimated</th>\n",
              "      <th>nuclear_generation_actual</th>\n",
              "      <th>nuclear_generation_estimated</th>\n",
              "      <th>hydro_generation_actual</th>\n",
              "      <th>hydro_generation_estimated</th>\n",
              "    </tr>\n",
              "  </thead>\n",
              "  <tbody>\n",
              "    <tr>\n",
              "      <th>3</th>\n",
              "      <td>2017-09-01</td>\n",
              "      <td>Eastern</td>\n",
              "      <td>441.02</td>\n",
              "      <td>429.39</td>\n",
              "      <td>NaN</td>\n",
              "      <td>NaN</td>\n",
              "      <td>85.94</td>\n",
              "      <td>69.36</td>\n",
              "    </tr>\n",
              "    <tr>\n",
              "      <th>4</th>\n",
              "      <td>2017-09-01</td>\n",
              "      <td>NorthEastern</td>\n",
              "      <td>29.11</td>\n",
              "      <td>15.91</td>\n",
              "      <td>NaN</td>\n",
              "      <td>NaN</td>\n",
              "      <td>24.64</td>\n",
              "      <td>21.21</td>\n",
              "    </tr>\n",
              "    <tr>\n",
              "      <th>8</th>\n",
              "      <td>2017-09-02</td>\n",
              "      <td>Eastern</td>\n",
              "      <td>441.02</td>\n",
              "      <td>425.75</td>\n",
              "      <td>NaN</td>\n",
              "      <td>NaN</td>\n",
              "      <td>85.94</td>\n",
              "      <td>74.18</td>\n",
              "    </tr>\n",
              "    <tr>\n",
              "      <th>9</th>\n",
              "      <td>2017-09-02</td>\n",
              "      <td>NorthEastern</td>\n",
              "      <td>29.11</td>\n",
              "      <td>16.50</td>\n",
              "      <td>NaN</td>\n",
              "      <td>NaN</td>\n",
              "      <td>24.64</td>\n",
              "      <td>20.81</td>\n",
              "    </tr>\n",
              "    <tr>\n",
              "      <th>13</th>\n",
              "      <td>2017-09-03</td>\n",
              "      <td>Eastern</td>\n",
              "      <td>445.38</td>\n",
              "      <td>427.61</td>\n",
              "      <td>NaN</td>\n",
              "      <td>NaN</td>\n",
              "      <td>85.94</td>\n",
              "      <td>71.05</td>\n",
              "    </tr>\n",
              "  </tbody>\n",
              "</table>\n",
              "</div>"
            ],
            "text/plain": [
              "          date  ... hydro_generation_estimated\n",
              "3   2017-09-01  ...                      69.36\n",
              "4   2017-09-01  ...                      21.21\n",
              "8   2017-09-02  ...                      74.18\n",
              "9   2017-09-02  ...                      20.81\n",
              "13  2017-09-03  ...                      71.05\n",
              "\n",
              "[5 rows x 8 columns]"
            ]
          },
          "metadata": {
            "tags": []
          },
          "execution_count": 101
        }
      ]
    },
    {
      "cell_type": "code",
      "metadata": {
        "id": "F0bRZHtWiUGG",
        "colab_type": "code",
        "colab": {
          "base_uri": "https://localhost:8080/",
          "height": 36
        },
        "outputId": "ce154168-6378-4f15-abd9-0191fd582694"
      },
      "source": [
        "power_df[power_df['nuclear_generation_actual'].isnull()]['region'].unique()"
      ],
      "execution_count": 102,
      "outputs": [
        {
          "output_type": "execute_result",
          "data": {
            "text/plain": [
              "array(['Eastern', 'NorthEastern'], dtype=object)"
            ]
          },
          "metadata": {
            "tags": []
          },
          "execution_count": 102
        }
      ]
    },
    {
      "cell_type": "code",
      "metadata": {
        "id": "uiiQrCQGifgS",
        "colab_type": "code",
        "colab": {
          "base_uri": "https://localhost:8080/",
          "height": 226
        },
        "outputId": "d34e4b53-9ec6-44eb-9288-e2396da54db6"
      },
      "source": [
        "power_df[power_df['nuclear_generation_estimated'].isnull()].head()"
      ],
      "execution_count": 103,
      "outputs": [
        {
          "output_type": "execute_result",
          "data": {
            "text/html": [
              "<div>\n",
              "<style scoped>\n",
              "    .dataframe tbody tr th:only-of-type {\n",
              "        vertical-align: middle;\n",
              "    }\n",
              "\n",
              "    .dataframe tbody tr th {\n",
              "        vertical-align: top;\n",
              "    }\n",
              "\n",
              "    .dataframe thead th {\n",
              "        text-align: right;\n",
              "    }\n",
              "</style>\n",
              "<table border=\"1\" class=\"dataframe\">\n",
              "  <thead>\n",
              "    <tr style=\"text-align: right;\">\n",
              "      <th></th>\n",
              "      <th>date</th>\n",
              "      <th>region</th>\n",
              "      <th>thermal_generation_actual</th>\n",
              "      <th>thermal_generation_estimated</th>\n",
              "      <th>nuclear_generation_actual</th>\n",
              "      <th>nuclear_generation_estimated</th>\n",
              "      <th>hydro_generation_actual</th>\n",
              "      <th>hydro_generation_estimated</th>\n",
              "    </tr>\n",
              "  </thead>\n",
              "  <tbody>\n",
              "    <tr>\n",
              "      <th>3</th>\n",
              "      <td>2017-09-01</td>\n",
              "      <td>Eastern</td>\n",
              "      <td>441.02</td>\n",
              "      <td>429.39</td>\n",
              "      <td>NaN</td>\n",
              "      <td>NaN</td>\n",
              "      <td>85.94</td>\n",
              "      <td>69.36</td>\n",
              "    </tr>\n",
              "    <tr>\n",
              "      <th>4</th>\n",
              "      <td>2017-09-01</td>\n",
              "      <td>NorthEastern</td>\n",
              "      <td>29.11</td>\n",
              "      <td>15.91</td>\n",
              "      <td>NaN</td>\n",
              "      <td>NaN</td>\n",
              "      <td>24.64</td>\n",
              "      <td>21.21</td>\n",
              "    </tr>\n",
              "    <tr>\n",
              "      <th>8</th>\n",
              "      <td>2017-09-02</td>\n",
              "      <td>Eastern</td>\n",
              "      <td>441.02</td>\n",
              "      <td>425.75</td>\n",
              "      <td>NaN</td>\n",
              "      <td>NaN</td>\n",
              "      <td>85.94</td>\n",
              "      <td>74.18</td>\n",
              "    </tr>\n",
              "    <tr>\n",
              "      <th>9</th>\n",
              "      <td>2017-09-02</td>\n",
              "      <td>NorthEastern</td>\n",
              "      <td>29.11</td>\n",
              "      <td>16.50</td>\n",
              "      <td>NaN</td>\n",
              "      <td>NaN</td>\n",
              "      <td>24.64</td>\n",
              "      <td>20.81</td>\n",
              "    </tr>\n",
              "    <tr>\n",
              "      <th>13</th>\n",
              "      <td>2017-09-03</td>\n",
              "      <td>Eastern</td>\n",
              "      <td>445.38</td>\n",
              "      <td>427.61</td>\n",
              "      <td>NaN</td>\n",
              "      <td>NaN</td>\n",
              "      <td>85.94</td>\n",
              "      <td>71.05</td>\n",
              "    </tr>\n",
              "  </tbody>\n",
              "</table>\n",
              "</div>"
            ],
            "text/plain": [
              "          date  ... hydro_generation_estimated\n",
              "3   2017-09-01  ...                      69.36\n",
              "4   2017-09-01  ...                      21.21\n",
              "8   2017-09-02  ...                      74.18\n",
              "9   2017-09-02  ...                      20.81\n",
              "13  2017-09-03  ...                      71.05\n",
              "\n",
              "[5 rows x 8 columns]"
            ]
          },
          "metadata": {
            "tags": []
          },
          "execution_count": 103
        }
      ]
    },
    {
      "cell_type": "code",
      "metadata": {
        "id": "tt-MOaMaifGf",
        "colab_type": "code",
        "colab": {
          "base_uri": "https://localhost:8080/",
          "height": 36
        },
        "outputId": "d0c46bf7-a610-484a-f858-7701b52b38cd"
      },
      "source": [
        "power_df[power_df['nuclear_generation_estimated'].isnull()]['region'].unique()"
      ],
      "execution_count": 104,
      "outputs": [
        {
          "output_type": "execute_result",
          "data": {
            "text/plain": [
              "array(['Eastern', 'NorthEastern'], dtype=object)"
            ]
          },
          "metadata": {
            "tags": []
          },
          "execution_count": 104
        }
      ]
    },
    {
      "cell_type": "code",
      "metadata": {
        "id": "GZUMPHEni5ao",
        "colab_type": "code",
        "colab": {
          "base_uri": "https://localhost:8080/",
          "height": 238
        },
        "outputId": "d89e5251-b979-4320-cbe0-80873a444cc0"
      },
      "source": [
        "power_df.groupby('region').sum()"
      ],
      "execution_count": 105,
      "outputs": [
        {
          "output_type": "execute_result",
          "data": {
            "text/html": [
              "<div>\n",
              "<style scoped>\n",
              "    .dataframe tbody tr th:only-of-type {\n",
              "        vertical-align: middle;\n",
              "    }\n",
              "\n",
              "    .dataframe tbody tr th {\n",
              "        vertical-align: top;\n",
              "    }\n",
              "\n",
              "    .dataframe thead th {\n",
              "        text-align: right;\n",
              "    }\n",
              "</style>\n",
              "<table border=\"1\" class=\"dataframe\">\n",
              "  <thead>\n",
              "    <tr style=\"text-align: right;\">\n",
              "      <th></th>\n",
              "      <th>nuclear_generation_actual</th>\n",
              "      <th>nuclear_generation_estimated</th>\n",
              "      <th>hydro_generation_actual</th>\n",
              "      <th>hydro_generation_estimated</th>\n",
              "    </tr>\n",
              "    <tr>\n",
              "      <th>region</th>\n",
              "      <th></th>\n",
              "      <th></th>\n",
              "      <th></th>\n",
              "      <th></th>\n",
              "    </tr>\n",
              "  </thead>\n",
              "  <tbody>\n",
              "    <tr>\n",
              "      <th>Eastern</th>\n",
              "      <td>0.00</td>\n",
              "      <td>0.00</td>\n",
              "      <td>48686.62</td>\n",
              "      <td>52461.95</td>\n",
              "    </tr>\n",
              "    <tr>\n",
              "      <th>NorthEastern</th>\n",
              "      <td>0.00</td>\n",
              "      <td>0.00</td>\n",
              "      <td>17612.32</td>\n",
              "      <td>14058.66</td>\n",
              "    </tr>\n",
              "    <tr>\n",
              "      <th>Northern</th>\n",
              "      <td>26964.08</td>\n",
              "      <td>31378.94</td>\n",
              "      <td>188854.16</td>\n",
              "      <td>201204.03</td>\n",
              "    </tr>\n",
              "    <tr>\n",
              "      <th>Southern</th>\n",
              "      <td>55855.21</td>\n",
              "      <td>46483.24</td>\n",
              "      <td>71109.34</td>\n",
              "      <td>77083.80</td>\n",
              "    </tr>\n",
              "    <tr>\n",
              "      <th>Western</th>\n",
              "      <td>27678.34</td>\n",
              "      <td>31880.85</td>\n",
              "      <td>36235.34</td>\n",
              "      <td>35180.02</td>\n",
              "    </tr>\n",
              "  </tbody>\n",
              "</table>\n",
              "</div>"
            ],
            "text/plain": [
              "              nuclear_generation_actual  ...  hydro_generation_estimated\n",
              "region                                   ...                            \n",
              "Eastern                            0.00  ...                    52461.95\n",
              "NorthEastern                       0.00  ...                    14058.66\n",
              "Northern                       26964.08  ...                   201204.03\n",
              "Southern                       55855.21  ...                    77083.80\n",
              "Western                        27678.34  ...                    35180.02\n",
              "\n",
              "[5 rows x 4 columns]"
            ]
          },
          "metadata": {
            "tags": []
          },
          "execution_count": 105
        }
      ]
    },
    {
      "cell_type": "markdown",
      "metadata": {
        "id": "ZaZIN209hXEM",
        "colab_type": "text"
      },
      "source": [
        "### Nuclear Generation columns are empty for Eastern and NorthEastern region. Could be due to no nuclear plants in that region.So, Replacing the NaN values with 0"
      ]
    },
    {
      "cell_type": "code",
      "metadata": {
        "id": "bdOWFOkMhSZx",
        "colab_type": "code",
        "colab": {}
      },
      "source": [
        "power_df = power_df.fillna(0)"
      ],
      "execution_count": 106,
      "outputs": []
    },
    {
      "cell_type": "code",
      "metadata": {
        "id": "HclrMzk6jnTX",
        "colab_type": "code",
        "colab": {
          "base_uri": "https://localhost:8080/",
          "height": 185
        },
        "outputId": "25fe84c4-4beb-4a5c-b6b2-a7a70a0c5c99"
      },
      "source": [
        "power_df.isnull().sum()"
      ],
      "execution_count": 107,
      "outputs": [
        {
          "output_type": "execute_result",
          "data": {
            "text/plain": [
              "date                            0\n",
              "region                          0\n",
              "thermal_generation_actual       0\n",
              "thermal_generation_estimated    0\n",
              "nuclear_generation_actual       0\n",
              "nuclear_generation_estimated    0\n",
              "hydro_generation_actual         0\n",
              "hydro_generation_estimated      0\n",
              "dtype: int64"
            ]
          },
          "metadata": {
            "tags": []
          },
          "execution_count": 107
        }
      ]
    },
    {
      "cell_type": "markdown",
      "metadata": {
        "id": "Fg97ey512Pue",
        "colab_type": "text"
      },
      "source": [
        "## Covert the thermal generation values to float in the power_df"
      ]
    },
    {
      "cell_type": "code",
      "metadata": {
        "id": "h6qUUWO42PKU",
        "colab_type": "code",
        "colab": {
          "base_uri": "https://localhost:8080/",
          "height": 226
        },
        "outputId": "e7d0c3e3-0702-4d07-b908-7d844a1bd797"
      },
      "source": [
        "power_df['thermal_generation_actual'] = power_df['thermal_generation_actual'].str.replace(',','').astype(np.float64)\n",
        "\n",
        "power_df['thermal_generation_estimated'] = power_df['thermal_generation_estimated'].str.replace(',','').astype(np.float64)\n",
        "\n",
        "power_df.head()\n",
        "\n"
      ],
      "execution_count": 108,
      "outputs": [
        {
          "output_type": "execute_result",
          "data": {
            "text/html": [
              "<div>\n",
              "<style scoped>\n",
              "    .dataframe tbody tr th:only-of-type {\n",
              "        vertical-align: middle;\n",
              "    }\n",
              "\n",
              "    .dataframe tbody tr th {\n",
              "        vertical-align: top;\n",
              "    }\n",
              "\n",
              "    .dataframe thead th {\n",
              "        text-align: right;\n",
              "    }\n",
              "</style>\n",
              "<table border=\"1\" class=\"dataframe\">\n",
              "  <thead>\n",
              "    <tr style=\"text-align: right;\">\n",
              "      <th></th>\n",
              "      <th>date</th>\n",
              "      <th>region</th>\n",
              "      <th>thermal_generation_actual</th>\n",
              "      <th>thermal_generation_estimated</th>\n",
              "      <th>nuclear_generation_actual</th>\n",
              "      <th>nuclear_generation_estimated</th>\n",
              "      <th>hydro_generation_actual</th>\n",
              "      <th>hydro_generation_estimated</th>\n",
              "    </tr>\n",
              "  </thead>\n",
              "  <tbody>\n",
              "    <tr>\n",
              "      <th>0</th>\n",
              "      <td>2017-09-01</td>\n",
              "      <td>Northern</td>\n",
              "      <td>624.23</td>\n",
              "      <td>484.21</td>\n",
              "      <td>30.36</td>\n",
              "      <td>35.57</td>\n",
              "      <td>273.27</td>\n",
              "      <td>320.81</td>\n",
              "    </tr>\n",
              "    <tr>\n",
              "      <th>1</th>\n",
              "      <td>2017-09-01</td>\n",
              "      <td>Western</td>\n",
              "      <td>1106.89</td>\n",
              "      <td>1024.33</td>\n",
              "      <td>25.17</td>\n",
              "      <td>3.81</td>\n",
              "      <td>72.00</td>\n",
              "      <td>21.53</td>\n",
              "    </tr>\n",
              "    <tr>\n",
              "      <th>2</th>\n",
              "      <td>2017-09-01</td>\n",
              "      <td>Southern</td>\n",
              "      <td>576.66</td>\n",
              "      <td>578.55</td>\n",
              "      <td>62.73</td>\n",
              "      <td>49.80</td>\n",
              "      <td>111.57</td>\n",
              "      <td>64.78</td>\n",
              "    </tr>\n",
              "    <tr>\n",
              "      <th>3</th>\n",
              "      <td>2017-09-01</td>\n",
              "      <td>Eastern</td>\n",
              "      <td>441.02</td>\n",
              "      <td>429.39</td>\n",
              "      <td>0.00</td>\n",
              "      <td>0.00</td>\n",
              "      <td>85.94</td>\n",
              "      <td>69.36</td>\n",
              "    </tr>\n",
              "    <tr>\n",
              "      <th>4</th>\n",
              "      <td>2017-09-01</td>\n",
              "      <td>NorthEastern</td>\n",
              "      <td>29.11</td>\n",
              "      <td>15.91</td>\n",
              "      <td>0.00</td>\n",
              "      <td>0.00</td>\n",
              "      <td>24.64</td>\n",
              "      <td>21.21</td>\n",
              "    </tr>\n",
              "  </tbody>\n",
              "</table>\n",
              "</div>"
            ],
            "text/plain": [
              "         date  ... hydro_generation_estimated\n",
              "0  2017-09-01  ...                     320.81\n",
              "1  2017-09-01  ...                      21.53\n",
              "2  2017-09-01  ...                      64.78\n",
              "3  2017-09-01  ...                      69.36\n",
              "4  2017-09-01  ...                      21.21\n",
              "\n",
              "[5 rows x 8 columns]"
            ]
          },
          "metadata": {
            "tags": []
          },
          "execution_count": 108
        }
      ]
    },
    {
      "cell_type": "markdown",
      "metadata": {
        "id": "QVXDt_2z35kk",
        "colab_type": "text"
      },
      "source": [
        "## Coverting the date values to DateTime format"
      ]
    },
    {
      "cell_type": "code",
      "metadata": {
        "id": "580qpWiOl50t",
        "colab_type": "code",
        "colab": {}
      },
      "source": [
        "power_df['date'] = pd.to_datetime(power_df['date'])"
      ],
      "execution_count": 109,
      "outputs": []
    },
    {
      "cell_type": "code",
      "metadata": {
        "id": "DsrhXFVJ4BOo",
        "colab_type": "code",
        "colab": {
          "base_uri": "https://localhost:8080/",
          "height": 226
        },
        "outputId": "c65a7388-aef8-4802-bcca-bb410df959f7"
      },
      "source": [
        "power_df.head()"
      ],
      "execution_count": 110,
      "outputs": [
        {
          "output_type": "execute_result",
          "data": {
            "text/html": [
              "<div>\n",
              "<style scoped>\n",
              "    .dataframe tbody tr th:only-of-type {\n",
              "        vertical-align: middle;\n",
              "    }\n",
              "\n",
              "    .dataframe tbody tr th {\n",
              "        vertical-align: top;\n",
              "    }\n",
              "\n",
              "    .dataframe thead th {\n",
              "        text-align: right;\n",
              "    }\n",
              "</style>\n",
              "<table border=\"1\" class=\"dataframe\">\n",
              "  <thead>\n",
              "    <tr style=\"text-align: right;\">\n",
              "      <th></th>\n",
              "      <th>date</th>\n",
              "      <th>region</th>\n",
              "      <th>thermal_generation_actual</th>\n",
              "      <th>thermal_generation_estimated</th>\n",
              "      <th>nuclear_generation_actual</th>\n",
              "      <th>nuclear_generation_estimated</th>\n",
              "      <th>hydro_generation_actual</th>\n",
              "      <th>hydro_generation_estimated</th>\n",
              "    </tr>\n",
              "  </thead>\n",
              "  <tbody>\n",
              "    <tr>\n",
              "      <th>0</th>\n",
              "      <td>2017-09-01</td>\n",
              "      <td>Northern</td>\n",
              "      <td>624.23</td>\n",
              "      <td>484.21</td>\n",
              "      <td>30.36</td>\n",
              "      <td>35.57</td>\n",
              "      <td>273.27</td>\n",
              "      <td>320.81</td>\n",
              "    </tr>\n",
              "    <tr>\n",
              "      <th>1</th>\n",
              "      <td>2017-09-01</td>\n",
              "      <td>Western</td>\n",
              "      <td>1106.89</td>\n",
              "      <td>1024.33</td>\n",
              "      <td>25.17</td>\n",
              "      <td>3.81</td>\n",
              "      <td>72.00</td>\n",
              "      <td>21.53</td>\n",
              "    </tr>\n",
              "    <tr>\n",
              "      <th>2</th>\n",
              "      <td>2017-09-01</td>\n",
              "      <td>Southern</td>\n",
              "      <td>576.66</td>\n",
              "      <td>578.55</td>\n",
              "      <td>62.73</td>\n",
              "      <td>49.80</td>\n",
              "      <td>111.57</td>\n",
              "      <td>64.78</td>\n",
              "    </tr>\n",
              "    <tr>\n",
              "      <th>3</th>\n",
              "      <td>2017-09-01</td>\n",
              "      <td>Eastern</td>\n",
              "      <td>441.02</td>\n",
              "      <td>429.39</td>\n",
              "      <td>0.00</td>\n",
              "      <td>0.00</td>\n",
              "      <td>85.94</td>\n",
              "      <td>69.36</td>\n",
              "    </tr>\n",
              "    <tr>\n",
              "      <th>4</th>\n",
              "      <td>2017-09-01</td>\n",
              "      <td>NorthEastern</td>\n",
              "      <td>29.11</td>\n",
              "      <td>15.91</td>\n",
              "      <td>0.00</td>\n",
              "      <td>0.00</td>\n",
              "      <td>24.64</td>\n",
              "      <td>21.21</td>\n",
              "    </tr>\n",
              "  </tbody>\n",
              "</table>\n",
              "</div>"
            ],
            "text/plain": [
              "        date        region  ...  hydro_generation_actual  hydro_generation_estimated\n",
              "0 2017-09-01      Northern  ...                   273.27                      320.81\n",
              "1 2017-09-01       Western  ...                    72.00                       21.53\n",
              "2 2017-09-01      Southern  ...                   111.57                       64.78\n",
              "3 2017-09-01       Eastern  ...                    85.94                       69.36\n",
              "4 2017-09-01  NorthEastern  ...                    24.64                       21.21\n",
              "\n",
              "[5 rows x 8 columns]"
            ]
          },
          "metadata": {
            "tags": []
          },
          "execution_count": 110
        }
      ]
    },
    {
      "cell_type": "markdown",
      "metadata": {
        "id": "OhHDvO6R6V0O",
        "colab_type": "text"
      },
      "source": [
        "## Find out the region which has the highest number of states and find out which states they are.\n",
        "\n"
      ]
    },
    {
      "cell_type": "code",
      "metadata": {
        "id": "uXggPTIz4VYZ",
        "colab_type": "code",
        "colab": {
          "base_uri": "https://localhost:8080/",
          "height": 166
        },
        "outputId": "9d8cb0f9-ad3e-4184-fc57-a8e85822feb1"
      },
      "source": [
        "states_df.groupby(by=['region'])['state'].count()"
      ],
      "execution_count": 111,
      "outputs": [
        {
          "output_type": "execute_result",
          "data": {
            "text/plain": [
              "region\n",
              "Central          2\n",
              "Eastern          4\n",
              "NorthEastern     8\n",
              "Northern        10\n",
              "Southern         6\n",
              "Western          4\n",
              "Name: state, dtype: int64"
            ]
          },
          "metadata": {
            "tags": []
          },
          "execution_count": 111
        }
      ]
    },
    {
      "cell_type": "code",
      "metadata": {
        "id": "nhAkgBy16rvj",
        "colab_type": "code",
        "colab": {
          "base_uri": "https://localhost:8080/",
          "height": 354
        },
        "outputId": "054aba5d-18e4-4844-bbc3-b2f545d2c5d4"
      },
      "source": [
        "states_df.groupby(by=['region'])['state'].count().plot(kind = 'bar')"
      ],
      "execution_count": 112,
      "outputs": [
        {
          "output_type": "execute_result",
          "data": {
            "text/plain": [
              "<matplotlib.axes._subplots.AxesSubplot at 0x7faae842d278>"
            ]
          },
          "metadata": {
            "tags": []
          },
          "execution_count": 112
        },
        {
          "output_type": "display_data",
          "data": {
            "image/png": "[encoded data removed]",
            "text/plain": [
              "<Figure size 432x288 with 1 Axes>"
            ]
          },
          "metadata": {
            "tags": [],
            "needs_background": "light"
          }
        }
      ]
    },
    {
      "cell_type": "code",
      "metadata": {
        "id": "HwvcVLiF8Peo",
        "colab_type": "code",
        "colab": {
          "base_uri": "https://localhost:8080/",
          "height": 73
        },
        "outputId": "7d55e345-d34a-499a-85bf-aa61b90a428a"
      },
      "source": [
        "states_df.groupby(by=['region'])['state'].unique()['Northern']"
      ],
      "execution_count": 113,
      "outputs": [
        {
          "output_type": "execute_result",
          "data": {
            "text/plain": [
              "array(['Rajasthan', 'Uttar Pradesh', 'Ladakh', 'Himachal Pradesh',\n",
              "       'Uttarakhand', 'Punjab', 'Haryana', 'Jammu and Kashmir', 'Delhi',\n",
              "       'Chandigarh'], dtype=object)"
            ]
          },
          "metadata": {
            "tags": []
          },
          "execution_count": 113
        }
      ]
    },
    {
      "cell_type": "markdown",
      "metadata": {
        "id": "bsbxUPMqltyf",
        "colab_type": "text"
      },
      "source": [
        "##  Create a subset of the dataframe such that it shows mean power generated on each of the days for all the sectors."
      ]
    },
    {
      "cell_type": "code",
      "metadata": {
        "id": "7mSJ7F7z8Tsv",
        "colab_type": "code",
        "colab": {
          "base_uri": "https://localhost:8080/",
          "height": 226
        },
        "outputId": "ba8bb18d-01a0-450d-f37a-7e7b02d774c0"
      },
      "source": [
        "mean_power = power_df.groupby(by='date',as_index=False).mean()\n",
        "\n",
        "mean_power.head()"
      ],
      "execution_count": 114,
      "outputs": [
        {
          "output_type": "execute_result",
          "data": {
            "text/html": [
              "<div>\n",
              "<style scoped>\n",
              "    .dataframe tbody tr th:only-of-type {\n",
              "        vertical-align: middle;\n",
              "    }\n",
              "\n",
              "    .dataframe tbody tr th {\n",
              "        vertical-align: top;\n",
              "    }\n",
              "\n",
              "    .dataframe thead th {\n",
              "        text-align: right;\n",
              "    }\n",
              "</style>\n",
              "<table border=\"1\" class=\"dataframe\">\n",
              "  <thead>\n",
              "    <tr style=\"text-align: right;\">\n",
              "      <th></th>\n",
              "      <th>date</th>\n",
              "      <th>thermal_generation_actual</th>\n",
              "      <th>thermal_generation_estimated</th>\n",
              "      <th>nuclear_generation_actual</th>\n",
              "      <th>nuclear_generation_estimated</th>\n",
              "      <th>hydro_generation_actual</th>\n",
              "      <th>hydro_generation_estimated</th>\n",
              "    </tr>\n",
              "  </thead>\n",
              "  <tbody>\n",
              "    <tr>\n",
              "      <th>0</th>\n",
              "      <td>2017-09-01</td>\n",
              "      <td>555.582</td>\n",
              "      <td>506.478</td>\n",
              "      <td>23.652</td>\n",
              "      <td>17.836</td>\n",
              "      <td>113.484</td>\n",
              "      <td>99.538</td>\n",
              "    </tr>\n",
              "    <tr>\n",
              "      <th>1</th>\n",
              "      <td>2017-09-02</td>\n",
              "      <td>555.582</td>\n",
              "      <td>512.674</td>\n",
              "      <td>23.652</td>\n",
              "      <td>18.456</td>\n",
              "      <td>113.484</td>\n",
              "      <td>99.128</td>\n",
              "    </tr>\n",
              "    <tr>\n",
              "      <th>2</th>\n",
              "      <td>2017-09-03</td>\n",
              "      <td>555.554</td>\n",
              "      <td>506.646</td>\n",
              "      <td>23.652</td>\n",
              "      <td>18.514</td>\n",
              "      <td>113.484</td>\n",
              "      <td>94.610</td>\n",
              "    </tr>\n",
              "    <tr>\n",
              "      <th>3</th>\n",
              "      <td>2017-09-04</td>\n",
              "      <td>555.554</td>\n",
              "      <td>542.856</td>\n",
              "      <td>23.652</td>\n",
              "      <td>18.524</td>\n",
              "      <td>113.484</td>\n",
              "      <td>100.072</td>\n",
              "    </tr>\n",
              "    <tr>\n",
              "      <th>4</th>\n",
              "      <td>2017-09-05</td>\n",
              "      <td>558.170</td>\n",
              "      <td>555.930</td>\n",
              "      <td>23.652</td>\n",
              "      <td>18.542</td>\n",
              "      <td>113.484</td>\n",
              "      <td>94.032</td>\n",
              "    </tr>\n",
              "  </tbody>\n",
              "</table>\n",
              "</div>"
            ],
            "text/plain": [
              "        date  ...  hydro_generation_estimated\n",
              "0 2017-09-01  ...                      99.538\n",
              "1 2017-09-02  ...                      99.128\n",
              "2 2017-09-03  ...                      94.610\n",
              "3 2017-09-04  ...                     100.072\n",
              "4 2017-09-05  ...                      94.032\n",
              "\n",
              "[5 rows x 7 columns]"
            ]
          },
          "metadata": {
            "tags": []
          },
          "execution_count": 114
        }
      ]
    },
    {
      "cell_type": "markdown",
      "metadata": {
        "id": "eH7bpSdUuC_-",
        "colab_type": "text"
      },
      "source": [
        "## Plotting a graph of mean of all the types of power gernerations in all of India, with total power generation"
      ]
    },
    {
      "cell_type": "code",
      "metadata": {
        "id": "R5yXOrVCpYW6",
        "colab_type": "code",
        "colab": {}
      },
      "source": [
        "power_actcols = mean_power.loc[:,['date','thermal_generation_actual','nuclear_generation_actual','hydro_generation_actual']]\n",
        "\n",
        "\n",
        "power_actcols['total_generation_actual'] = power_actcols.iloc[:,1:3].mean(axis=1)\n"
      ],
      "execution_count": 115,
      "outputs": []
    },
    {
      "cell_type": "code",
      "metadata": {
        "id": "avSv1nw2qnJv",
        "colab_type": "code",
        "colab": {
          "base_uri": "https://localhost:8080/",
          "height": 206
        },
        "outputId": "0d0b9218-ca16-407e-ba5b-d34a0e41824d"
      },
      "source": [
        "power_actcols.head()"
      ],
      "execution_count": 116,
      "outputs": [
        {
          "output_type": "execute_result",
          "data": {
            "text/html": [
              "<div>\n",
              "<style scoped>\n",
              "    .dataframe tbody tr th:only-of-type {\n",
              "        vertical-align: middle;\n",
              "    }\n",
              "\n",
              "    .dataframe tbody tr th {\n",
              "        vertical-align: top;\n",
              "    }\n",
              "\n",
              "    .dataframe thead th {\n",
              "        text-align: right;\n",
              "    }\n",
              "</style>\n",
              "<table border=\"1\" class=\"dataframe\">\n",
              "  <thead>\n",
              "    <tr style=\"text-align: right;\">\n",
              "      <th></th>\n",
              "      <th>date</th>\n",
              "      <th>thermal_generation_actual</th>\n",
              "      <th>nuclear_generation_actual</th>\n",
              "      <th>hydro_generation_actual</th>\n",
              "      <th>total_generation_actual</th>\n",
              "    </tr>\n",
              "  </thead>\n",
              "  <tbody>\n",
              "    <tr>\n",
              "      <th>0</th>\n",
              "      <td>2017-09-01</td>\n",
              "      <td>555.582</td>\n",
              "      <td>23.652</td>\n",
              "      <td>113.484</td>\n",
              "      <td>289.617</td>\n",
              "    </tr>\n",
              "    <tr>\n",
              "      <th>1</th>\n",
              "      <td>2017-09-02</td>\n",
              "      <td>555.582</td>\n",
              "      <td>23.652</td>\n",
              "      <td>113.484</td>\n",
              "      <td>289.617</td>\n",
              "    </tr>\n",
              "    <tr>\n",
              "      <th>2</th>\n",
              "      <td>2017-09-03</td>\n",
              "      <td>555.554</td>\n",
              "      <td>23.652</td>\n",
              "      <td>113.484</td>\n",
              "      <td>289.603</td>\n",
              "    </tr>\n",
              "    <tr>\n",
              "      <th>3</th>\n",
              "      <td>2017-09-04</td>\n",
              "      <td>555.554</td>\n",
              "      <td>23.652</td>\n",
              "      <td>113.484</td>\n",
              "      <td>289.603</td>\n",
              "    </tr>\n",
              "    <tr>\n",
              "      <th>4</th>\n",
              "      <td>2017-09-05</td>\n",
              "      <td>558.170</td>\n",
              "      <td>23.652</td>\n",
              "      <td>113.484</td>\n",
              "      <td>290.911</td>\n",
              "    </tr>\n",
              "  </tbody>\n",
              "</table>\n",
              "</div>"
            ],
            "text/plain": [
              "        date  ...  total_generation_actual\n",
              "0 2017-09-01  ...                  289.617\n",
              "1 2017-09-02  ...                  289.617\n",
              "2 2017-09-03  ...                  289.603\n",
              "3 2017-09-04  ...                  289.603\n",
              "4 2017-09-05  ...                  290.911\n",
              "\n",
              "[5 rows x 5 columns]"
            ]
          },
          "metadata": {
            "tags": []
          },
          "execution_count": 116
        }
      ]
    },
    {
      "cell_type": "code",
      "metadata": {
        "id": "75wOtiH6vYS2",
        "colab_type": "code",
        "colab": {
          "base_uri": "https://localhost:8080/",
          "height": 570
        },
        "outputId": "52e1ebc2-2386-4d7e-b735-63e1b78fa7c0"
      },
      "source": [
        "plt.figure(figsize=(18,9))\n",
        "#power_actcols.plot(x='Date',y='Total Actual Generation')\n",
        "\n",
        "plt.plot(power_actcols['date'],power_actcols['thermal_generation_actual'],label='Thermal Generation Actual')\n",
        "plt.plot(power_actcols['date'],power_actcols['nuclear_generation_actual'],label='Nuclear Generation Actual')\n",
        "plt.plot(power_actcols['date'],power_actcols['hydro_generation_actual'],label='Hydro Generation Actual')\n",
        "plt.plot(power_actcols['date'],power_actcols['total_generation_actual'],label='Total Generation Actual')\n",
        "\n",
        "plt.xlabel('Date')\n",
        "plt.ylabel('Power Generation mean (in MU)')\n",
        "\n",
        "plt.legend()"
      ],
      "execution_count": 117,
      "outputs": [
        {
          "output_type": "execute_result",
          "data": {
            "text/plain": [
              "<matplotlib.legend.Legend at 0x7faae8358940>"
            ]
          },
          "metadata": {
            "tags": []
          },
          "execution_count": 117
        },
        {
          "output_type": "display_data",
          "data": {
            "image/png": "[encoded data removed]",
            "text/plain": [
              "<Figure size 1296x648 with 1 Axes>"
            ]
          },
          "metadata": {
            "tags": [],
            "needs_background": "light"
          }
        }
      ]
    },
    {
      "cell_type": "markdown",
      "metadata": {
        "id": "xTmAB15OPO3b",
        "colab_type": "text"
      },
      "source": [
        "## With data cleaning and some basic eda done, what other questions would wou like to get the answer for?\n",
        "\n",
        "## Come up with atleat 3 such questions and find the anwers for the same individually before the session ends.\n",
        "\n",
        "## Try forming as many questions and their answers later as per your availability and share your notebooks on slack."
      ]
    },
    {
      "cell_type": "code",
      "metadata": {
        "id": "VradJ6vaxjcb",
        "colab_type": "code",
        "colab": {}
      },
      "source": [
        ""
      ],
      "execution_count": 117,
      "outputs": []
    }
  ]
}