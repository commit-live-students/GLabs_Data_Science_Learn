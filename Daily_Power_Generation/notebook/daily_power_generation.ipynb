{
  "nbformat": 4,
  "nbformat_minor": 0,
  "metadata": {
    "colab": {
      "name": "daily_power_generation.ipynb",
      "provenance": []
    },
    "kernelspec": {
      "name": "python3",
      "display_name": "Python 3"
    }
  },
  "cells": [
    {
      "cell_type": "markdown",
      "metadata": {
        "id": "IKVe6h6kov4X",
        "colab_type": "text"
      },
      "source": [
        "# Daily Power Generation Data Cleaning and Analysis\n",
        "\n"
      ]
    },
    {
      "cell_type": "markdown",
      "metadata": {
        "id": "fIJD74wYozv5",
        "colab_type": "text"
      },
      "source": [
        "\n",
        "India is the world's third-largest producer and third largest consumer of electricity. The national electric grid in India has an installed capacity of 370.106 GW as of 31 March 2020. Renewable power plants, which also include large hydroelectric plants, constitute 35.86% of India's total installed capacity.\n",
        "India has a surplus power generation capacity but lacks adequate distribution infrastructure.\n",
        "\n",
        "India's electricity sector is dominated by fossil fuels, in particular coal, which during the 2018-19 fiscal year produced about three-quarters of the country's electricity. The government is making efforts to increase investment in renewable energy. The government's National Electricity Plan of 2018 states that the country does not need more non-renewable power plants in the utility sector until 2027, with the commissioning of 50,025 MW coal-based power plants under construction and addition of 275,000 MW total renewable power capacity after the retirement of nearly 48,000 MW old coal-fired plants.\n",
        "\n",
        "India has recorded rapid growth in electricity generation since 1985, increasing from 179 TW-hr in 1985 to 1,057 TW-hr in 2012. The majority of the increase came from coal-fired plants and non-conventional renewable energy sources (RES), with the contribution from natural gas, oil, and hydro plants decreasing in 2012-2017. The gross utility electricity generation (excluding imports from Bhutan) was 1,384 billion kWh in 2019-20, representing 1.0 % annual growth compared to 2018-2019. The contribution from renewable energy sources was nearly 20% of the total. In the year 2019-20, all the incremental electricity generation is contributed by renewable energy sources as the power generation from fossil fuels decreased.\n",
        "The drivers for India's electricity sector are its rapidly growing economy, rising exports, improving infrastructure, and increasing household incomes.\n",
        "\n",
        "\n",
        "## Data\n",
        "There are 2 CSV files for the study. Each file has detailed file, and row, and column description for easier understanding of the user.\n",
        "\n",
        "## Acknowledgements\n",
        "Data has been extracted from openly available reports of National Power Portal at \"https://npp.gov.in/\". I have made my code for extracting the dataset which you can find under the kernels section of the dataset.\n",
        "\n"
      ]
    },
    {
      "cell_type": "markdown",
      "metadata": {
        "id": "CsOsqQuCozb3",
        "colab_type": "text"
      },
      "source": [
        "## Session flow :\n",
        "\n",
        "* Data Cleaning and basic analysis will be done for the first 90 - 100 minutes.\n",
        "\n",
        "* Brainstorming activity to form atleast 3 questions which are to be answered and try to individually code it to get the desired output(20-30 minutes)"
      ]
    },
    {
      "cell_type": "markdown",
      "metadata": {
        "id": "4oIXyK75o71U",
        "colab_type": "text"
      },
      "source": [
        "## Load the libraries"
      ]
    },
    {
      "cell_type": "code",
      "metadata": {
        "id": "DT0e5F87ox4n",
        "colab_type": "code",
        "colab": {}
      },
      "source": [
        "import os\n",
        "import pandas as pd\n",
        "import numpy as np\n",
        "import matplotlib.pyplot as plt\n"
      ],
      "execution_count": null,
      "outputs": []
    },
    {
      "cell_type": "markdown",
      "metadata": {
        "id": "pzhl8usGpH7m",
        "colab_type": "text"
      },
      "source": [
        "## Load the data"
      ]
    },
    {
      "cell_type": "code",
      "metadata": {
        "id": "fgem045TpLVr",
        "colab_type": "code",
        "colab": {}
      },
      "source": [
        ""
      ],
      "execution_count": null,
      "outputs": []
    },
    {
      "cell_type": "markdown",
      "metadata": {
        "id": "tTwjxqDSpNyL",
        "colab_type": "text"
      },
      "source": [
        "## Remove the column `index` from power_df dataframe"
      ]
    },
    {
      "cell_type": "code",
      "metadata": {
        "id": "cXcK0DxKpkIv",
        "colab_type": "code",
        "colab": {}
      },
      "source": [
        ""
      ],
      "execution_count": null,
      "outputs": []
    },
    {
      "cell_type": "markdown",
      "metadata": {
        "id": "fl3mMuAgpl5G",
        "colab_type": "text"
      },
      "source": [
        "## Cleaning the power_df dataframe column names :\n",
        "* Remove the substring `' (in MU)'` from all the columns in the power_df dataframe.\n",
        "* Replace all the spaces with underscore in the power_df datafame\n",
        "* All the column names to be converted to small case in the power_df dataframe\n"
      ]
    },
    {
      "cell_type": "code",
      "metadata": {
        "id": "vGBuE_oTpqMf",
        "colab_type": "code",
        "colab": {}
      },
      "source": [
        ""
      ],
      "execution_count": null,
      "outputs": []
    },
    {
      "cell_type": "markdown",
      "metadata": {
        "id": "UK3mNYdGprSP",
        "colab_type": "text"
      },
      "source": [
        "## Cleaning state_df column names:\n",
        "* Replace the column names 'State / Union territory (UT)', 'Area (km2)', 'Region' and 'National Share (%)' with 'state','area','region' and 'national_share' respectively"
      ]
    },
    {
      "cell_type": "code",
      "metadata": {
        "id": "MhAVWRhkpu9t",
        "colab_type": "code",
        "colab": {}
      },
      "source": [
        ""
      ],
      "execution_count": null,
      "outputs": []
    },
    {
      "cell_type": "markdown",
      "metadata": {
        "id": "3zBHvMndpw6P",
        "colab_type": "text"
      },
      "source": [
        "## The region names in both the dataframes have to be the same, check for the same, if not, make the necessary changes"
      ]
    },
    {
      "cell_type": "code",
      "metadata": {
        "id": "k3KHNOuyp1oP",
        "colab_type": "code",
        "colab": {}
      },
      "source": [
        ""
      ],
      "execution_count": null,
      "outputs": []
    },
    {
      "cell_type": "markdown",
      "metadata": {
        "id": "O8WeQOt1p2wW",
        "colab_type": "text"
      },
      "source": [
        "## Basic Data Study"
      ]
    },
    {
      "cell_type": "code",
      "metadata": {
        "id": "CBIZN4Lzp9MU",
        "colab_type": "code",
        "colab": {}
      },
      "source": [
        ""
      ],
      "execution_count": null,
      "outputs": []
    },
    {
      "cell_type": "markdown",
      "metadata": {
        "id": "zY4lJY_Rp-Uj",
        "colab_type": "text"
      },
      "source": [
        "## Find if there are any null values in both the dataframes, if there are, what is the possile strategy to deal with them?"
      ]
    },
    {
      "cell_type": "code",
      "metadata": {
        "id": "jBU-3zSIqEyf",
        "colab_type": "code",
        "colab": {}
      },
      "source": [
        ""
      ],
      "execution_count": null,
      "outputs": []
    },
    {
      "cell_type": "markdown",
      "metadata": {
        "id": "WJf1HQjiqFUv",
        "colab_type": "text"
      },
      "source": [
        "## Subset the dataframe with only the null values and check for pattern"
      ]
    },
    {
      "cell_type": "code",
      "metadata": {
        "id": "CFEBkmJCqNr6",
        "colab_type": "code",
        "colab": {}
      },
      "source": [
        ""
      ],
      "execution_count": null,
      "outputs": []
    },
    {
      "cell_type": "markdown",
      "metadata": {
        "id": "ww5cCZE8qOr1",
        "colab_type": "text"
      },
      "source": [
        "### Nuclear Generation columns are empty for Eastern and NorthEastern region. Could be due to no nuclear plants in that region.So, Replacing the NaN values with 0"
      ]
    },
    {
      "cell_type": "code",
      "metadata": {
        "id": "dPzEGB46qTaW",
        "colab_type": "code",
        "colab": {}
      },
      "source": [
        ""
      ],
      "execution_count": null,
      "outputs": []
    },
    {
      "cell_type": "markdown",
      "metadata": {
        "id": "DYV6cxi7qUZ1",
        "colab_type": "text"
      },
      "source": [
        "## Covert the thermal generation values to float in the power_df"
      ]
    },
    {
      "cell_type": "code",
      "metadata": {
        "id": "9Vk5MG32qbm6",
        "colab_type": "code",
        "colab": {}
      },
      "source": [
        ""
      ],
      "execution_count": null,
      "outputs": []
    },
    {
      "cell_type": "markdown",
      "metadata": {
        "id": "po8qVHobqcTO",
        "colab_type": "text"
      },
      "source": [
        "## Coverting the date values to DateTime format"
      ]
    },
    {
      "cell_type": "code",
      "metadata": {
        "id": "ALWIMSmIqg6f",
        "colab_type": "code",
        "colab": {}
      },
      "source": [
        ""
      ],
      "execution_count": null,
      "outputs": []
    },
    {
      "cell_type": "markdown",
      "metadata": {
        "id": "ZSuEUGEkqiGg",
        "colab_type": "text"
      },
      "source": [
        "## Find out the region which has the highest number of states and find out which states they are.\n",
        "\n"
      ]
    },
    {
      "cell_type": "code",
      "metadata": {
        "id": "sBxti6YCqn4j",
        "colab_type": "code",
        "colab": {}
      },
      "source": [
        ""
      ],
      "execution_count": null,
      "outputs": []
    },
    {
      "cell_type": "markdown",
      "metadata": {
        "id": "Vx3j5SmmqpIf",
        "colab_type": "text"
      },
      "source": [
        "##  Create a subset of the dataframe such that it shows mean power generated on each of the days for all the sectors."
      ]
    },
    {
      "cell_type": "code",
      "metadata": {
        "id": "oedxXWs1qtmi",
        "colab_type": "code",
        "colab": {}
      },
      "source": [
        ""
      ],
      "execution_count": null,
      "outputs": []
    },
    {
      "cell_type": "markdown",
      "metadata": {
        "id": "wu-Nh9-IqzDV",
        "colab_type": "text"
      },
      "source": [
        "## Plotting a graph of mean of all the types of power gernerations in all of India, with total power generation"
      ]
    },
    {
      "cell_type": "code",
      "metadata": {
        "id": "HBd28vgyqz3V",
        "colab_type": "code",
        "colab": {}
      },
      "source": [
        ""
      ],
      "execution_count": null,
      "outputs": []
    },
    {
      "cell_type": "markdown",
      "metadata": {
        "id": "4g9NzXApq4kP",
        "colab_type": "text"
      },
      "source": [
        "## With data cleaning and some basic eda done, what other questions would would you like to get the answer for?\n",
        "\n",
        "## Come up with atleat 3 such questions and find the anwers for the same individually before the session ends.\n",
        "\n",
        "## Try forming as many questions and their answers later as per your availability and share your notebooks on slack."
      ]
    },
    {
      "cell_type": "code",
      "metadata": {
        "id": "tmEQ2aV3q5he",
        "colab_type": "code",
        "colab": {}
      },
      "source": [
        ""
      ],
      "execution_count": null,
      "outputs": []
    }
  ]
}