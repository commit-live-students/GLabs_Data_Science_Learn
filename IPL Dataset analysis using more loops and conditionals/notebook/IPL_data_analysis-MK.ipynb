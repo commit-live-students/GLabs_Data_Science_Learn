{
 "cells": [
  {
   "cell_type": "markdown",
   "metadata": {},
   "source": [
    "# IPL Dataset Analysis\n",
    "\n",
    "## Problem Statement\n",
    "We want to know as to what happens during an IPL match which raises several questions in our mind with our limited knowledge about the game called cricket on which it is based. This analysis is done to know as which factors led one of the team to win and how does it matter.\n",
    "\n",
    "## About the Dataset :\n",
    "The Indian Premier League (IPL) is a professional T20 cricket league in India contested during April-May of every year by teams representing Indian cities. It is the most-attended cricket league in the world and ranks sixth among all the sports leagues. It has teams with players from around the world and is very competitive and entertaining with a lot of close matches between teams.\n",
    "\n",
    "The IPL and other cricket related datasets are available at [cricsheet.org](https://cricsheet.org). Feel free to visit the website and explore the data by yourself as exploring new sources of data is one of the interesting activities a data scientist gets to do.\n",
    "\n",
    "## About the dataset:\n",
    "Snapshot of the data you will be working on:<br>\n",
    "<br>\n",
    "The dataset 136522 data points and 23 features<br>\n",
    "\n",
    "|Features|Description|\n",
    "|-----|-----|\n",
    "|match_code|Code pertaining to individual match|\n",
    "|date|Date of the match played|\n",
    "|city|City where the match was played|\n",
    "|venue|Stadium in that city where the match was played|\n",
    "|team1|team1|\n",
    "|team2|team2|\n",
    "|toss_winner|Who won the toss out of two teams|\n",
    "|toss_decision|toss decision taken by toss winner|\n",
    "|winner|Winner of that match between two teams|\n",
    "|win_type|How did the team won(by wickets or runs etc.)|\n",
    "|win_margin|difference with which the team won| \n",
    "|inning|inning type(1st or 2nd)|\n",
    "|delivery|ball delivery|\n",
    "|batting_team|current team on batting|\n",
    "|batsman|current batsman on strike|\n",
    "|non_striker|batsman on non-strike|\n",
    "|bowler|Current bowler|\n",
    "|runs|runs scored|\n",
    "|extras|extra run scored|\n",
    "|total|total run scored on that delivery including runs and extras|\n",
    "|extras_type|extra run scored by wides or no ball or legby|\n",
    "|player_out|player that got out|\n",
    "|wicket_kind|How did the player got out|\n",
    "|wicket_fielders|Fielder who caught out the player by catch|\n",
    "\n"
   ]
  },
  {
   "cell_type": "markdown",
   "metadata": {},
   "source": [
    "## Load the data"
   ]
  },
  {
   "cell_type": "code",
   "execution_count": 1,
   "metadata": {},
   "outputs": [
    {
     "data": {
      "text/plain": [
       "(136522, 24)"
      ]
     },
     "execution_count": 1,
     "metadata": {},
     "output_type": "execute_result"
    }
   ],
   "source": [
    "# Read the data using pandas module.\n",
    "import pandas as pd\n",
    "import numpy as np\n",
    "\n",
    "df_ipl = pd.read_csv('../data/ipl_data.csv')\n",
    "df_ipl.shape"
   ]
  },
  {
   "cell_type": "code",
   "execution_count": 3,
   "metadata": {},
   "outputs": [
    {
     "data": {
      "text/plain": [
       "match_code                        392203\n",
       "date                          2009-05-01\n",
       "city                         East London\n",
       "venue                       Buffalo Park\n",
       "team1              Kolkata Knight Riders\n",
       "team2                     Mumbai Indians\n",
       "toss_winner               Mumbai Indians\n",
       "toss_decision                        bat\n",
       "winner                    Mumbai Indians\n",
       "win_type                            runs\n",
       "win_margin                             9\n",
       "inning                                 1\n",
       "delivery                             0.1\n",
       "batting_team              Mumbai Indians\n",
       "batsman                    ST Jayasuriya\n",
       "non_striker                 SR Tendulkar\n",
       "bowler                          I Sharma\n",
       "runs                                   0\n",
       "extras                                 1\n",
       "total                                  1\n",
       "extras_type                        wides\n",
       "player_out                           NaN\n",
       "wicket_kind                          NaN\n",
       "wicket_fielders                      NaN\n",
       "Name: 0, dtype: object"
      ]
     },
     "execution_count": 3,
     "metadata": {},
     "output_type": "execute_result"
    }
   ],
   "source": [
    "df_ipl.iloc[0]"
   ]
  },
  {
   "cell_type": "markdown",
   "metadata": {},
   "source": [
    "## There are matches being played all around the world. Find the list of unique cities where matches are being played throughout the world."
   ]
  },
  {
   "cell_type": "code",
   "execution_count": 4,
   "metadata": {},
   "outputs": [
    {
     "name": "stdout",
     "output_type": "stream",
     "text": [
      "Cities these matches were played at ['East London' 'Port Elizabeth' 'Centurion' 'neutral_venue' 'Chennai'\n",
      " 'Jaipur' 'Kolkata' 'Delhi' 'Chandigarh' 'Hyderabad' 'Ranchi' 'Mumbai'\n",
      " 'Bangalore' 'Dharamsala' 'Pune' 'Rajkot' 'Durban' 'Cuttack' 'Cape Town'\n",
      " 'Ahmedabad' 'Johannesburg' 'Visakhapatnam' 'Abu Dhabi' 'Raipur' 'Kochi'\n",
      " 'Kimberley' 'Nagpur' 'Bloemfontein' 'Indore' 'Kanpur']\n"
     ]
    }
   ],
   "source": [
    "print('Cities these matches were played at',\n",
    "      df_ipl.city.unique())"
   ]
  },
  {
   "cell_type": "markdown",
   "metadata": {},
   "source": [
    "## Find columns containing null values if any."
   ]
  },
  {
   "cell_type": "code",
   "execution_count": 10,
   "metadata": {},
   "outputs": [
    {
     "name": "stdout",
     "output_type": "stream",
     "text": [
      "<class 'pandas.core.frame.DataFrame'>\n",
      "RangeIndex: 136522 entries, 0 to 136521\n",
      "Data columns (total 24 columns):\n",
      " #   Column           Non-Null Count   Dtype  \n",
      "---  ------           --------------   -----  \n",
      " 0   match_code       136522 non-null  int64  \n",
      " 1   date             136522 non-null  object \n",
      " 2   city             136522 non-null  object \n",
      " 3   venue            136522 non-null  object \n",
      " 4   team1            136522 non-null  object \n",
      " 5   team2            136522 non-null  object \n",
      " 6   toss_winner      136522 non-null  object \n",
      " 7   toss_decision    136522 non-null  object \n",
      " 8   winner           134704 non-null  object \n",
      " 9   win_type         134704 non-null  object \n",
      " 10  win_margin       134704 non-null  float64\n",
      " 11  inning           136522 non-null  int64  \n",
      " 12  delivery         136522 non-null  float64\n",
      " 13  batting_team     136522 non-null  object \n",
      " 14  batsman          136522 non-null  object \n",
      " 15  non_striker      136522 non-null  object \n",
      " 16  bowler           136522 non-null  object \n",
      " 17  runs             136522 non-null  int64  \n",
      " 18  extras           136522 non-null  int64  \n",
      " 19  total            136522 non-null  int64  \n",
      " 20  extras_type      7458 non-null    object \n",
      " 21  player_out       6715 non-null    object \n",
      " 22  wicket_kind      6715 non-null    object \n",
      " 23  wicket_fielders  4865 non-null    object \n",
      "dtypes: float64(2), int64(5), object(17)\n",
      "memory usage: 25.0+ MB\n"
     ]
    }
   ],
   "source": [
    "df_ipl.info()"
   ]
  },
  {
   "cell_type": "code",
   "execution_count": 15,
   "metadata": {},
   "outputs": [
    {
     "name": "stdout",
     "output_type": "stream",
     "text": [
      "Columns with null values are ['winner', 'win_type', 'win_margin', 'extras_type', 'player_out', 'wicket_kind', 'wicket_fielders']\n"
     ]
    }
   ],
   "source": [
    "nulls = df_ipl.isnull().sum()\n",
    "print(\"Columns with null values are\",\n",
    "      nulls[nulls>0].index.to_list())"
   ]
  },
  {
   "cell_type": "markdown",
   "metadata": {},
   "source": [
    "## Matches are played throughout the world in different countries but they may or may not have multiple venues(stadiums where matches are played). Find the top 5 venues where the most matches are played.\n"
   ]
  },
  {
   "cell_type": "code",
   "execution_count": 45,
   "metadata": {},
   "outputs": [
    {
     "data": {
      "text/plain": [
       "{'Chandigarh': array(['Punjab Cricket Association Stadium, Mohali',\n",
       "        'Punjab Cricket Association IS Bindra Stadium, Mohali'],\n",
       "       dtype=object),\n",
       " 'Mumbai': array(['Wankhede Stadium', 'Brabourne Stadium',\n",
       "        'Dr DY Patil Sports Academy'], dtype=object),\n",
       " 'Pune': array(['Maharashtra Cricket Association Stadium',\n",
       "        'Subrata Roy Sahara Stadium'], dtype=object),\n",
       " 'neutral_venue': array(['Dubai International Cricket Stadium', 'Sharjah Cricket Stadium'],\n",
       "       dtype=object)}"
      ]
     },
     "execution_count": 45,
     "metadata": {},
     "output_type": "execute_result"
    }
   ],
   "source": [
    "city_venue = df_ipl.groupby('city').venue.nunique()\n",
    "multi_stadium_cities = city_venue[city_venue>1].index.to_list()\n",
    "\n",
    "df_ipl.loc[df_ipl.city.isin(multi_stadium_cities),].groupby('city').venue.unique().to_dict()\n",
    "#.value_counts().index.to_list()"
   ]
  },
  {
   "cell_type": "code",
   "execution_count": 36,
   "metadata": {},
   "outputs": [
    {
     "data": {
      "text/plain": [
       "city\n",
       "Mumbai       77\n",
       "Bangalore    58\n",
       "Kolkata      54\n",
       "Delhi        53\n",
       "Chennai      48\n",
       "Name: match_code, dtype: int64"
      ]
     },
     "execution_count": 36,
     "metadata": {},
     "output_type": "execute_result"
    }
   ],
   "source": [
    "df_ipl.groupby(['city']).match_code.nunique().nlargest(5)"
   ]
  },
  {
   "cell_type": "code",
   "execution_count": 35,
   "metadata": {},
   "outputs": [
    {
     "data": {
      "text/plain": [
       "city       venue                          \n",
       "Bangalore  M Chinnaswamy Stadium              58\n",
       "Kolkata    Eden Gardens                       54\n",
       "Delhi      Feroz Shah Kotla                   53\n",
       "Mumbai     Wankhede Stadium                   49\n",
       "Chennai    MA Chidambaram Stadium, Chepauk    48\n",
       "Name: match_code, dtype: int64"
      ]
     },
     "execution_count": 35,
     "metadata": {},
     "output_type": "execute_result"
    }
   ],
   "source": [
    "df_ipl.groupby(['city','venue']).match_code.nunique().nlargest(5)"
   ]
  },
  {
   "cell_type": "markdown",
   "metadata": {},
   "source": [
    "## Find out how the runs were scored that is the runs count frequency table( number of singles, doubles, boundaries, sixes etc were scored)."
   ]
  },
  {
   "cell_type": "code",
   "execution_count": 54,
   "metadata": {},
   "outputs": [
    {
     "data": {
      "text/plain": [
       "<matplotlib.axes._subplots.AxesSubplot at 0x2c0b62513a0>"
      ]
     },
     "execution_count": 54,
     "metadata": {},
     "output_type": "execute_result"
    },
    {
     "data": {
      "image/png": "[encoded data removed]",
      "text/plain": [
       "<Figure size 864x576 with 1 Axes>"
      ]
     },
     "metadata": {
      "needs_background": "light"
     },
     "output_type": "display_data"
    }
   ],
   "source": [
    "(df_ipl\n",
    " runs.value_counts(sort=False)\n",
    " .plot.barh(figsize=(12,8))\n",
    ")"
   ]
  },
  {
   "cell_type": "markdown",
   "metadata": {},
   "source": [
    "https://stackoverflow.com/a/30874820/8210613"
   ]
  },
  {
   "cell_type": "code",
   "execution_count": 67,
   "metadata": {},
   "outputs": [
    {
     "data": {
      "text/plain": [
       "<matplotlib.axes._subplots.AxesSubplot at 0x2c0b6ef43a0>"
      ]
     },
     "execution_count": 67,
     "metadata": {},
     "output_type": "execute_result"
    },
    {
     "data": {
      "image/png": "[encoded data removed]",
      "text/plain": [
       "<Figure size 864x576 with 1 Axes>"
      ]
     },
     "metadata": {
      "needs_background": "light"
     },
     "output_type": "display_data"
    }
   ],
   "source": [
    "\n",
    "(df_ipl\n",
    " .groupby(['inning'])\n",
    " .runs.value_counts(sort=False)\n",
    " .unstack().T\n",
    " .plot.barh(figsize=(12,8))\n",
    ")"
   ]
  },
  {
   "cell_type": "markdown",
   "metadata": {},
   "source": [
    "## IPL seasons are held every year now let's look at our data and extract how many seasons and which year were they played?\n"
   ]
  },
  {
   "cell_type": "code",
   "execution_count": 73,
   "metadata": {},
   "outputs": [
    {
     "data": {
      "text/plain": [
       "0         2009\n",
       "1         2009\n",
       "2         2009\n",
       "3         2009\n",
       "4         2009\n",
       "          ... \n",
       "136517    2008\n",
       "136518    2008\n",
       "136519    2008\n",
       "136520    2008\n",
       "136521    2008\n",
       "Name: date, Length: 136522, dtype: int64"
      ]
     },
     "execution_count": 73,
     "metadata": {},
     "output_type": "execute_result"
    }
   ],
   "source": [
    "df_ipl.date.astype('datetime64[ns]').dt.year"
   ]
  },
  {
   "cell_type": "code",
   "execution_count": 78,
   "metadata": {},
   "outputs": [
    {
     "data": {
      "text/plain": [
       "0         2009\n",
       "1         2009\n",
       "2         2009\n",
       "3         2009\n",
       "4         2009\n",
       "          ... \n",
       "136517    2008\n",
       "136518    2008\n",
       "136519    2008\n",
       "136520    2008\n",
       "136521    2008\n",
       "Name: year, Length: 136522, dtype: object"
      ]
     },
     "execution_count": 78,
     "metadata": {},
     "output_type": "execute_result"
    }
   ],
   "source": [
    "df_ipl['year'] = df_ipl.date.apply(lambda row: row[:4])\n",
    "df_ipl['year']"
   ]
  },
  {
   "cell_type": "code",
   "execution_count": 80,
   "metadata": {},
   "outputs": [
    {
     "data": {
      "text/plain": [
       "9"
      ]
     },
     "execution_count": 80,
     "metadata": {},
     "output_type": "execute_result"
    }
   ],
   "source": [
    "df_ipl.year.nunique()"
   ]
  },
  {
   "cell_type": "code",
   "execution_count": 85,
   "metadata": {},
   "outputs": [
    {
     "data": {
      "text/plain": [
       "array(['2008', '2009', '2010', '2011', '2012', '2013', '2014', '2015',\n",
       "       '2016'], dtype=object)"
      ]
     },
     "execution_count": 85,
     "metadata": {},
     "output_type": "execute_result"
    }
   ],
   "source": [
    "df_ipl.year.sort_values().unique()"
   ]
  },
  {
   "cell_type": "markdown",
   "metadata": {},
   "source": [
    "## Find out the total number of matches played in each season also find the total number of runs scored in each season.\n"
   ]
  },
  {
   "cell_type": "code",
   "execution_count": 87,
   "metadata": {},
   "outputs": [
    {
     "data": {
      "text/plain": [
       "<matplotlib.axes._subplots.AxesSubplot at 0x2c0b6ed2bb0>"
      ]
     },
     "execution_count": 87,
     "metadata": {},
     "output_type": "execute_result"
    },
    {
     "data": {
      "image/png": "[encoded data removed]",
      "text/plain": [
       "<Figure size 432x288 with 1 Axes>"
      ]
     },
     "metadata": {
      "needs_background": "light"
     },
     "output_type": "display_data"
    }
   ],
   "source": [
    "df_ipl.groupby('year').match_code.nunique().plot.barh()"
   ]
  },
  {
   "cell_type": "code",
   "execution_count": 90,
   "metadata": {},
   "outputs": [
    {
     "data": {
      "text/plain": [
       "<matplotlib.axes._subplots.AxesSubplot at 0x2c0b6fc6ac0>"
      ]
     },
     "execution_count": 90,
     "metadata": {},
     "output_type": "execute_result"
    },
    {
     "data": {
      "image/png": "[encoded data removed]",
      "text/plain": [
       "<Figure size 432x288 with 1 Axes>"
      ]
     },
     "metadata": {
      "needs_background": "light"
     },
     "output_type": "display_data"
    }
   ],
   "source": [
    "df_ipl.groupby('year').total.sum().plot.barh()"
   ]
  },
  {
   "cell_type": "markdown",
   "metadata": {},
   "source": [
    "## There are teams which are high performing and low performing. Let's look at the aspect of performance of an individual team. Filter the data and aggregate the runs scored by each team. Display top 10 results which are having runs scored over 200."
   ]
  },
  {
   "cell_type": "code",
   "execution_count": 98,
   "metadata": {},
   "outputs": [
    {
     "data": {
      "text/html": [
       "<div>\n",
       "<style scoped>\n",
       "    .dataframe tbody tr th:only-of-type {\n",
       "        vertical-align: middle;\n",
       "    }\n",
       "\n",
       "    .dataframe tbody tr th {\n",
       "        vertical-align: top;\n",
       "    }\n",
       "\n",
       "    .dataframe thead th {\n",
       "        text-align: right;\n",
       "    }\n",
       "</style>\n",
       "<table border=\"1\" class=\"dataframe\">\n",
       "  <thead>\n",
       "    <tr style=\"text-align: right;\">\n",
       "      <th></th>\n",
       "      <th>year</th>\n",
       "      <th>match_code</th>\n",
       "      <th>inning</th>\n",
       "      <th>team1</th>\n",
       "      <th>team2</th>\n",
       "      <th>toss_winner</th>\n",
       "      <th>toss_decision</th>\n",
       "      <th>total</th>\n",
       "    </tr>\n",
       "  </thead>\n",
       "  <tbody>\n",
       "    <tr>\n",
       "      <th>701</th>\n",
       "      <td>2013</td>\n",
       "      <td>598027</td>\n",
       "      <td>1</td>\n",
       "      <td>Royal Challengers Bangalore</td>\n",
       "      <td>Pune Warriors</td>\n",
       "      <td>Pune Warriors</td>\n",
       "      <td>field</td>\n",
       "      <td>263</td>\n",
       "    </tr>\n",
       "    <tr>\n",
       "      <th>1118</th>\n",
       "      <td>2016</td>\n",
       "      <td>980987</td>\n",
       "      <td>1</td>\n",
       "      <td>Royal Challengers Bangalore</td>\n",
       "      <td>Gujarat Lions</td>\n",
       "      <td>Gujarat Lions</td>\n",
       "      <td>field</td>\n",
       "      <td>248</td>\n",
       "    </tr>\n",
       "    <tr>\n",
       "      <th>292</th>\n",
       "      <td>2010</td>\n",
       "      <td>419137</td>\n",
       "      <td>1</td>\n",
       "      <td>Chennai Super Kings</td>\n",
       "      <td>Rajasthan Royals</td>\n",
       "      <td>Chennai Super Kings</td>\n",
       "      <td>bat</td>\n",
       "      <td>246</td>\n",
       "    </tr>\n",
       "    <tr>\n",
       "      <th>2</th>\n",
       "      <td>2008</td>\n",
       "      <td>335983</td>\n",
       "      <td>1</td>\n",
       "      <td>Kings XI Punjab</td>\n",
       "      <td>Chennai Super Kings</td>\n",
       "      <td>Chennai Super Kings</td>\n",
       "      <td>bat</td>\n",
       "      <td>240</td>\n",
       "    </tr>\n",
       "    <tr>\n",
       "      <th>1002</th>\n",
       "      <td>2015</td>\n",
       "      <td>829795</td>\n",
       "      <td>1</td>\n",
       "      <td>Mumbai Indians</td>\n",
       "      <td>Royal Challengers Bangalore</td>\n",
       "      <td>Royal Challengers Bangalore</td>\n",
       "      <td>bat</td>\n",
       "      <td>235</td>\n",
       "    </tr>\n",
       "    <tr>\n",
       "      <th>472</th>\n",
       "      <td>2011</td>\n",
       "      <td>501260</td>\n",
       "      <td>1</td>\n",
       "      <td>Kings XI Punjab</td>\n",
       "      <td>Royal Challengers Bangalore</td>\n",
       "      <td>Kings XI Punjab</td>\n",
       "      <td>bat</td>\n",
       "      <td>232</td>\n",
       "    </tr>\n",
       "    <tr>\n",
       "      <th>398</th>\n",
       "      <td>2011</td>\n",
       "      <td>501223</td>\n",
       "      <td>1</td>\n",
       "      <td>Delhi Daredevils</td>\n",
       "      <td>Kings XI Punjab</td>\n",
       "      <td>Kings XI Punjab</td>\n",
       "      <td>field</td>\n",
       "      <td>231</td>\n",
       "    </tr>\n",
       "    <tr>\n",
       "      <th>851</th>\n",
       "      <td>2014</td>\n",
       "      <td>733987</td>\n",
       "      <td>1</td>\n",
       "      <td>Kings XI Punjab</td>\n",
       "      <td>Chennai Super Kings</td>\n",
       "      <td>Chennai Super Kings</td>\n",
       "      <td>field</td>\n",
       "      <td>231</td>\n",
       "    </tr>\n",
       "    <tr>\n",
       "      <th>1038</th>\n",
       "      <td>2016</td>\n",
       "      <td>980907</td>\n",
       "      <td>1</td>\n",
       "      <td>Royal Challengers Bangalore</td>\n",
       "      <td>Sunrisers Hyderabad</td>\n",
       "      <td>Sunrisers Hyderabad</td>\n",
       "      <td>field</td>\n",
       "      <td>227</td>\n",
       "    </tr>\n",
       "    <tr>\n",
       "      <th>911</th>\n",
       "      <td>2014</td>\n",
       "      <td>734047</td>\n",
       "      <td>1</td>\n",
       "      <td>Chennai Super Kings</td>\n",
       "      <td>Kings XI Punjab</td>\n",
       "      <td>Chennai Super Kings</td>\n",
       "      <td>field</td>\n",
       "      <td>226</td>\n",
       "    </tr>\n",
       "  </tbody>\n",
       "</table>\n",
       "</div>"
      ],
      "text/plain": [
       "      year  match_code  inning                        team1  \\\n",
       "701   2013      598027       1  Royal Challengers Bangalore   \n",
       "1118  2016      980987       1  Royal Challengers Bangalore   \n",
       "292   2010      419137       1          Chennai Super Kings   \n",
       "2     2008      335983       1              Kings XI Punjab   \n",
       "1002  2015      829795       1               Mumbai Indians   \n",
       "472   2011      501260       1              Kings XI Punjab   \n",
       "398   2011      501223       1             Delhi Daredevils   \n",
       "851   2014      733987       1              Kings XI Punjab   \n",
       "1038  2016      980907       1  Royal Challengers Bangalore   \n",
       "911   2014      734047       1          Chennai Super Kings   \n",
       "\n",
       "                            team2                  toss_winner toss_decision  \\\n",
       "701                 Pune Warriors                Pune Warriors         field   \n",
       "1118                Gujarat Lions                Gujarat Lions         field   \n",
       "292              Rajasthan Royals          Chennai Super Kings           bat   \n",
       "2             Chennai Super Kings          Chennai Super Kings           bat   \n",
       "1002  Royal Challengers Bangalore  Royal Challengers Bangalore           bat   \n",
       "472   Royal Challengers Bangalore              Kings XI Punjab           bat   \n",
       "398               Kings XI Punjab              Kings XI Punjab         field   \n",
       "851           Chennai Super Kings          Chennai Super Kings         field   \n",
       "1038          Sunrisers Hyderabad          Sunrisers Hyderabad         field   \n",
       "911               Kings XI Punjab          Chennai Super Kings         field   \n",
       "\n",
       "      total  \n",
       "701     263  \n",
       "1118    248  \n",
       "292     246  \n",
       "2       240  \n",
       "1002    235  \n",
       "472     232  \n",
       "398     231  \n",
       "851     231  \n",
       "1038    227  \n",
       "911     226  "
      ]
     },
     "execution_count": 98,
     "metadata": {},
     "output_type": "execute_result"
    }
   ],
   "source": [
    "total_scores = df_ipl.groupby(['year','match_code','inning','team1','team2','toss_winner','toss_decision']).total.sum().reset_index()\n",
    "high_scores = total_scores[total_scores.total>200]\n",
    "high_scores.nlargest(10,columns='total')"
   ]
  },
  {
   "cell_type": "code",
   "execution_count": 122,
   "metadata": {},
   "outputs": [
    {
     "data": {
      "text/html": [
       "<div>\n",
       "<style scoped>\n",
       "    .dataframe tbody tr th:only-of-type {\n",
       "        vertical-align: middle;\n",
       "    }\n",
       "\n",
       "    .dataframe tbody tr th {\n",
       "        vertical-align: top;\n",
       "    }\n",
       "\n",
       "    .dataframe thead th {\n",
       "        text-align: right;\n",
       "    }\n",
       "</style>\n",
       "<table border=\"1\" class=\"dataframe\">\n",
       "  <thead>\n",
       "    <tr style=\"text-align: right;\">\n",
       "      <th></th>\n",
       "      <th>match_code</th>\n",
       "      <th>inning</th>\n",
       "      <th>team1</th>\n",
       "      <th>team2</th>\n",
       "      <th>total</th>\n",
       "    </tr>\n",
       "  </thead>\n",
       "  <tbody>\n",
       "    <tr>\n",
       "      <th>701</th>\n",
       "      <td>598027</td>\n",
       "      <td>1</td>\n",
       "      <td>Royal Challengers Bangalore</td>\n",
       "      <td>Pune Warriors</td>\n",
       "      <td>263</td>\n",
       "    </tr>\n",
       "    <tr>\n",
       "      <th>1118</th>\n",
       "      <td>980987</td>\n",
       "      <td>1</td>\n",
       "      <td>Royal Challengers Bangalore</td>\n",
       "      <td>Gujarat Lions</td>\n",
       "      <td>248</td>\n",
       "    </tr>\n",
       "    <tr>\n",
       "      <th>292</th>\n",
       "      <td>419137</td>\n",
       "      <td>1</td>\n",
       "      <td>Chennai Super Kings</td>\n",
       "      <td>Rajasthan Royals</td>\n",
       "      <td>246</td>\n",
       "    </tr>\n",
       "    <tr>\n",
       "      <th>2</th>\n",
       "      <td>335983</td>\n",
       "      <td>1</td>\n",
       "      <td>Kings XI Punjab</td>\n",
       "      <td>Chennai Super Kings</td>\n",
       "      <td>240</td>\n",
       "    </tr>\n",
       "    <tr>\n",
       "      <th>1002</th>\n",
       "      <td>829795</td>\n",
       "      <td>1</td>\n",
       "      <td>Mumbai Indians</td>\n",
       "      <td>Royal Challengers Bangalore</td>\n",
       "      <td>235</td>\n",
       "    </tr>\n",
       "    <tr>\n",
       "      <th>472</th>\n",
       "      <td>501260</td>\n",
       "      <td>1</td>\n",
       "      <td>Kings XI Punjab</td>\n",
       "      <td>Royal Challengers Bangalore</td>\n",
       "      <td>232</td>\n",
       "    </tr>\n",
       "    <tr>\n",
       "      <th>398</th>\n",
       "      <td>501223</td>\n",
       "      <td>1</td>\n",
       "      <td>Delhi Daredevils</td>\n",
       "      <td>Kings XI Punjab</td>\n",
       "      <td>231</td>\n",
       "    </tr>\n",
       "    <tr>\n",
       "      <th>851</th>\n",
       "      <td>733987</td>\n",
       "      <td>1</td>\n",
       "      <td>Kings XI Punjab</td>\n",
       "      <td>Chennai Super Kings</td>\n",
       "      <td>231</td>\n",
       "    </tr>\n",
       "    <tr>\n",
       "      <th>1038</th>\n",
       "      <td>980907</td>\n",
       "      <td>1</td>\n",
       "      <td>Royal Challengers Bangalore</td>\n",
       "      <td>Sunrisers Hyderabad</td>\n",
       "      <td>227</td>\n",
       "    </tr>\n",
       "    <tr>\n",
       "      <th>911</th>\n",
       "      <td>734047</td>\n",
       "      <td>1</td>\n",
       "      <td>Chennai Super Kings</td>\n",
       "      <td>Kings XI Punjab</td>\n",
       "      <td>226</td>\n",
       "    </tr>\n",
       "  </tbody>\n",
       "</table>\n",
       "</div>"
      ],
      "text/plain": [
       "      match_code  inning                        team1  \\\n",
       "701       598027       1  Royal Challengers Bangalore   \n",
       "1118      980987       1  Royal Challengers Bangalore   \n",
       "292       419137       1          Chennai Super Kings   \n",
       "2         335983       1              Kings XI Punjab   \n",
       "1002      829795       1               Mumbai Indians   \n",
       "472       501260       1              Kings XI Punjab   \n",
       "398       501223       1             Delhi Daredevils   \n",
       "851       733987       1              Kings XI Punjab   \n",
       "1038      980907       1  Royal Challengers Bangalore   \n",
       "911       734047       1          Chennai Super Kings   \n",
       "\n",
       "                            team2  total  \n",
       "701                 Pune Warriors    263  \n",
       "1118                Gujarat Lions    248  \n",
       "292              Rajasthan Royals    246  \n",
       "2             Chennai Super Kings    240  \n",
       "1002  Royal Challengers Bangalore    235  \n",
       "472   Royal Challengers Bangalore    232  \n",
       "398               Kings XI Punjab    231  \n",
       "851           Chennai Super Kings    231  \n",
       "1038          Sunrisers Hyderabad    227  \n",
       "911               Kings XI Punjab    226  "
      ]
     },
     "execution_count": 122,
     "metadata": {},
     "output_type": "execute_result"
    }
   ],
   "source": [
    "total_scores = df_ipl.groupby(['match_code','inning','team1','team2']).total.sum().reset_index()\n",
    "high_scores = total_scores[total_scores.total>=200]\n",
    "high_scores.nlargest(10,columns='total')"
   ]
  },
  {
   "cell_type": "markdown",
   "metadata": {},
   "source": [
    "## Chasing a 200+ target is difficulty in T-20 format. What are the chances that a team scoring runs above 200 in their 1st inning is chased by the opposition in 2nd inning.\n"
   ]
  },
  {
   "cell_type": "code",
   "execution_count": 123,
   "metadata": {},
   "outputs": [
    {
     "data": {
      "text/html": [
       "<div>\n",
       "<style scoped>\n",
       "    .dataframe tbody tr th:only-of-type {\n",
       "        vertical-align: middle;\n",
       "    }\n",
       "\n",
       "    .dataframe tbody tr th {\n",
       "        vertical-align: top;\n",
       "    }\n",
       "\n",
       "    .dataframe thead th {\n",
       "        text-align: right;\n",
       "    }\n",
       "</style>\n",
       "<table border=\"1\" class=\"dataframe\">\n",
       "  <thead>\n",
       "    <tr style=\"text-align: right;\">\n",
       "      <th></th>\n",
       "      <th>team1</th>\n",
       "      <th>team2</th>\n",
       "      <th>total_inn1</th>\n",
       "      <th>total_inn2</th>\n",
       "    </tr>\n",
       "    <tr>\n",
       "      <th>match_code</th>\n",
       "      <th></th>\n",
       "      <th></th>\n",
       "      <th></th>\n",
       "      <th></th>\n",
       "    </tr>\n",
       "  </thead>\n",
       "  <tbody>\n",
       "    <tr>\n",
       "      <th>335983</th>\n",
       "      <td>Kings XI Punjab</td>\n",
       "      <td>Chennai Super Kings</td>\n",
       "      <td>240</td>\n",
       "      <td>207</td>\n",
       "    </tr>\n",
       "    <tr>\n",
       "      <th>335989</th>\n",
       "      <td>Chennai Super Kings</td>\n",
       "      <td>Mumbai Indians</td>\n",
       "      <td>208</td>\n",
       "      <td>202</td>\n",
       "    </tr>\n",
       "    <tr>\n",
       "      <th>335990</th>\n",
       "      <td>Deccan Chargers</td>\n",
       "      <td>Rajasthan Royals</td>\n",
       "      <td>214</td>\n",
       "      <td>217</td>\n",
       "    </tr>\n",
       "    <tr>\n",
       "      <th>336033</th>\n",
       "      <td>Chennai Super Kings</td>\n",
       "      <td>Rajasthan Royals</td>\n",
       "      <td>211</td>\n",
       "      <td>201</td>\n",
       "    </tr>\n",
       "    <tr>\n",
       "      <th>419107</th>\n",
       "      <td>Mumbai Indians</td>\n",
       "      <td>Rajasthan Royals</td>\n",
       "      <td>212</td>\n",
       "      <td>208</td>\n",
       "    </tr>\n",
       "    <tr>\n",
       "      <th>419112</th>\n",
       "      <td>Royal Challengers Bangalore</td>\n",
       "      <td>Kings XI Punjab</td>\n",
       "      <td>203</td>\n",
       "      <td>204</td>\n",
       "    </tr>\n",
       "    <tr>\n",
       "      <th>419137</th>\n",
       "      <td>Chennai Super Kings</td>\n",
       "      <td>Rajasthan Royals</td>\n",
       "      <td>246</td>\n",
       "      <td>223</td>\n",
       "    </tr>\n",
       "    <tr>\n",
       "      <th>419139</th>\n",
       "      <td>Kolkata Knight Riders</td>\n",
       "      <td>Kings XI Punjab</td>\n",
       "      <td>200</td>\n",
       "      <td>204</td>\n",
       "    </tr>\n",
       "    <tr>\n",
       "      <th>501223</th>\n",
       "      <td>Delhi Daredevils</td>\n",
       "      <td>Kings XI Punjab</td>\n",
       "      <td>231</td>\n",
       "      <td>202</td>\n",
       "    </tr>\n",
       "    <tr>\n",
       "      <th>548318</th>\n",
       "      <td>Chennai Super Kings</td>\n",
       "      <td>Royal Challengers Bangalore</td>\n",
       "      <td>205</td>\n",
       "      <td>208</td>\n",
       "    </tr>\n",
       "    <tr>\n",
       "      <th>729283</th>\n",
       "      <td>Chennai Super Kings</td>\n",
       "      <td>Kings XI Punjab</td>\n",
       "      <td>205</td>\n",
       "      <td>206</td>\n",
       "    </tr>\n",
       "    <tr>\n",
       "      <th>734007</th>\n",
       "      <td>Sunrisers Hyderabad</td>\n",
       "      <td>Kings XI Punjab</td>\n",
       "      <td>205</td>\n",
       "      <td>211</td>\n",
       "    </tr>\n",
       "    <tr>\n",
       "      <th>734047</th>\n",
       "      <td>Chennai Super Kings</td>\n",
       "      <td>Kings XI Punjab</td>\n",
       "      <td>226</td>\n",
       "      <td>202</td>\n",
       "    </tr>\n",
       "    <tr>\n",
       "      <th>981019</th>\n",
       "      <td>Royal Challengers Bangalore</td>\n",
       "      <td>Sunrisers Hyderabad</td>\n",
       "      <td>208</td>\n",
       "      <td>200</td>\n",
       "    </tr>\n",
       "  </tbody>\n",
       "</table>\n",
       "</div>"
      ],
      "text/plain": [
       "                                  team1                        team2  \\\n",
       "match_code                                                             \n",
       "335983                  Kings XI Punjab          Chennai Super Kings   \n",
       "335989              Chennai Super Kings               Mumbai Indians   \n",
       "335990                  Deccan Chargers             Rajasthan Royals   \n",
       "336033              Chennai Super Kings             Rajasthan Royals   \n",
       "419107                   Mumbai Indians             Rajasthan Royals   \n",
       "419112      Royal Challengers Bangalore              Kings XI Punjab   \n",
       "419137              Chennai Super Kings             Rajasthan Royals   \n",
       "419139            Kolkata Knight Riders              Kings XI Punjab   \n",
       "501223                 Delhi Daredevils              Kings XI Punjab   \n",
       "548318              Chennai Super Kings  Royal Challengers Bangalore   \n",
       "729283              Chennai Super Kings              Kings XI Punjab   \n",
       "734007              Sunrisers Hyderabad              Kings XI Punjab   \n",
       "734047              Chennai Super Kings              Kings XI Punjab   \n",
       "981019      Royal Challengers Bangalore          Sunrisers Hyderabad   \n",
       "\n",
       "            total_inn1  total_inn2  \n",
       "match_code                          \n",
       "335983             240         207  \n",
       "335989             208         202  \n",
       "335990             214         217  \n",
       "336033             211         201  \n",
       "419107             212         208  \n",
       "419112             203         204  \n",
       "419137             246         223  \n",
       "419139             200         204  \n",
       "501223             231         202  \n",
       "548318             205         208  \n",
       "729283             205         206  \n",
       "734007             205         211  \n",
       "734047             226         202  \n",
       "981019             208         200  "
      ]
     },
     "execution_count": 123,
     "metadata": {},
     "output_type": "execute_result"
    }
   ],
   "source": [
    "high_scores1 = high_scores.loc[high_scores.inning==1,:]\n",
    "high_scores2 = high_scores.loc[high_scores.inning==2,:]\n",
    "\n",
    "\n",
    "(high_scores1.set_index('match_code').drop(columns='inning')\n",
    " .join(high_scores2.set_index('match_code')[['total']],\n",
    "       lsuffix='_inn1',\n",
    "       rsuffix='_inn2',\n",
    "       how=\"inner\")\n",
    ")"
   ]
  },
  {
   "cell_type": "code",
   "execution_count": 124,
   "metadata": {},
   "outputs": [
    {
     "data": {
      "text/plain": [
       "42.86"
      ]
     },
     "execution_count": 124,
     "metadata": {},
     "output_type": "execute_result"
    }
   ],
   "source": [
    "high_score_matches = high_scores1.drop(columns='inning').merge(high_scores2[['match_code','total']],on='match_code',suffixes=('_inn1','_inn2'))\n",
    "\n",
    "high_score_matches['is_score_chased'] = high_score_matches.total_inn2 > high_score_matches.total_inn1\n",
    "high_score_matches.is_score_chased.value_counts(normalize=True).multiply(100).round(2)[True]\n"
   ]
  },
  {
   "cell_type": "code",
   "execution_count": 125,
   "metadata": {},
   "outputs": [
    {
     "data": {
      "text/plain": [
       "False    8\n",
       "True     6\n",
       "Name: is_score_chased, dtype: int64"
      ]
     },
     "execution_count": 125,
     "metadata": {},
     "output_type": "execute_result"
    }
   ],
   "source": [
    "high_score_matches.is_score_chased.value_counts()"
   ]
  },
  {
   "cell_type": "markdown",
   "metadata": {},
   "source": [
    "## Every season has that one team which is outperforming others and is in great form. Which team has the highest win counts in their respective seasons ?\n",
    "\n"
   ]
  },
  {
   "cell_type": "code",
   "execution_count": 169,
   "metadata": {},
   "outputs": [
    {
     "data": {
      "text/plain": [
       "year  winner                 \n",
       "2008  Rajasthan Royals           13\n",
       "      Kings XI Punjab            10\n",
       "      Chennai Super Kings         9\n",
       "      Delhi Daredevils            7\n",
       "      Mumbai Indians              7\n",
       "                                 ..\n",
       "2016  Kolkata Knight Riders       8\n",
       "      Delhi Daredevils            7\n",
       "      Mumbai Indians              7\n",
       "      Rising Pune Supergiants     5\n",
       "      Kings XI Punjab             4\n",
       "Name: winner, Length: 76, dtype: int64"
      ]
     },
     "execution_count": 169,
     "metadata": {},
     "output_type": "execute_result"
    }
   ],
   "source": [
    "match_wise_data = df_ipl.drop_duplicates(subset = 'match_code', keep='first').reset_index(drop=True)\n",
    "match_wise_data.groupby('year')['winner'].value_counts(ascending=False)"
   ]
  },
  {
   "cell_type": "markdown",
   "metadata": {},
   "source": [
    "https://stackoverflow.com/a/22720517/8210613"
   ]
  },
  {
   "cell_type": "code",
   "execution_count": 168,
   "metadata": {},
   "outputs": [
    {
     "data": {
      "text/plain": [
       "year\n",
       "2008         (Rajasthan Royals, 13)\n",
       "2009         (Delhi Daredevils, 10)\n",
       "2010           (Mumbai Indians, 11)\n",
       "2011      (Chennai Super Kings, 11)\n",
       "2012    (Kolkata Knight Riders, 12)\n",
       "2013           (Mumbai Indians, 13)\n",
       "2014          (Kings XI Punjab, 12)\n",
       "2015           (Mumbai Indians, 10)\n",
       "2016      (Sunrisers Hyderabad, 11)\n",
       "dtype: object"
      ]
     },
     "execution_count": 168,
     "metadata": {},
     "output_type": "execute_result"
    }
   ],
   "source": [
    "(df_ipl\n",
    " .drop_duplicates(subset='match_code')\n",
    " .reset_index(drop=True)\n",
    " .groupby('year')\n",
    " .apply(lambda group: (group['winner'].value_counts().index[0],group['winner'].value_counts()[0] ))\n",
    ")"
   ]
  },
  {
   "cell_type": "markdown",
   "metadata": {},
   "source": [
    "https://stackoverflow.com/a/10762516/8210613"
   ]
  },
  {
   "cell_type": "code",
   "execution_count": 180,
   "metadata": {},
   "outputs": [
    {
     "data": {
      "text/html": [
       "<div>\n",
       "<style scoped>\n",
       "    .dataframe tbody tr th:only-of-type {\n",
       "        vertical-align: middle;\n",
       "    }\n",
       "\n",
       "    .dataframe tbody tr th {\n",
       "        vertical-align: top;\n",
       "    }\n",
       "\n",
       "    .dataframe thead th {\n",
       "        text-align: right;\n",
       "    }\n",
       "</style>\n",
       "<table border=\"1\" class=\"dataframe\">\n",
       "  <thead>\n",
       "    <tr style=\"text-align: right;\">\n",
       "      <th></th>\n",
       "      <th>winner</th>\n",
       "      <th>count</th>\n",
       "    </tr>\n",
       "    <tr>\n",
       "      <th>year</th>\n",
       "      <th></th>\n",
       "      <th></th>\n",
       "    </tr>\n",
       "  </thead>\n",
       "  <tbody>\n",
       "    <tr>\n",
       "      <th>2008</th>\n",
       "      <td>Rajasthan Royals</td>\n",
       "      <td>13</td>\n",
       "    </tr>\n",
       "    <tr>\n",
       "      <th>2009</th>\n",
       "      <td>Delhi Daredevils</td>\n",
       "      <td>10</td>\n",
       "    </tr>\n",
       "    <tr>\n",
       "      <th>2010</th>\n",
       "      <td>Mumbai Indians</td>\n",
       "      <td>11</td>\n",
       "    </tr>\n",
       "    <tr>\n",
       "      <th>2011</th>\n",
       "      <td>Chennai Super Kings</td>\n",
       "      <td>11</td>\n",
       "    </tr>\n",
       "    <tr>\n",
       "      <th>2012</th>\n",
       "      <td>Kolkata Knight Riders</td>\n",
       "      <td>12</td>\n",
       "    </tr>\n",
       "    <tr>\n",
       "      <th>2013</th>\n",
       "      <td>Mumbai Indians</td>\n",
       "      <td>13</td>\n",
       "    </tr>\n",
       "    <tr>\n",
       "      <th>2014</th>\n",
       "      <td>Kings XI Punjab</td>\n",
       "      <td>12</td>\n",
       "    </tr>\n",
       "    <tr>\n",
       "      <th>2015</th>\n",
       "      <td>Mumbai Indians</td>\n",
       "      <td>10</td>\n",
       "    </tr>\n",
       "    <tr>\n",
       "      <th>2016</th>\n",
       "      <td>Sunrisers Hyderabad</td>\n",
       "      <td>11</td>\n",
       "    </tr>\n",
       "  </tbody>\n",
       "</table>\n",
       "</div>"
      ],
      "text/plain": [
       "                     winner  count\n",
       "year                              \n",
       "2008       Rajasthan Royals     13\n",
       "2009       Delhi Daredevils     10\n",
       "2010         Mumbai Indians     11\n",
       "2011    Chennai Super Kings     11\n",
       "2012  Kolkata Knight Riders     12\n",
       "2013         Mumbai Indians     13\n",
       "2014        Kings XI Punjab     12\n",
       "2015         Mumbai Indians     10\n",
       "2016    Sunrisers Hyderabad     11"
      ]
     },
     "execution_count": 180,
     "metadata": {},
     "output_type": "execute_result"
    }
   ],
   "source": [
    "(df_ipl\n",
    " .drop_duplicates(subset='match_code')\n",
    " .reset_index(drop=True)\n",
    " .groupby('year')\n",
    " .apply(lambda group: pd.Series( (group['winner'].value_counts().index[0],group['winner'].value_counts()[0]),\n",
    "                               index=['winner','count']))\n",
    ")"
   ]
  },
  {
   "cell_type": "code",
   "execution_count": 177,
   "metadata": {},
   "outputs": [
    {
     "data": {
      "text/html": [
       "<div>\n",
       "<style scoped>\n",
       "    .dataframe tbody tr th:only-of-type {\n",
       "        vertical-align: middle;\n",
       "    }\n",
       "\n",
       "    .dataframe tbody tr th {\n",
       "        vertical-align: top;\n",
       "    }\n",
       "\n",
       "    .dataframe thead th {\n",
       "        text-align: right;\n",
       "    }\n",
       "</style>\n",
       "<table border=\"1\" class=\"dataframe\">\n",
       "  <thead>\n",
       "    <tr style=\"text-align: right;\">\n",
       "      <th></th>\n",
       "      <th>winner</th>\n",
       "      <th>count</th>\n",
       "    </tr>\n",
       "    <tr>\n",
       "      <th>year</th>\n",
       "      <th></th>\n",
       "      <th></th>\n",
       "    </tr>\n",
       "  </thead>\n",
       "  <tbody>\n",
       "    <tr>\n",
       "      <th>2008</th>\n",
       "      <td>Rajasthan Royals</td>\n",
       "      <td>13</td>\n",
       "    </tr>\n",
       "    <tr>\n",
       "      <th>2009</th>\n",
       "      <td>Delhi Daredevils</td>\n",
       "      <td>10</td>\n",
       "    </tr>\n",
       "    <tr>\n",
       "      <th>2010</th>\n",
       "      <td>Mumbai Indians</td>\n",
       "      <td>11</td>\n",
       "    </tr>\n",
       "    <tr>\n",
       "      <th>2011</th>\n",
       "      <td>Chennai Super Kings</td>\n",
       "      <td>11</td>\n",
       "    </tr>\n",
       "    <tr>\n",
       "      <th>2012</th>\n",
       "      <td>Kolkata Knight Riders</td>\n",
       "      <td>12</td>\n",
       "    </tr>\n",
       "    <tr>\n",
       "      <th>2013</th>\n",
       "      <td>Mumbai Indians</td>\n",
       "      <td>13</td>\n",
       "    </tr>\n",
       "    <tr>\n",
       "      <th>2014</th>\n",
       "      <td>Kings XI Punjab</td>\n",
       "      <td>12</td>\n",
       "    </tr>\n",
       "    <tr>\n",
       "      <th>2015</th>\n",
       "      <td>Mumbai Indians</td>\n",
       "      <td>10</td>\n",
       "    </tr>\n",
       "    <tr>\n",
       "      <th>2016</th>\n",
       "      <td>Sunrisers Hyderabad</td>\n",
       "      <td>11</td>\n",
       "    </tr>\n",
       "  </tbody>\n",
       "</table>\n",
       "</div>"
      ],
      "text/plain": [
       "                     winner  count\n",
       "year                              \n",
       "2008       Rajasthan Royals     13\n",
       "2009       Delhi Daredevils     10\n",
       "2010         Mumbai Indians     11\n",
       "2011    Chennai Super Kings     11\n",
       "2012  Kolkata Knight Riders     12\n",
       "2013         Mumbai Indians     13\n",
       "2014        Kings XI Punjab     12\n",
       "2015         Mumbai Indians     10\n",
       "2016    Sunrisers Hyderabad     11"
      ]
     },
     "execution_count": 177,
     "metadata": {},
     "output_type": "execute_result"
    }
   ],
   "source": [
    "def get_max(group):\n",
    "    vc = group['winner'].value_counts()\n",
    "    return pd.Series([vc.index[0], vc[0]], index=['winner', 'count'])\n",
    "    \n",
    "(df_ipl\n",
    " .drop_duplicates(subset='match_code')\n",
    " .reset_index(drop=True)\n",
    " .groupby('year')\n",
    " .apply(get_max)\n",
    ")"
   ]
  },
  {
   "cell_type": "code",
   "execution_count": null,
   "metadata": {},
   "outputs": [],
   "source": []
  }
 ],
 "metadata": {
  "kernelspec": {
   "display_name": "Python 3",
   "language": "python",
   "name": "python3"
  },
  "language_info": {
   "codemirror_mode": {
    "name": "ipython",
    "version": 3
   },
   "file_extension": ".py",
   "mimetype": "text/x-python",
   "name": "python",
   "nbconvert_exporter": "python",
   "pygments_lexer": "ipython3",
   "version": "3.8.3"
  }
 },
 "nbformat": 4,
 "nbformat_minor": 4
}
