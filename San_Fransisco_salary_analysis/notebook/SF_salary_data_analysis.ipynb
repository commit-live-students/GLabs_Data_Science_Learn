{
  "nbformat": 4,
  "nbformat_minor": 0,
  "metadata": {
    "colab": {
      "name": "SF_salary_data_analysis.ipynb",
      "provenance": []
    },
    "kernelspec": {
      "name": "python3",
      "display_name": "Python 3"
    }
  },
  "cells": [
    {
      "cell_type": "markdown",
      "metadata": {
        "id": "Ow2UdpIAXhtq",
        "colab_type": "text"
      },
      "source": [
        "# City Salary Data Analyis\n",
        "One way to understand how a city government works is by looking at who it employs and how its employees are compensated. This data contains the names, job title, and compensation for San Francisco city employees on an annual basis from 2011 to 2014.\n",
        "\n",
        "# Exploration Ideas\n",
        "\n",
        "* How have salaries changed over time between different groups of people?\n",
        "* How are base pay, overtime pay, and benefits allocated between   different groups?\n",
        "* Is there any evidence of pay discrimination based on gender in this dataset?\n",
        "* How is budget allocated based on different groups and responsibilities?"
      ]
    },
    {
      "cell_type": "markdown",
      "metadata": {
        "id": "wwkCDpBoX6cy",
        "colab_type": "text"
      },
      "source": [
        "## Import libraries"
      ]
    },
    {
      "cell_type": "code",
      "metadata": {
        "id": "xn6L-niwV9Kp",
        "colab_type": "code",
        "colab": {}
      },
      "source": [
        "import pandas as pd\n",
        "import numpy as np\n",
        "import seaborn as sns\n",
        "import pandas as pd\n",
        "import matplotlib.pyplot as plt"
      ],
      "execution_count": null,
      "outputs": []
    },
    {
      "cell_type": "markdown",
      "metadata": {
        "id": "tm2tW8YTYAVw",
        "colab_type": "text"
      },
      "source": [
        "## Read the data"
      ]
    },
    {
      "cell_type": "code",
      "metadata": {
        "id": "ccLpmOX2YDVP",
        "colab_type": "code",
        "colab": {}
      },
      "source": [
        ""
      ],
      "execution_count": null,
      "outputs": []
    },
    {
      "cell_type": "markdown",
      "metadata": {
        "id": "ONgXgAFbYErb",
        "colab_type": "text"
      },
      "source": [
        "## Basic data study"
      ]
    },
    {
      "cell_type": "code",
      "metadata": {
        "id": "swpD4k8uYIe5",
        "colab_type": "code",
        "colab": {}
      },
      "source": [
        ""
      ],
      "execution_count": null,
      "outputs": []
    },
    {
      "cell_type": "markdown",
      "metadata": {
        "id": "351Gd6SrYKJp",
        "colab_type": "text"
      },
      "source": [
        "#### What are your observations about the basic statistics of data?"
      ]
    },
    {
      "cell_type": "markdown",
      "metadata": {
        "id": "O3PSYxkHYQ9T",
        "colab_type": "text"
      },
      "source": [
        "## What columns do you think do not add value to our analysis? Drop those columns."
      ]
    },
    {
      "cell_type": "code",
      "metadata": {
        "id": "RO-dE2B9YP-3",
        "colab_type": "code",
        "colab": {}
      },
      "source": [
        ""
      ],
      "execution_count": null,
      "outputs": []
    },
    {
      "cell_type": "markdown",
      "metadata": {
        "id": "TPYk-QPVYVUo",
        "colab_type": "text"
      },
      "source": [
        "## Check for missing values in the data, what is the strategy you will apply to deal with missing values?"
      ]
    },
    {
      "cell_type": "code",
      "metadata": {
        "id": "7cJw9WgMYcCg",
        "colab_type": "code",
        "colab": {}
      },
      "source": [
        ""
      ],
      "execution_count": null,
      "outputs": []
    },
    {
      "cell_type": "markdown",
      "metadata": {
        "id": "GEMD4kMSYcs6",
        "colab_type": "text"
      },
      "source": [
        "## Convert the object values of all the types of pays to numeric, use to_numeric method of pandas to convert. Is it as straightforward or there is some descripency? if yes, how will you overcome it?"
      ]
    },
    {
      "cell_type": "code",
      "metadata": {
        "id": "qJMPW47DY1Qr",
        "colab_type": "code",
        "colab": {}
      },
      "source": [
        ""
      ],
      "execution_count": null,
      "outputs": []
    },
    {
      "cell_type": "markdown",
      "metadata": {
        "id": "a2rQ7KbEY2CX",
        "colab_type": "text"
      },
      "source": [
        "## Find the job titles of the 10 highest median base pay\n",
        "\n",
        "Base Pay -> The most basic sum of money or hourly rate paid to an employee of a business in compensation for their work efforts or time spent on the job"
      ]
    },
    {
      "cell_type": "code",
      "metadata": {
        "id": "Jq-6G__LY6zi",
        "colab_type": "code",
        "colab": {}
      },
      "source": [
        ""
      ],
      "execution_count": null,
      "outputs": []
    },
    {
      "cell_type": "markdown",
      "metadata": {
        "id": "wMMqnYoSY77K",
        "colab_type": "text"
      },
      "source": [
        "## Find the job titles of the 10 highest median Overtime Pay\n",
        "\n",
        "\n",
        "Overtime Pay -> Additional financial compensation for any hours worked by nonexempt staff over the amount of forty hours per week."
      ]
    },
    {
      "cell_type": "code",
      "metadata": {
        "id": "NZUvy9HjZAaK",
        "colab_type": "code",
        "colab": {}
      },
      "source": [
        ""
      ],
      "execution_count": null,
      "outputs": []
    },
    {
      "cell_type": "markdown",
      "metadata": {
        "id": "T6muLiSWZHBv",
        "colab_type": "text"
      },
      "source": [
        "## Plot the sectors which have provided the maximum  number of employment"
      ]
    },
    {
      "cell_type": "code",
      "metadata": {
        "id": "tG-rwzIGZ2rw",
        "colab_type": "code",
        "colab": {}
      },
      "source": [
        ""
      ],
      "execution_count": null,
      "outputs": []
    },
    {
      "cell_type": "markdown",
      "metadata": {
        "id": "JKmQo5SLZ-Cq",
        "colab_type": "text"
      },
      "source": [
        "## Plot the top 10 Job titles with highest mean TotalPayBenefits"
      ]
    },
    {
      "cell_type": "code",
      "metadata": {
        "id": "qBBjyNazZ_vb",
        "colab_type": "code",
        "colab": {}
      },
      "source": [
        ""
      ],
      "execution_count": null,
      "outputs": []
    },
    {
      "cell_type": "markdown",
      "metadata": {
        "id": "jq03kTXoaF4o",
        "colab_type": "text"
      },
      "source": [
        "## Find the highest paid employees for the year 2012, 2013 and 2014\n",
        "\n"
      ]
    },
    {
      "cell_type": "code",
      "metadata": {
        "id": "7OvwsidGaGwq",
        "colab_type": "code",
        "colab": {}
      },
      "source": [
        ""
      ],
      "execution_count": null,
      "outputs": []
    },
    {
      "cell_type": "markdown",
      "metadata": {
        "id": "k22g2D87aLom",
        "colab_type": "text"
      },
      "source": [
        ""
      ]
    },
    {
      "cell_type": "markdown",
      "metadata": {
        "id": "eD0EtkQgaPEp",
        "colab_type": "text"
      },
      "source": [
        "## What questions do you want the answer for looking at the data?\n"
      ]
    },
    {
      "cell_type": "code",
      "metadata": {
        "id": "UCenIjdfaQGB",
        "colab_type": "code",
        "colab": {}
      },
      "source": [
        ""
      ],
      "execution_count": null,
      "outputs": []
    }
  ]
}