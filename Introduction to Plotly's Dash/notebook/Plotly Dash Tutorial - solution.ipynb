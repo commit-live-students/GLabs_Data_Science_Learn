{
 "cells": [
  {
   "cell_type": "markdown",
   "metadata": {},
   "source": [
    "# Building interactive Dashboards using Plotly's Dash"
   ]
  },
  {
   "cell_type": "markdown",
   "metadata": {},
   "source": [
    "Dash is an open-source Python framework used for building analytical web applications. It is a powerful library that simplifies the development of data-driven applications. It’s especially useful for Python data scientists who aren’t very familiar with web development. Users can create amazing dashboards in their browser using dash.\n",
    "\n",
    "Built on top of Plotly.js, React, and Flask, Dash ties modern UI elements like dropdowns, sliders and graphs directly to your analytical python code.\n",
    "\n",
    "Dash apps consist of a Flask server that communicates with front-end React components using JSON packets over HTTP requests.\n",
    "\n",
    "DASH APPLICATIONS ARE WRITTEN PURELY IN PYTHON, so NO HTML or JAVASCRIPT IS NECESSARY.\n",
    "\n",
    "Following are some of the interactive dashboards built using Dash:\n",
    "\n",
    "* [Visualize Earthquakes with Plotly Dash](https://belle-croissant-54211.herokuapp.com/)\n",
    "\n",
    "* [Traffic Accidents UK ](https://traffic-accidents-uk.herokuapp.com/)\n",
    "\n",
    "* [Uber Rides](https://dash-gallery.plotly.host/dash-uber-rides-demo/)\n",
    "\n",
    "[Dash](https://dash.plotly.com/) official documentation can be visited to explore more.\n",
    "\n",
    "\n",
    "Lets create a simple interactive dashboard and then break down all the elements in it."
   ]
  },
  {
   "cell_type": "markdown",
   "metadata": {},
   "source": [
    "## We always deal with datasets, so lets take a dataset and understand the different elements to create an interactive dashboard using Plotly's Dash"
   ]
  },
  {
   "cell_type": "markdown",
   "metadata": {},
   "source": [
    "### Importing libraries"
   ]
  },
  {
   "cell_type": "code",
   "execution_count": 3,
   "metadata": {},
   "outputs": [],
   "source": [
    "import dash\n",
    "import dash_core_components as dcc\n",
    "from jupyter_dash import JupyterDash\n",
    "import dash_html_components as html\n",
    "import plotly.graph_objs as go\n",
    "import pandas as pd"
   ]
  },
  {
   "cell_type": "markdown",
   "metadata": {},
   "source": [
    "### Reading the data and creating a pivot table out of the same"
   ]
  },
  {
   "cell_type": "code",
   "execution_count": 4,
   "metadata": {},
   "outputs": [
    {
     "data": {
      "text/html": [
       "<div>\n",
       "<style scoped>\n",
       "    .dataframe tbody tr th:only-of-type {\n",
       "        vertical-align: middle;\n",
       "    }\n",
       "\n",
       "    .dataframe tbody tr th {\n",
       "        vertical-align: top;\n",
       "    }\n",
       "\n",
       "    .dataframe thead th {\n",
       "        text-align: right;\n",
       "    }\n",
       "</style>\n",
       "<table border=\"1\" class=\"dataframe\">\n",
       "  <thead>\n",
       "    <tr style=\"text-align: right;\">\n",
       "      <th></th>\n",
       "      <th>Account</th>\n",
       "      <th>Name</th>\n",
       "      <th>Rep</th>\n",
       "      <th>Manager</th>\n",
       "      <th>Product</th>\n",
       "      <th>Quantity</th>\n",
       "      <th>Price</th>\n",
       "      <th>Status</th>\n",
       "    </tr>\n",
       "  </thead>\n",
       "  <tbody>\n",
       "    <tr>\n",
       "      <th>0</th>\n",
       "      <td>714466</td>\n",
       "      <td>Trantow-Barrows</td>\n",
       "      <td>Craig Booker</td>\n",
       "      <td>Debra Henley</td>\n",
       "      <td>CPU</td>\n",
       "      <td>1</td>\n",
       "      <td>30000</td>\n",
       "      <td>presented</td>\n",
       "    </tr>\n",
       "    <tr>\n",
       "      <th>1</th>\n",
       "      <td>714466</td>\n",
       "      <td>Trantow-Barrows</td>\n",
       "      <td>Craig Booker</td>\n",
       "      <td>Debra Henley</td>\n",
       "      <td>Software</td>\n",
       "      <td>1</td>\n",
       "      <td>10000</td>\n",
       "      <td>presented</td>\n",
       "    </tr>\n",
       "    <tr>\n",
       "      <th>2</th>\n",
       "      <td>714466</td>\n",
       "      <td>Trantow-Barrows</td>\n",
       "      <td>Craig Booker</td>\n",
       "      <td>Debra Henley</td>\n",
       "      <td>Maintenance</td>\n",
       "      <td>2</td>\n",
       "      <td>5000</td>\n",
       "      <td>pending</td>\n",
       "    </tr>\n",
       "    <tr>\n",
       "      <th>3</th>\n",
       "      <td>737550</td>\n",
       "      <td>Fritsch, Russel and Anderson</td>\n",
       "      <td>Craig Booker</td>\n",
       "      <td>Debra Henley</td>\n",
       "      <td>CPU</td>\n",
       "      <td>1</td>\n",
       "      <td>35000</td>\n",
       "      <td>declined</td>\n",
       "    </tr>\n",
       "    <tr>\n",
       "      <th>4</th>\n",
       "      <td>146832</td>\n",
       "      <td>Kiehn-Spinka</td>\n",
       "      <td>Daniel Hilton</td>\n",
       "      <td>Debra Henley</td>\n",
       "      <td>CPU</td>\n",
       "      <td>2</td>\n",
       "      <td>65000</td>\n",
       "      <td>won</td>\n",
       "    </tr>\n",
       "  </tbody>\n",
       "</table>\n",
       "</div>"
      ],
      "text/plain": [
       "   Account                          Name            Rep       Manager  \\\n",
       "0   714466               Trantow-Barrows   Craig Booker  Debra Henley   \n",
       "1   714466               Trantow-Barrows   Craig Booker  Debra Henley   \n",
       "2   714466               Trantow-Barrows   Craig Booker  Debra Henley   \n",
       "3   737550  Fritsch, Russel and Anderson   Craig Booker  Debra Henley   \n",
       "4   146832                  Kiehn-Spinka  Daniel Hilton  Debra Henley   \n",
       "\n",
       "       Product  Quantity  Price     Status  \n",
       "0          CPU         1  30000  presented  \n",
       "1     Software         1  10000  presented  \n",
       "2  Maintenance         2   5000    pending  \n",
       "3          CPU         1  35000   declined  \n",
       "4          CPU         2  65000        won  "
      ]
     },
     "execution_count": 4,
     "metadata": {},
     "output_type": "execute_result"
    }
   ],
   "source": [
    "df = pd.read_excel(\"https://github.com/chris1610/pbpython/blob/master/data/salesfunnel.xlsx?raw=True\")\n",
    "df.head()"
   ]
  },
  {
   "cell_type": "code",
   "execution_count": 5,
   "metadata": {},
   "outputs": [
    {
     "data": {
      "text/html": [
       "<div>\n",
       "<style scoped>\n",
       "    .dataframe tbody tr th:only-of-type {\n",
       "        vertical-align: middle;\n",
       "    }\n",
       "\n",
       "    .dataframe tbody tr th {\n",
       "        vertical-align: top;\n",
       "    }\n",
       "\n",
       "    .dataframe thead tr th {\n",
       "        text-align: left;\n",
       "    }\n",
       "\n",
       "    .dataframe thead tr:last-of-type th {\n",
       "        text-align: right;\n",
       "    }\n",
       "</style>\n",
       "<table border=\"1\" class=\"dataframe\">\n",
       "  <thead>\n",
       "    <tr>\n",
       "      <th></th>\n",
       "      <th colspan=\"4\" halign=\"left\">Quantity</th>\n",
       "    </tr>\n",
       "    <tr>\n",
       "      <th>Status</th>\n",
       "      <th>declined</th>\n",
       "      <th>pending</th>\n",
       "      <th>presented</th>\n",
       "      <th>won</th>\n",
       "    </tr>\n",
       "    <tr>\n",
       "      <th>Name</th>\n",
       "      <th></th>\n",
       "      <th></th>\n",
       "      <th></th>\n",
       "      <th></th>\n",
       "    </tr>\n",
       "  </thead>\n",
       "  <tbody>\n",
       "    <tr>\n",
       "      <th>Barton LLC</th>\n",
       "      <td>1</td>\n",
       "      <td>0</td>\n",
       "      <td>0</td>\n",
       "      <td>0</td>\n",
       "    </tr>\n",
       "    <tr>\n",
       "      <th>Fritsch, Russel and Anderson</th>\n",
       "      <td>1</td>\n",
       "      <td>0</td>\n",
       "      <td>0</td>\n",
       "      <td>0</td>\n",
       "    </tr>\n",
       "    <tr>\n",
       "      <th>Herman LLC</th>\n",
       "      <td>0</td>\n",
       "      <td>0</td>\n",
       "      <td>0</td>\n",
       "      <td>2</td>\n",
       "    </tr>\n",
       "    <tr>\n",
       "      <th>Jerde-Hilpert</th>\n",
       "      <td>0</td>\n",
       "      <td>2</td>\n",
       "      <td>0</td>\n",
       "      <td>0</td>\n",
       "    </tr>\n",
       "    <tr>\n",
       "      <th>Kassulke, Ondricka and Metz</th>\n",
       "      <td>0</td>\n",
       "      <td>0</td>\n",
       "      <td>0</td>\n",
       "      <td>3</td>\n",
       "    </tr>\n",
       "  </tbody>\n",
       "</table>\n",
       "</div>"
      ],
      "text/plain": [
       "                             Quantity                      \n",
       "Status                       declined pending presented won\n",
       "Name                                                       \n",
       "Barton LLC                          1       0         0   0\n",
       "Fritsch, Russel and Anderson        1       0         0   0\n",
       "Herman LLC                          0       0         0   2\n",
       "Jerde-Hilpert                       0       2         0   0\n",
       "Kassulke, Ondricka and Metz         0       0         0   3"
      ]
     },
     "execution_count": 5,
     "metadata": {},
     "output_type": "execute_result"
    }
   ],
   "source": [
    "pv = pd.pivot_table(df, index=['Name'], columns=[\"Status\"], values=['Quantity'], aggfunc=sum, fill_value=0)\n",
    "pv.head()"
   ]
  },
  {
   "cell_type": "markdown",
   "metadata": {},
   "source": [
    "#### Now that the data is simply tabulated by customer and status, we can build out the bars that show the various customer status counts. \n",
    "#### The convention for plotly is that each item being plotted is usually called a trace . In this example, we want to plot Declined, Pending, Presented and Won as stacked bar charts so we need a trace for each one. Because we pivoted the data, the customer name is in the index and the individual values can be accessed through the hierarchical index on the column. Finally, the name will be used on the legend to describe the trace."
   ]
  },
  {
   "cell_type": "code",
   "execution_count": 6,
   "metadata": {},
   "outputs": [],
   "source": [
    "trace1 = go.Bar(x=pv.index, y=pv[('Quantity', 'declined')], name='Declined')\n",
    "trace2 = go.Bar(x=pv.index, y=pv[('Quantity', 'pending')], name='Pending')\n",
    "trace3 = go.Bar(x=pv.index, y=pv[('Quantity', 'presented')], name='Presented')\n",
    "trace4 = go.Bar(x=pv.index, y=pv[('Quantity', 'won')], name='Won')"
   ]
  },
  {
   "cell_type": "markdown",
   "metadata": {},
   "source": [
    "#### Now that we have set everything up, we can build the actual dash app."
   ]
  },
  {
   "cell_type": "markdown",
   "metadata": {},
   "source": [
    "#### Below is the entire code, run the code :"
   ]
  },
  {
   "cell_type": "code",
   "execution_count": 13,
   "metadata": {},
   "outputs": [],
   "source": [
    "app = JupyterDash(__name__)\n",
    "app.layout = html.Div(children=[\n",
    "    html.H1(children='Sales Funnel Report'),\n",
    "    html.Div(children='''National Sales Funnel Report.'''),\n",
    "    dcc.Graph(\n",
    "        id='example-graph',\n",
    "        figure={\n",
    "            'data': [trace1, trace2, trace3, trace4],\n",
    "            'layout':\n",
    "            go.Layout(title='Order Status by Customer', barmode='stack')\n",
    "        })\n",
    "])\n",
    "\n",
    "app.run_server(mode = 'inline')"
   ]
  },
  {
   "cell_type": "markdown",
   "metadata": {},
   "source": [
    "### Understanding the Dash app"
   ]
  },
  {
   "cell_type": "markdown",
   "metadata": {},
   "source": [
    "#### The basic structure of this code is to build the app, layout the HTML components and create the figure dictionary which contains the instructions to build the graph as well as provide other layout options.\n",
    "\n",
    "#### The most challenging aspect of this is the nesting of the HTML components. The fact that it was easy to get started without having to create the standard HTML/CSS/JS boilerplate needed for a modern web app. However, it is recommended  to use a good editor so it is easy to manage the code style and match the brackets and parentheses.\n",
    "\n",
    "#### After laying out the HTML components, the next step is to define the figure using a dictionary that contains the figure as well as the data and layout options. In this case, the layout was needed to define that the bars were stacked and provide an overall title.\n",
    "\n",
    "#### Once the app is laid out, we need to make sure it can run."
   ]
  },
  {
   "cell_type": "markdown",
   "metadata": {},
   "source": [
    "#### With just 30 to 40 lines of code, we get so much of interactivity. Amazing!\n",
    "\n",
    "#### Pure PYTHON!\n",
    "\n",
    "\n"
   ]
  },
  {
   "cell_type": "markdown",
   "metadata": {},
   "source": [
    "## Interactivity"
   ]
  },
  {
   "cell_type": "markdown",
   "metadata": {},
   "source": [
    "#### The real power of Dash comes from its ability to do complex interactions.\n",
    "\n",
    "Dash provides several interactive components out of the box including Dropdowns, Multi-Select Dropdowns, Radio Buttons, Checkboxes, Sliders, and Text Input. All of them can be easily constructed and tied into your plots to drive various interactive options.\n",
    "\n",
    "We will take the above example a notch higher. For the more complex demo, we can modify the app to allow the user to select one of the managers via a dropdown and view the single manager’s results only."
   ]
  },
  {
   "cell_type": "code",
   "execution_count": 8,
   "metadata": {},
   "outputs": [],
   "source": [
    "# We get the unique managers here\n",
    "\n",
    "mgr_options = df[\"Manager\"].unique()"
   ]
  },
  {
   "cell_type": "code",
   "execution_count": 14,
   "metadata": {},
   "outputs": [],
   "source": [
    "app = JupyterDash(__name__)\n",
    "\n",
    "app.layout = html.Div([\n",
    "    html.H2(\"Sales Funnel Report\"),\n",
    "    html.Div(\n",
    "        [\n",
    "            dcc.Dropdown(\n",
    "                id=\"Manager\",\n",
    "                options=[{\n",
    "                    'label': i,\n",
    "                    'value': i\n",
    "                } for i in mgr_options],\n",
    "                value='All Managers'),\n",
    "        ],\n",
    "        style={'width': '25%',\n",
    "               'display': 'inline-block'}),\n",
    "    dcc.Graph(id='funnel-graph'),\n",
    "])\n",
    "\n",
    "\n",
    "@app.callback(\n",
    "    dash.dependencies.Output('funnel-graph', 'figure'),\n",
    "    [dash.dependencies.Input('Manager', 'value')])\n",
    "def update_graph(Manager):\n",
    "    if Manager == \"All Managers\":\n",
    "        df_plot = df.copy()\n",
    "    else:\n",
    "        df_plot = df[df['Manager'] == Manager]\n",
    "\n",
    "    pv = pd.pivot_table(\n",
    "        df_plot,\n",
    "        index=['Name'],\n",
    "        columns=[\"Status\"],\n",
    "        values=['Quantity'],\n",
    "        aggfunc=sum,\n",
    "        fill_value=0)\n",
    "\n",
    "    trace1 = go.Bar(x=pv.index, y=pv[('Quantity', 'declined')], name='Declined')\n",
    "    trace2 = go.Bar(x=pv.index, y=pv[('Quantity', 'pending')], name='Pending')\n",
    "    trace3 = go.Bar(x=pv.index, y=pv[('Quantity', 'presented')], name='Presented')\n",
    "    trace4 = go.Bar(x=pv.index, y=pv[('Quantity', 'won')], name='Won')\n",
    "\n",
    "    return {\n",
    "        'data': [trace1, trace2, trace3, trace4],\n",
    "        'layout':\n",
    "        go.Layout(\n",
    "            title='Customer Order Status for {}'.format(Manager),\n",
    "            barmode='stack')\n",
    "    }\n",
    "\n",
    "\n",
    "app.run_server(mode='inline')"
   ]
  },
  {
   "cell_type": "markdown",
   "metadata": {},
   "source": [
    "### Understanding the Dash app"
   ]
  },
  {
   "cell_type": "markdown",
   "metadata": {},
   "source": [
    "### The next block of code will create the app and add the layout which will include a dcc.Dropdown to define the manager dropdown field."
   ]
  },
  {
   "cell_type": "markdown",
   "metadata": {},
   "source": [
    "```python\n",
    "app = dash.Dash()\n",
    "\n",
    "app.layout = html.Div([\n",
    "    html.H2(\"Sales Funnel Report\"),\n",
    "    html.Div(\n",
    "        [\n",
    "            dcc.Dropdown(\n",
    "                id=\"Manager\",\n",
    "                options=[{\n",
    "                    'label': i,\n",
    "                    'value': i\n",
    "                } for i in mgr_options],\n",
    "                value='All Managers'),\n",
    "        ],\n",
    "        style={'width': '25%',\n",
    "               'display': 'inline-block'}),\n",
    "    dcc.Graph(id='funnel-graph'),\n",
    "])\n",
    "```\n"
   ]
  },
  {
   "cell_type": "markdown",
   "metadata": {},
   "source": [
    "There a couple of items to note in this section. The dropdown needs to have an id defined that can be referenced later to drive our interactivity. You may also notice that the dcc.Graph code only contains an id and not the rest of the content we saw earlier. Since this is an interactive plot the dcc.Graph acts as a placeholder that we will define in a moment.\n",
    "\n",
    "The final aspect of this section is that there is a style attribute which is a convenient way to make sure the component (in this case the dropdown) is only 25% of the screen and does not span the entire browser.\n",
    "\n",
    "Now that the layout is completed, we can build up the interactive components by adding a callback decorator to a function that manipulates the data and returns a dictionary. This resulting dictionary looks like the figure dictionary defined in the simpler example above so the basic concept continues to build upon itself.\n",
    "\n"
   ]
  },
  {
   "cell_type": "markdown",
   "metadata": {},
   "source": [
    "### Basic callback"
   ]
  },
  {
   "cell_type": "markdown",
   "metadata": {},
   "source": [
    "```python\n",
    "@app.callback(\n",
    "    dash.dependencies.Output('funnel-graph', 'figure'),\n",
    "    [dash.dependencies.Input('Manager', 'value')])\n",
    "```"
   ]
  },
  {
   "cell_type": "markdown",
   "metadata": {},
   "source": [
    "This looks a little complex but all it is doing is providing a wrapper around the update_graph function that defines an output and an input. In this case the output is the funnel-graph and the input Manager. In other words this decorator knows how to link the drop down definition to the function and take the output and place it in the dcc.Graph . This little bit of decorator magic is where the real power of Dash can be seen. It may seem a little complex at first but the basic concept is straightforward and once you understand it, you can really build some complex interactive visualizations."
   ]
  },
  {
   "cell_type": "markdown",
   "metadata": {},
   "source": [
    "```python\n",
    "def update_graph(Manager):\n",
    "    if Manager == \"All Managers\":\n",
    "        df_plot = df.copy()\n",
    "    else:\n",
    "        df_plot = df[df['Manager'] == Manager]\n",
    "\n",
    "    pv = pd.pivot_table(\n",
    "        df_plot,\n",
    "        index=['Name'],\n",
    "        columns=[\"Status\"],\n",
    "        values=['Quantity'],\n",
    "        aggfunc=sum,\n",
    "        fill_value=0)\n",
    "```"
   ]
  },
  {
   "cell_type": "markdown",
   "metadata": {},
   "source": [
    "This portion of the function filters the data based on the dropdown to include only a subset of the managers - or include all managers is the default is selected. After filtering the dataframe, the code pivots the data to construct the tabular results similar to the earlier example. Pure python\n",
    "\n",
    "### The next portion of the code defines the traces, we have done this earlier:"
   ]
  },
  {
   "cell_type": "markdown",
   "metadata": {},
   "source": [
    "```python\n",
    "trace1 = go.Bar(x=pv.index, y=pv[('Quantity', 'declined')], name='Declined')\n",
    "trace2 = go.Bar(x=pv.index, y=pv[('Quantity', 'pending')], name='Pending')\n",
    "trace3 = go.Bar(x=pv.index, y=pv[('Quantity', 'presented')], name='Presented')\n",
    "trace4 = go.Bar(x=pv.index, y=pv[('Quantity', 'won')], name='Won')\n",
    "```"
   ]
  },
  {
   "cell_type": "markdown",
   "metadata": {},
   "source": [
    "### The final step is to return a dictionary with the figure and layout defined. The decorator we defined earlier will make sure that the updated chart gets included in the output display."
   ]
  },
  {
   "cell_type": "markdown",
   "metadata": {},
   "source": [
    "```python\n",
    "return {\n",
    "    'data': [trace1, trace2, trace3, trace4],\n",
    "    'layout':\n",
    "    go.Layout(\n",
    "        title='Customer Order Status for {}'.format(Manager),\n",
    "        barmode='stack')\n",
    "}\n",
    "```"
   ]
  },
  {
   "cell_type": "markdown",
   "metadata": {},
   "source": [
    "### Run the app\n",
    "\n"
   ]
  },
  {
   "cell_type": "markdown",
   "metadata": {},
   "source": [
    "```python\n",
    "app.run_server(mode='inline')\n",
    "```"
   ]
  },
  {
   "cell_type": "markdown",
   "metadata": {},
   "source": [
    "So, how does your app look?\n",
    "\n",
    "Play around with it.\n",
    "\n",
    "#### This application is about 68 lines of code which is not too bad when you consider how much is being done:\n",
    "\n",
    "* Fully interactive interface with the charts\n",
    "* Drop down selection of various managers\n",
    "* Ability to save the plot as a png file\n",
    "* Pan and zoom options\n",
    "* Multiple level undo\n",
    "* Automatic resizing of the plot as window sizes change\n"
   ]
  },
  {
   "cell_type": "markdown",
   "metadata": {},
   "source": [
    "## Activity :\n",
    "\n",
    "* What do you think is the role of reporting in Data Science?\n",
    "\n",
    "* What are the other visualization tools you are familiar of?\n"
   ]
  },
  {
   "cell_type": "code",
   "execution_count": null,
   "metadata": {},
   "outputs": [],
   "source": []
  }
 ],
 "metadata": {
  "kernelspec": {
   "display_name": "Python 3",
   "language": "python",
   "name": "python3"
  },
  "language_info": {
   "codemirror_mode": {
    "name": "ipython",
    "version": 3
   },
   "file_extension": ".py",
   "mimetype": "text/x-python",
   "name": "python",
   "nbconvert_exporter": "python",
   "pygments_lexer": "ipython3",
   "version": "3.8.3"
  }
 },
 "nbformat": 4,
 "nbformat_minor": 2
}
