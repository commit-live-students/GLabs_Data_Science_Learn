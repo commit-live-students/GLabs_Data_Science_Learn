{
  "nbformat": 4,
  "nbformat_minor": 0,
  "metadata": {
    "kernelspec": {
      "display_name": "Python 3",
      "language": "python",
      "name": "python3"
    },
    "language_info": {
      "codemirror_mode": {
        "name": "ipython",
        "version": 3
      },
      "file_extension": ".py",
      "mimetype": "text/x-python",
      "name": "python",
      "nbconvert_exporter": "python",
      "pygments_lexer": "ipython3",
      "version": "3.7.1"
    },
    "colab": {
      "name": "Challenges_in_ML_learner.ipynb",
      "provenance": [],
      "toc_visible": true
    }
  },
  "cells": [
    {
      "cell_type": "markdown",
      "metadata": {
        "id": "0cU1e9kK0g_B",
        "colab_type": "text"
      },
      "source": [
        "## Credit Delinquency Prediction\n",
        "\n",
        "\n",
        "### Problem statement\n",
        "\n",
        "Delinquency describes something or someone who fails to accomplish that which is required by law, duty, or contractual agreement, such as the failure to make a required payment or perform a particular action.\n",
        "\n",
        "Credit scoring algorithms, which makes a guess at the probability of default, are the method banks use to determine whether or not a loan should be granted. This use-case requires learners to improve on the state of the art in credit scoring, by predicting the probability that somebody will experience financial delinquency in the next two years.\n",
        "\n",
        "### Dataset description\n",
        "The dataset consists of 150000 records and 11 features. Below are the 11 features and their descriptions.\n",
        "\n",
        "|Feature|Description|\n",
        "|-----|-----|\n",
        "|SeriousDlqin2yrs|Person experienced 90 days past due delinquency or worse|\n",
        "|RevolvingUtilizationOfUnsecuredLines| Total balance on credit cards and personal lines of credit|\n",
        "|age| Age of borrower in years|\n",
        "|NumberOfTime30-59DaysPastDueNotWorse| Number of times borrower has been 30-59 days past due but no worse in the last 2 years|\n",
        "|DebtRatio| Monthly debt payments, alimony,living costs divided by monthy gross income|\n",
        "|MonthlyIncome|Monthly Income|\n",
        "|NumberOfOpenCreditLinesAndLoans| Number of Open loans (installment like car loan or mortgage) and Lines of credit|\n",
        "|NumberOfTimes90DaysLate|Number of times borrower has been 90 days or more past due|\n",
        "|NumberRealEstateLoansOrLines| Number of mortgage and real estate loans including home equity lines of credit|\n",
        "|NumberOfTime60-89DaysPastDueNotWorse| Number of times borrower has been 60-89 days past due but no worse in the last 2 years|\n",
        "|NumberOfDependents|Number of dependents in family excluding themselves|"
      ]
    },
    {
      "cell_type": "code",
      "metadata": {
        "id": "5N8Y0PRP0g_H",
        "colab_type": "code",
        "colab": {}
      },
      "source": [
        "import warnings\n",
        "warnings.filterwarnings('ignore')"
      ],
      "execution_count": null,
      "outputs": []
    },
    {
      "cell_type": "code",
      "metadata": {
        "id": "I4yAiW-90g_c",
        "colab_type": "code",
        "colab": {}
      },
      "source": [
        "import matplotlib.pyplot as plt\n",
        "import numpy as np\n",
        "import pandas as pd\n",
        "import seaborn as sns\n",
        "import warnings\n",
        "from imblearn.over_sampling import SMOTE\n",
        "from imblearn.pipeline import make_pipeline\n",
        "from pylab import rcParams\n",
        "from sklearn.linear_model import LogisticRegression\n",
        "from sklearn.tree import DecisionTreeClassifier\n",
        "from sklearn.metrics import accuracy_score\n",
        "from sklearn.metrics import precision_score, recall_score, confusion_matrix,classification_report\n",
        "from sklearn.metrics import f1_score, roc_auc_score, roc_curve\n",
        "from sklearn.model_selection import train_test_split\n",
        "from sklearn.model_selection import GridSearchCV"
      ],
      "execution_count": null,
      "outputs": []
    },
    {
      "cell_type": "markdown",
      "metadata": {
        "id": "PA3EKEW80g_x",
        "colab_type": "text"
      },
      "source": [
        "### Task 1 :Load the data and get an overview of the data using `.describe()` and `.info()` method"
      ]
    },
    {
      "cell_type": "code",
      "metadata": {
        "id": "wOJbOMNB0g_0",
        "colab_type": "code",
        "colab": {},
        "outputId": "45d1065f-93d6-49a9-aae1-e1e399eb853e"
      },
      "source": [
        "df = pd.read_csv('fin_dataset.csv',index_col=0)\n",
        "\n",
        "df.head()"
      ],
      "execution_count": null,
      "outputs": [
        {
          "output_type": "execute_result",
          "data": {
            "text/html": [
              "<div>\n",
              "<style scoped>\n",
              "    .dataframe tbody tr th:only-of-type {\n",
              "        vertical-align: middle;\n",
              "    }\n",
              "\n",
              "    .dataframe tbody tr th {\n",
              "        vertical-align: top;\n",
              "    }\n",
              "\n",
              "    .dataframe thead th {\n",
              "        text-align: right;\n",
              "    }\n",
              "</style>\n",
              "<table border=\"1\" class=\"dataframe\">\n",
              "  <thead>\n",
              "    <tr style=\"text-align: right;\">\n",
              "      <th></th>\n",
              "      <th>SeriousDlqin2yrs</th>\n",
              "      <th>RevolvingUtilizationOfUnsecuredLines</th>\n",
              "      <th>age</th>\n",
              "      <th>NumberOfTime30-59DaysPastDueNotWorse</th>\n",
              "      <th>DebtRatio</th>\n",
              "      <th>MonthlyIncome</th>\n",
              "      <th>NumberOfOpenCreditLinesAndLoans</th>\n",
              "      <th>NumberOfTimes90DaysLate</th>\n",
              "      <th>NumberRealEstateLoansOrLines</th>\n",
              "      <th>NumberOfTime60-89DaysPastDueNotWorse</th>\n",
              "      <th>NumberOfDependents</th>\n",
              "    </tr>\n",
              "  </thead>\n",
              "  <tbody>\n",
              "    <tr>\n",
              "      <th>1</th>\n",
              "      <td>1</td>\n",
              "      <td>0.766127</td>\n",
              "      <td>45</td>\n",
              "      <td>2</td>\n",
              "      <td>0.802982</td>\n",
              "      <td>9120.0</td>\n",
              "      <td>13</td>\n",
              "      <td>0</td>\n",
              "      <td>6</td>\n",
              "      <td>0</td>\n",
              "      <td>2.0</td>\n",
              "    </tr>\n",
              "    <tr>\n",
              "      <th>2</th>\n",
              "      <td>0</td>\n",
              "      <td>0.957151</td>\n",
              "      <td>40</td>\n",
              "      <td>0</td>\n",
              "      <td>0.121876</td>\n",
              "      <td>2600.0</td>\n",
              "      <td>4</td>\n",
              "      <td>0</td>\n",
              "      <td>0</td>\n",
              "      <td>0</td>\n",
              "      <td>1.0</td>\n",
              "    </tr>\n",
              "    <tr>\n",
              "      <th>3</th>\n",
              "      <td>0</td>\n",
              "      <td>0.658180</td>\n",
              "      <td>38</td>\n",
              "      <td>1</td>\n",
              "      <td>0.085113</td>\n",
              "      <td>3042.0</td>\n",
              "      <td>2</td>\n",
              "      <td>1</td>\n",
              "      <td>0</td>\n",
              "      <td>0</td>\n",
              "      <td>0.0</td>\n",
              "    </tr>\n",
              "    <tr>\n",
              "      <th>4</th>\n",
              "      <td>0</td>\n",
              "      <td>0.233810</td>\n",
              "      <td>30</td>\n",
              "      <td>0</td>\n",
              "      <td>0.036050</td>\n",
              "      <td>3300.0</td>\n",
              "      <td>5</td>\n",
              "      <td>0</td>\n",
              "      <td>0</td>\n",
              "      <td>0</td>\n",
              "      <td>0.0</td>\n",
              "    </tr>\n",
              "    <tr>\n",
              "      <th>5</th>\n",
              "      <td>0</td>\n",
              "      <td>0.907239</td>\n",
              "      <td>49</td>\n",
              "      <td>1</td>\n",
              "      <td>0.024926</td>\n",
              "      <td>63588.0</td>\n",
              "      <td>7</td>\n",
              "      <td>0</td>\n",
              "      <td>1</td>\n",
              "      <td>0</td>\n",
              "      <td>0.0</td>\n",
              "    </tr>\n",
              "  </tbody>\n",
              "</table>\n",
              "</div>"
            ],
            "text/plain": [
              "   SeriousDlqin2yrs  RevolvingUtilizationOfUnsecuredLines  age  \\\n",
              "1                 1                              0.766127   45   \n",
              "2                 0                              0.957151   40   \n",
              "3                 0                              0.658180   38   \n",
              "4                 0                              0.233810   30   \n",
              "5                 0                              0.907239   49   \n",
              "\n",
              "   NumberOfTime30-59DaysPastDueNotWorse  DebtRatio  MonthlyIncome  \\\n",
              "1                                     2   0.802982         9120.0   \n",
              "2                                     0   0.121876         2600.0   \n",
              "3                                     1   0.085113         3042.0   \n",
              "4                                     0   0.036050         3300.0   \n",
              "5                                     1   0.024926        63588.0   \n",
              "\n",
              "   NumberOfOpenCreditLinesAndLoans  NumberOfTimes90DaysLate  \\\n",
              "1                               13                        0   \n",
              "2                                4                        0   \n",
              "3                                2                        1   \n",
              "4                                5                        0   \n",
              "5                                7                        0   \n",
              "\n",
              "   NumberRealEstateLoansOrLines  NumberOfTime60-89DaysPastDueNotWorse  \\\n",
              "1                             6                                     0   \n",
              "2                             0                                     0   \n",
              "3                             0                                     0   \n",
              "4                             0                                     0   \n",
              "5                             1                                     0   \n",
              "\n",
              "   NumberOfDependents  \n",
              "1                 2.0  \n",
              "2                 1.0  \n",
              "3                 0.0  \n",
              "4                 0.0  \n",
              "5                 0.0  "
            ]
          },
          "metadata": {
            "tags": []
          },
          "execution_count": 11
        }
      ]
    },
    {
      "cell_type": "code",
      "metadata": {
        "scrolled": false,
        "id": "gk82PpKp0hAC",
        "colab_type": "code",
        "colab": {},
        "outputId": "d3ec7d13-0ba8-4c95-df5f-ca1a40ea3e2b"
      },
      "source": [
        "print(df.describe())\n",
        "print(df.info())"
      ],
      "execution_count": null,
      "outputs": [
        {
          "output_type": "stream",
          "text": [
            "       SeriousDlqin2yrs  RevolvingUtilizationOfUnsecuredLines            age  \\\n",
            "count     150000.000000                         150000.000000  150000.000000   \n",
            "mean           0.066840                              6.048438      52.295207   \n",
            "std            0.249746                            249.755371      14.771866   \n",
            "min            0.000000                              0.000000       0.000000   \n",
            "25%            0.000000                              0.029867      41.000000   \n",
            "50%            0.000000                              0.154181      52.000000   \n",
            "75%            0.000000                              0.559046      63.000000   \n",
            "max            1.000000                          50708.000000     109.000000   \n",
            "\n",
            "       NumberOfTime30-59DaysPastDueNotWorse      DebtRatio  MonthlyIncome  \\\n",
            "count                         150000.000000  150000.000000   1.202690e+05   \n",
            "mean                               0.421033     353.005076   6.670221e+03   \n",
            "std                                4.192781    2037.818523   1.438467e+04   \n",
            "min                                0.000000       0.000000   0.000000e+00   \n",
            "25%                                0.000000       0.175074   3.400000e+03   \n",
            "50%                                0.000000       0.366508   5.400000e+03   \n",
            "75%                                0.000000       0.868254   8.249000e+03   \n",
            "max                               98.000000  329664.000000   3.008750e+06   \n",
            "\n",
            "       NumberOfOpenCreditLinesAndLoans  NumberOfTimes90DaysLate  \\\n",
            "count                    150000.000000            150000.000000   \n",
            "mean                          8.452760                 0.265973   \n",
            "std                           5.145951                 4.169304   \n",
            "min                           0.000000                 0.000000   \n",
            "25%                           5.000000                 0.000000   \n",
            "50%                           8.000000                 0.000000   \n",
            "75%                          11.000000                 0.000000   \n",
            "max                          58.000000                98.000000   \n",
            "\n",
            "       NumberRealEstateLoansOrLines  NumberOfTime60-89DaysPastDueNotWorse  \\\n",
            "count                 150000.000000                         150000.000000   \n",
            "mean                       1.018240                              0.240387   \n",
            "std                        1.129771                              4.155179   \n",
            "min                        0.000000                              0.000000   \n",
            "25%                        0.000000                              0.000000   \n",
            "50%                        1.000000                              0.000000   \n",
            "75%                        2.000000                              0.000000   \n",
            "max                       54.000000                             98.000000   \n",
            "\n",
            "       NumberOfDependents  \n",
            "count       146076.000000  \n",
            "mean             0.757222  \n",
            "std              1.115086  \n",
            "min              0.000000  \n",
            "25%              0.000000  \n",
            "50%              0.000000  \n",
            "75%              1.000000  \n",
            "max             20.000000  \n",
            "<class 'pandas.core.frame.DataFrame'>\n",
            "Int64Index: 150000 entries, 1 to 150000\n",
            "Data columns (total 11 columns):\n",
            "SeriousDlqin2yrs                        150000 non-null int64\n",
            "RevolvingUtilizationOfUnsecuredLines    150000 non-null float64\n",
            "age                                     150000 non-null int64\n",
            "NumberOfTime30-59DaysPastDueNotWorse    150000 non-null int64\n",
            "DebtRatio                               150000 non-null float64\n",
            "MonthlyIncome                           120269 non-null float64\n",
            "NumberOfOpenCreditLinesAndLoans         150000 non-null int64\n",
            "NumberOfTimes90DaysLate                 150000 non-null int64\n",
            "NumberRealEstateLoansOrLines            150000 non-null int64\n",
            "NumberOfTime60-89DaysPastDueNotWorse    150000 non-null int64\n",
            "NumberOfDependents                      146076 non-null float64\n",
            "dtypes: float64(4), int64(7)\n",
            "memory usage: 13.7 MB\n",
            "None\n"
          ],
          "name": "stdout"
        }
      ]
    },
    {
      "cell_type": "markdown",
      "metadata": {
        "id": "RZQz3lJF0hAW",
        "colab_type": "text"
      },
      "source": [
        "**There are null values in the variables `NumberOfDependents` and `MonthlyIncome`.**"
      ]
    },
    {
      "cell_type": "markdown",
      "metadata": {
        "id": "upM2yhce0hAZ",
        "colab_type": "text"
      },
      "source": [
        "### Task 2 : Check for the skewness in the variables in `NumberOfDependents`  and `MonthlyIncome` by plotting a histogram."
      ]
    },
    {
      "cell_type": "code",
      "metadata": {
        "id": "h7fdWBfr0hAe",
        "colab_type": "code",
        "colab": {},
        "outputId": "276223f9-400c-4f45-d9ce-8d3055893096"
      },
      "source": [
        "df['NumberOfDependents'].plot(kind='hist')"
      ],
      "execution_count": null,
      "outputs": [
        {
          "output_type": "execute_result",
          "data": {
            "text/plain": [
              "<matplotlib.axes._subplots.AxesSubplot at 0x1c36ab80e48>"
            ]
          },
          "metadata": {
            "tags": []
          },
          "execution_count": 13
        },
        {
          "output_type": "display_data",
          "data": {
            "image/png": "[encoded data removed]",
            "text/plain": [
              "<Figure size 432x288 with 1 Axes>"
            ]
          },
          "metadata": {
            "tags": [],
            "needs_background": "light"
          }
        }
      ]
    },
    {
      "cell_type": "code",
      "metadata": {
        "id": "V4Vg2VlP0hAt",
        "colab_type": "code",
        "colab": {},
        "outputId": "e944e46f-f77b-4a84-e70b-6aacc1be9fba"
      },
      "source": [
        "df['MonthlyIncome'].plot(kind='hist')"
      ],
      "execution_count": null,
      "outputs": [
        {
          "output_type": "execute_result",
          "data": {
            "text/plain": [
              "<matplotlib.axes._subplots.AxesSubplot at 0x1c36a938f28>"
            ]
          },
          "metadata": {
            "tags": []
          },
          "execution_count": 14
        },
        {
          "output_type": "display_data",
          "data": {
            "image/png": "[encoded data removed]",
            "text/plain": [
              "<Figure size 432x288 with 1 Axes>"
            ]
          },
          "metadata": {
            "tags": [],
            "needs_background": "light"
          }
        }
      ]
    },
    {
      "cell_type": "markdown",
      "metadata": {
        "id": "8X1dfhAe0hA4",
        "colab_type": "text"
      },
      "source": [
        "### Task 3 :There is skewness in the feature `NumberOfDependents`. So let's replace the null values in this feature with the median and let's do the same for the feature `MonthlyIncome`"
      ]
    },
    {
      "cell_type": "code",
      "metadata": {
        "id": "IrlqN1bT0hA6",
        "colab_type": "code",
        "colab": {}
      },
      "source": [
        "df['NumberOfDependents']  = df['NumberOfDependents'].fillna(df['NumberOfDependents'].median())\n",
        "\n",
        "df['MonthlyIncome'].fillna(df['MonthlyIncome'].median(),inplace=True)"
      ],
      "execution_count": null,
      "outputs": []
    },
    {
      "cell_type": "markdown",
      "metadata": {
        "id": "eXbFkY4S0hBE",
        "colab_type": "text"
      },
      "source": [
        "### Task 4: Check for the distribution of the target variable using a `countplot()`"
      ]
    },
    {
      "cell_type": "code",
      "metadata": {
        "id": "9gPAus9q0hBG",
        "colab_type": "code",
        "colab": {},
        "outputId": "a47d8f13-d591-40c8-edfc-54eb9b373d32"
      },
      "source": [
        "print(df['SeriousDlqin2yrs'].value_counts()/df['SeriousDlqin2yrs'].value_counts().sum())\n",
        "\n",
        "sns.countplot(df['SeriousDlqin2yrs'],data=df)"
      ],
      "execution_count": null,
      "outputs": [
        {
          "output_type": "stream",
          "text": [
            "0    0.93316\n",
            "1    0.06684\n",
            "Name: SeriousDlqin2yrs, dtype: float64\n"
          ],
          "name": "stdout"
        },
        {
          "output_type": "execute_result",
          "data": {
            "text/plain": [
              "<matplotlib.axes._subplots.AxesSubplot at 0x1c36cf93a58>"
            ]
          },
          "metadata": {
            "tags": []
          },
          "execution_count": 16
        },
        {
          "output_type": "display_data",
          "data": {
            "image/png": "[encoded data removed]",
            "text/plain": [
              "<Figure size 432x288 with 1 Axes>"
            ]
          },
          "metadata": {
            "tags": [],
            "needs_background": "light"
          }
        }
      ]
    },
    {
      "cell_type": "markdown",
      "metadata": {
        "id": "AXxwS4yh0hBT",
        "colab_type": "text"
      },
      "source": [
        "### There is heavy imbalance in the target variable. We will deal with this imbalance using different techniques below"
      ]
    },
    {
      "cell_type": "markdown",
      "metadata": {
        "id": "SjO0JFD00hBV",
        "colab_type": "text"
      },
      "source": [
        "### Task 5 : Seperate the predictors and the target and split the data into training set and testing set. Keep the `test_size = 0.2` and the `random_state=42` "
      ]
    },
    {
      "cell_type": "code",
      "metadata": {
        "id": "g5yus8KZ0hBY",
        "colab_type": "code",
        "colab": {}
      },
      "source": [
        "target = 'SeriousDlqin2yrs'\n",
        "\n",
        "X = df.loc[:,df.columns!=target]\n",
        "Y = df.loc[:,df.columns==target]\n",
        "\n",
        "X_train,X_test,Y_train,Y_test = train_test_split(X,Y,test_size=0.2,random_state=42)"
      ],
      "execution_count": null,
      "outputs": []
    },
    {
      "cell_type": "markdown",
      "metadata": {
        "id": "SFg0Syhg0hBi",
        "colab_type": "text"
      },
      "source": [
        "### Task 6 : For a better method of inference, let's check for the correlation between different features by plotting a heatmap. The basic rule of feature selection is that we need to select features which are highly correlated to the dependent variable and also not highly correlated with each other as they show the same trend. "
      ]
    },
    {
      "cell_type": "code",
      "metadata": {
        "id": "5C7st6Mk0hBl",
        "colab_type": "code",
        "colab": {},
        "outputId": "cd05b56b-9905-46ad-b9a5-bdfeae33abce"
      },
      "source": [
        "# Compute the correlation matrix\n",
        "corr = X_train.corr()\n",
        "\n",
        "# Generate a mask for the upper triangle\n",
        "mask = np.zeros_like(corr, dtype=np.bool)\n",
        "mask[np.triu_indices_from(mask)] = True\n",
        "\n",
        "# Set up the matplotlib figure\n",
        "f, ax = plt.subplots(figsize=(15,13))\n",
        "\n",
        "# Generate a custom diverging colormap\n",
        "cmap = sns.diverging_palette(250, 15, as_cmap=True)\n",
        "\n",
        "# Draw the heatmap with the mask and correct aspect ratio\n",
        "sns.heatmap(corr, mask=mask, cmap=cmap, vmax=.3, center=0,\n",
        "            square=True, linewidths=.5, cbar_kws={\"shrink\": .5},annot=True)"
      ],
      "execution_count": null,
      "outputs": [
        {
          "output_type": "execute_result",
          "data": {
            "text/plain": [
              "<matplotlib.axes._subplots.AxesSubplot at 0x1c36d005048>"
            ]
          },
          "metadata": {
            "tags": []
          },
          "execution_count": 18
        },
        {
          "output_type": "display_data",
          "data": {
            "image/png": "[encoded data removed]",
            "text/plain": [
              "<Figure size 1080x936 with 2 Axes>"
            ]
          },
          "metadata": {
            "tags": [],
            "needs_background": "light"
          }
        }
      ]
    },
    {
      "cell_type": "markdown",
      "metadata": {
        "id": "HwlkKTnn0hBx",
        "colab_type": "text"
      },
      "source": [
        "### Task 7 : We can see that the features `NumberOfTime60-89DaysPastDueNotWorse` is highly correlated along with the features `NumberOfTime30-59DaysPastDueNotWorse` and `NumberOfTimes90DaysLate`. So let's drop the features `NumberOfTime60-89DaysPastDueNotWorse` and `NumberOfTime30-59DaysPastDueNotWorse` from the train as well as the test data"
      ]
    },
    {
      "cell_type": "code",
      "metadata": {
        "id": "rG6O_y9Z0hB0",
        "colab_type": "code",
        "colab": {}
      },
      "source": [
        "X_train.drop(['NumberOfTime30-59DaysPastDueNotWorse','NumberOfTime60-89DaysPastDueNotWorse'],1,inplace=True)\n",
        "X_test.drop(['NumberOfTime30-59DaysPastDueNotWorse','NumberOfTime60-89DaysPastDueNotWorse'],1,inplace=True)"
      ],
      "execution_count": null,
      "outputs": []
    },
    {
      "cell_type": "markdown",
      "metadata": {
        "id": "pON_HYzG0hCE",
        "colab_type": "text"
      },
      "source": [
        "### Task 8 : Fit a vanilla Logistic Regression model on the training set and predict on the test set and plot the confusion matrix, accuracy, precision, recall and F1_score for the predicted model "
      ]
    },
    {
      "cell_type": "code",
      "metadata": {
        "id": "q9ulLEHE0hCH",
        "colab_type": "code",
        "colab": {},
        "outputId": "d4082e2e-ef80-48d0-af1f-149568b3e110"
      },
      "source": [
        "clf = LogisticRegression().fit(X_train, Y_train)\n",
        "\n",
        "Y_test_pred = clf.predict(X_test)\n",
        "\n",
        "print(\"Accuracy = \" , accuracy_score(Y_test, Y_test_pred))\n",
        "print(\"Precision = \" ,precision_score(Y_test, Y_test_pred))\n",
        "print(\"Recall = \" ,recall_score(Y_test, Y_test_pred))\n",
        "print(\"F1 Score = \" ,f1_score(Y_test, Y_test_pred))\n",
        "\n",
        "pd.crosstab(Y_test_pred, Y_test[target], rownames=['Predicted'], colnames=['Actual'])"
      ],
      "execution_count": null,
      "outputs": [
        {
          "output_type": "stream",
          "text": [
            "Accuracy =  0.9349\n",
            "Precision =  0.5283018867924528\n",
            "Recall =  0.014314928425357873\n",
            "F1 Score =  0.027874564459930314\n"
          ],
          "name": "stdout"
        },
        {
          "output_type": "execute_result",
          "data": {
            "text/html": [
              "<div>\n",
              "<style scoped>\n",
              "    .dataframe tbody tr th:only-of-type {\n",
              "        vertical-align: middle;\n",
              "    }\n",
              "\n",
              "    .dataframe tbody tr th {\n",
              "        vertical-align: top;\n",
              "    }\n",
              "\n",
              "    .dataframe thead th {\n",
              "        text-align: right;\n",
              "    }\n",
              "</style>\n",
              "<table border=\"1\" class=\"dataframe\">\n",
              "  <thead>\n",
              "    <tr style=\"text-align: right;\">\n",
              "      <th>Actual</th>\n",
              "      <th>0</th>\n",
              "      <th>1</th>\n",
              "    </tr>\n",
              "    <tr>\n",
              "      <th>Predicted</th>\n",
              "      <th></th>\n",
              "      <th></th>\n",
              "    </tr>\n",
              "  </thead>\n",
              "  <tbody>\n",
              "    <tr>\n",
              "      <th>0</th>\n",
              "      <td>28019</td>\n",
              "      <td>1928</td>\n",
              "    </tr>\n",
              "    <tr>\n",
              "      <th>1</th>\n",
              "      <td>25</td>\n",
              "      <td>28</td>\n",
              "    </tr>\n",
              "  </tbody>\n",
              "</table>\n",
              "</div>"
            ],
            "text/plain": [
              "Actual         0     1\n",
              "Predicted             \n",
              "0          28019  1928\n",
              "1             25    28"
            ]
          },
          "metadata": {
            "tags": []
          },
          "execution_count": 20
        }
      ]
    },
    {
      "cell_type": "markdown",
      "metadata": {
        "id": "e6nTUaFG0hCU",
        "colab_type": "text"
      },
      "source": [
        "### The recall is low and this is because from the matrix above, we can see that the False Negatives are too many in the data. This was supposed to happen because since the target is highly imbalanced with lesser number of 1s, our model has learnt to predict only 0s most of the times. But as per our problem, we are more concerned with the occurence of a delinquency i.e with the prediction of 1s and not 0s. Hence we have to treat this class imbalance first"
      ]
    },
    {
      "cell_type": "markdown",
      "metadata": {
        "id": "757DmE420hCX",
        "colab_type": "text"
      },
      "source": [
        "### Task 9 : Set the parameter `class_weight=balanced` inside Logistic Regression and check for the metrics calculated above and also the confusion matrix"
      ]
    },
    {
      "cell_type": "code",
      "metadata": {
        "id": "JhX2Se0Y0hCa",
        "colab_type": "code",
        "colab": {},
        "outputId": "48d75fec-c70d-4338-f877-3c0062a1f2a5"
      },
      "source": [
        "clf = LogisticRegression(class_weight='balanced').fit(X_train, Y_train)\n",
        "\n",
        "Y_test_pred_balanced = clf.predict(X_test)\n",
        "\n",
        "print(\"Accuracy = \" , accuracy_score(Y_test, Y_test_pred_balanced))\n",
        "print(\"Precision = \" ,precision_score(Y_test, Y_test_pred_balanced))\n",
        "print(\"Recall = \" ,recall_score(Y_test, Y_test_pred_balanced))\n",
        "print(\"F1 Score = \" ,f1_score(Y_test, Y_test_pred_balanced))\n",
        "\n",
        "pd.crosstab(Y_test_pred_balanced, Y_test[target], rownames=['Predicted'], colnames=['Actual'])\n"
      ],
      "execution_count": null,
      "outputs": [
        {
          "output_type": "stream",
          "text": [
            "Accuracy =  0.6890333333333334\n",
            "Precision =  0.1251652262328419\n",
            "Recall =  0.6293456032719836\n",
            "F1 Score =  0.208803324569587\n"
          ],
          "name": "stdout"
        },
        {
          "output_type": "execute_result",
          "data": {
            "text/html": [
              "<div>\n",
              "<style scoped>\n",
              "    .dataframe tbody tr th:only-of-type {\n",
              "        vertical-align: middle;\n",
              "    }\n",
              "\n",
              "    .dataframe tbody tr th {\n",
              "        vertical-align: top;\n",
              "    }\n",
              "\n",
              "    .dataframe thead th {\n",
              "        text-align: right;\n",
              "    }\n",
              "</style>\n",
              "<table border=\"1\" class=\"dataframe\">\n",
              "  <thead>\n",
              "    <tr style=\"text-align: right;\">\n",
              "      <th>Actual</th>\n",
              "      <th>0</th>\n",
              "      <th>1</th>\n",
              "    </tr>\n",
              "    <tr>\n",
              "      <th>Predicted</th>\n",
              "      <th></th>\n",
              "      <th></th>\n",
              "    </tr>\n",
              "  </thead>\n",
              "  <tbody>\n",
              "    <tr>\n",
              "      <th>0</th>\n",
              "      <td>19440</td>\n",
              "      <td>725</td>\n",
              "    </tr>\n",
              "    <tr>\n",
              "      <th>1</th>\n",
              "      <td>8604</td>\n",
              "      <td>1231</td>\n",
              "    </tr>\n",
              "  </tbody>\n",
              "</table>\n",
              "</div>"
            ],
            "text/plain": [
              "Actual         0     1\n",
              "Predicted             \n",
              "0          19440   725\n",
              "1           8604  1231"
            ]
          },
          "metadata": {
            "tags": []
          },
          "execution_count": 21
        }
      ]
    },
    {
      "cell_type": "markdown",
      "metadata": {
        "id": "m_-z-9gh0hCk",
        "colab_type": "text"
      },
      "source": [
        "### We can see that the recall has increased from ~1.4% to ~63% by setting the `class_weight`, since the False Negatives have also reduced, but the Precision seems to have reduced. This is a trade-off, we have to accept. "
      ]
    },
    {
      "cell_type": "markdown",
      "metadata": {
        "id": "dyI7Eh8E0hCm",
        "colab_type": "text"
      },
      "source": [
        "### By setting the class weights we got a decent recall score. But this may not be the case all the times. In such cases, will have to use other resampling methods like \n",
        "- Random Oversampling\n",
        "- Random Undersampling\n",
        "- Tomek Undersampling\n",
        "- SMOTE "
      ]
    },
    {
      "cell_type": "markdown",
      "metadata": {
        "id": "6pVhyNIr0hCn",
        "colab_type": "text"
      },
      "source": [
        "### NOTE : All types of Undersampling and Oversampling techniques are always performed on the train data and not on the test data"
      ]
    },
    {
      "cell_type": "markdown",
      "metadata": {
        "id": "cOEKB6Ey0hCo",
        "colab_type": "text"
      },
      "source": [
        "### Task 10 : Perform Random Undersampling on the train data and then fit a Logistic regression model on this undersampled data and then predict on the test data and calculate the precision, recall, accuracy, f1-score and the confusion matrix."
      ]
    },
    {
      "cell_type": "code",
      "metadata": {
        "id": "gL0CdNf80hCq",
        "colab_type": "code",
        "colab": {},
        "outputId": "efedbfac-2e8f-4c4d-fd92-35d53b631460"
      },
      "source": [
        "from imblearn.under_sampling import RandomUnderSampler\n",
        "#Code starts here\n",
        "\n",
        "# Create random under sampler object\n",
        "rus = RandomUnderSampler(random_state=0)\n",
        "\n",
        "#Undersampling the train data\n",
        "X_sample_1, y_sample_1 =  rus.fit_sample(X_train, Y_train)\n",
        "\n",
        "\n",
        "#Initiating a logistic regression model\n",
        "model_rus = LogisticRegression()\n",
        "\n",
        "#Fitting the model with sampled data\n",
        "model_rus.fit(X_sample_1, y_sample_1)\n",
        "\n",
        "#Making prediction of test values\n",
        "Y_pred=model_rus.predict(X_test)\n",
        "\n",
        "# Calculating the necessary metrics\n",
        "print(\"Accuracy = \" , accuracy_score(Y_test, Y_pred))\n",
        "print(\"Precision = \" ,precision_score(Y_test, Y_pred))\n",
        "print(\"Recall = \" ,recall_score(Y_test, Y_pred))\n",
        "print(\"F1 Score = \" ,f1_score(Y_test, Y_pred))\n",
        "\n",
        "#Finding the confusion matrix\n",
        "pd.crosstab(Y_pred, Y_test[target], rownames=['Predicted'], colnames=['Actual'])\n",
        "\n",
        "#Code ends here"
      ],
      "execution_count": null,
      "outputs": [
        {
          "output_type": "stream",
          "text": [
            "Accuracy =  0.6792666666666667\n",
            "Precision =  0.12310717797443461\n",
            "Recall =  0.6400817995910021\n",
            "F1 Score =  0.20649843311891805\n"
          ],
          "name": "stdout"
        },
        {
          "output_type": "execute_result",
          "data": {
            "text/html": [
              "<div>\n",
              "<style scoped>\n",
              "    .dataframe tbody tr th:only-of-type {\n",
              "        vertical-align: middle;\n",
              "    }\n",
              "\n",
              "    .dataframe tbody tr th {\n",
              "        vertical-align: top;\n",
              "    }\n",
              "\n",
              "    .dataframe thead th {\n",
              "        text-align: right;\n",
              "    }\n",
              "</style>\n",
              "<table border=\"1\" class=\"dataframe\">\n",
              "  <thead>\n",
              "    <tr style=\"text-align: right;\">\n",
              "      <th>Actual</th>\n",
              "      <th>0</th>\n",
              "      <th>1</th>\n",
              "    </tr>\n",
              "    <tr>\n",
              "      <th>Predicted</th>\n",
              "      <th></th>\n",
              "      <th></th>\n",
              "    </tr>\n",
              "  </thead>\n",
              "  <tbody>\n",
              "    <tr>\n",
              "      <th>0</th>\n",
              "      <td>19126</td>\n",
              "      <td>704</td>\n",
              "    </tr>\n",
              "    <tr>\n",
              "      <th>1</th>\n",
              "      <td>8918</td>\n",
              "      <td>1252</td>\n",
              "    </tr>\n",
              "  </tbody>\n",
              "</table>\n",
              "</div>"
            ],
            "text/plain": [
              "Actual         0     1\n",
              "Predicted             \n",
              "0          19126   704\n",
              "1           8918  1252"
            ]
          },
          "metadata": {
            "tags": []
          },
          "execution_count": 22
        }
      ]
    },
    {
      "cell_type": "markdown",
      "metadata": {
        "id": "ILIPFF2S0hC2",
        "colab_type": "text"
      },
      "source": [
        "### So Random Undersampling gives a slightly better recall than just setting class_weights as balanced. Let's now see how another undersampling method called Tomek Undersampling performs "
      ]
    },
    {
      "cell_type": "markdown",
      "metadata": {
        "id": "nL2ApT6z0hC4",
        "colab_type": "text"
      },
      "source": [
        "\n",
        "\n",
        "```\n",
        "# This is formatted as code\n",
        "```\n",
        "\n",
        "### Task 11 : Perform Tomek Undersampling on the train data and then fit a Logistic regression model on this undersampled data and then predict on the test data and calculate the precision, recall, accuracy, f1-score and the confusion matrix."
      ]
    },
    {
      "cell_type": "code",
      "metadata": {
        "id": "gt3_4n5y0hC8",
        "colab_type": "code",
        "colab": {},
        "outputId": "f348d59c-d6ba-427d-95c7-48a37e2d4dff"
      },
      "source": [
        "\n",
        "# Import package\n",
        "from imblearn.under_sampling import TomekLinks\n",
        "\n",
        "#Code starts here\n",
        "\n",
        "#Initialising Tomek Links object\n",
        "tl = TomekLinks()\n",
        "\n",
        "#Undersamlpling the train data\n",
        "X_sample4, y_sample4 = tl.fit_sample(X_train, Y_train)\n",
        "\n",
        "# Plot the distribution of the target using a countplot\n",
        "sns.countplot(y_sample4)\n",
        "\n",
        "#Initialising the logistic regression model\n",
        "model_tl = LogisticRegression()\n",
        "\n",
        "#Fitting the model with sampled data\n",
        "model_tl.fit(X_sample4, y_sample4)\n",
        "\n",
        "#Making the predictions with test data\n",
        "Y_pred_tomek=model_tl.predict(X_test)\n",
        "\n",
        "# Calculating the necessary metrics\n",
        "print(\"Accuracy = \" , accuracy_score(Y_test, Y_pred_tomek))\n",
        "print(\"Precision = \" ,precision_score(Y_test, Y_pred_tomek))\n",
        "print(\"Recall = \" ,recall_score(Y_test, Y_pred_tomek))\n",
        "print(\"F1 Score = \" ,f1_score(Y_test, Y_pred_tomek))\n",
        "\n",
        "#Finding the confusion matrix\n",
        "pd.crosstab(Y_pred_tomek,Y_test[target],rownames=['Predicted'], colnames=['Actual'])\n",
        "\n",
        "#Code ends here"
      ],
      "execution_count": null,
      "outputs": [
        {
          "output_type": "stream",
          "text": [
            "Accuracy =  0.9349\n",
            "Precision =  0.5283018867924528\n",
            "Recall =  0.014314928425357873\n",
            "F1 Score =  0.027874564459930314\n"
          ],
          "name": "stdout"
        },
        {
          "output_type": "execute_result",
          "data": {
            "text/html": [
              "<div>\n",
              "<style scoped>\n",
              "    .dataframe tbody tr th:only-of-type {\n",
              "        vertical-align: middle;\n",
              "    }\n",
              "\n",
              "    .dataframe tbody tr th {\n",
              "        vertical-align: top;\n",
              "    }\n",
              "\n",
              "    .dataframe thead th {\n",
              "        text-align: right;\n",
              "    }\n",
              "</style>\n",
              "<table border=\"1\" class=\"dataframe\">\n",
              "  <thead>\n",
              "    <tr style=\"text-align: right;\">\n",
              "      <th>Actual</th>\n",
              "      <th>0</th>\n",
              "      <th>1</th>\n",
              "    </tr>\n",
              "    <tr>\n",
              "      <th>Predicted</th>\n",
              "      <th></th>\n",
              "      <th></th>\n",
              "    </tr>\n",
              "  </thead>\n",
              "  <tbody>\n",
              "    <tr>\n",
              "      <th>0</th>\n",
              "      <td>28019</td>\n",
              "      <td>1928</td>\n",
              "    </tr>\n",
              "    <tr>\n",
              "      <th>1</th>\n",
              "      <td>25</td>\n",
              "      <td>28</td>\n",
              "    </tr>\n",
              "  </tbody>\n",
              "</table>\n",
              "</div>"
            ],
            "text/plain": [
              "Actual         0     1\n",
              "Predicted             \n",
              "0          28019  1928\n",
              "1             25    28"
            ]
          },
          "metadata": {
            "tags": []
          },
          "execution_count": 23
        },
        {
          "output_type": "display_data",
          "data": {
            "image/png": "[encoded data removed]",
            "text/plain": [
              "<Figure size 432x288 with 1 Axes>"
            ]
          },
          "metadata": {
            "tags": [],
            "needs_background": "light"
          }
        }
      ]
    },
    {
      "cell_type": "markdown",
      "metadata": {
        "id": "fnP9PB900hDH",
        "colab_type": "text"
      },
      "source": [
        "### Tomek Undersampling doesn't seem a good fit for data. There is hardly any increase in recall compared to the vanilla model. Undersampling techniques, even if they provide an increase in the metric of choice, are not favoured since you tend to lose some information when you undersample the majority class of the target. Hence in most cases, what we prefer to perform are Oversampling techniques like Random Oversampling and SMOTE."
      ]
    },
    {
      "cell_type": "markdown",
      "metadata": {
        "id": "EQiwnIiq0hDJ",
        "colab_type": "text"
      },
      "source": [
        "### Task 12 : Perform Random Oversampling on the train data and then fit a Logistic regression model on this undersampled data and then predict on the test data and calculate the precision, recall, accuracy, f1-score and the confusion matrix."
      ]
    },
    {
      "cell_type": "code",
      "metadata": {
        "id": "0hDkhfrV0hDP",
        "colab_type": "code",
        "colab": {},
        "outputId": "0b371997-0fa7-44f3-a215-e1209388d0d4"
      },
      "source": [
        "from imblearn.over_sampling import RandomOverSampler\n",
        "\n",
        "#Code starts here\n",
        "\n",
        "#Initialise the random over sampler object\n",
        "ros = RandomOverSampler(random_state=0)\n",
        "\n",
        "#Sample the train data using random over sampling method\n",
        "X_sample_2, y_sample_2 = ros.fit_sample(X_train, Y_train)\n",
        "\n",
        "# Using a countplot \n",
        "sns.countplot(y_sample_2)\n",
        "\n",
        "#Initialising a logsitic regression model\n",
        "model_ros = LogisticRegression()\n",
        "\n",
        "#Fitting the model with train data\n",
        "model_ros.fit(X_sample_2, y_sample_2)\n",
        "\n",
        "#Making predictions of the train data\n",
        "Y_pred=model_ros.predict(X_test)\n",
        "\n",
        "# Calculating the necessary metrics\n",
        "print(\"Accuracy = \" , accuracy_score(Y_test, Y_pred))\n",
        "print(\"Precision = \" ,precision_score(Y_test, Y_pred))\n",
        "print(\"Recall = \" ,recall_score(Y_test, Y_pred))\n",
        "print(\"F1 Score = \" ,f1_score(Y_test, Y_pred))\n",
        "\n",
        "#Finding the confusion matrix \n",
        "pd.crosstab(Y_pred, Y_test[target], rownames=['Predicted'], colnames=['Actual'])\n",
        "\n",
        "#Code ends here"
      ],
      "execution_count": null,
      "outputs": [
        {
          "output_type": "stream",
          "text": [
            "Accuracy =  0.7127333333333333\n",
            "Precision =  0.1326643140714601\n",
            "Recall =  0.6150306748466258\n",
            "F1 Score =  0.2182510885341074\n"
          ],
          "name": "stdout"
        },
        {
          "output_type": "execute_result",
          "data": {
            "text/html": [
              "<div>\n",
              "<style scoped>\n",
              "    .dataframe tbody tr th:only-of-type {\n",
              "        vertical-align: middle;\n",
              "    }\n",
              "\n",
              "    .dataframe tbody tr th {\n",
              "        vertical-align: top;\n",
              "    }\n",
              "\n",
              "    .dataframe thead th {\n",
              "        text-align: right;\n",
              "    }\n",
              "</style>\n",
              "<table border=\"1\" class=\"dataframe\">\n",
              "  <thead>\n",
              "    <tr style=\"text-align: right;\">\n",
              "      <th>Actual</th>\n",
              "      <th>0</th>\n",
              "      <th>1</th>\n",
              "    </tr>\n",
              "    <tr>\n",
              "      <th>Predicted</th>\n",
              "      <th></th>\n",
              "      <th></th>\n",
              "    </tr>\n",
              "  </thead>\n",
              "  <tbody>\n",
              "    <tr>\n",
              "      <th>0</th>\n",
              "      <td>20179</td>\n",
              "      <td>753</td>\n",
              "    </tr>\n",
              "    <tr>\n",
              "      <th>1</th>\n",
              "      <td>7865</td>\n",
              "      <td>1203</td>\n",
              "    </tr>\n",
              "  </tbody>\n",
              "</table>\n",
              "</div>"
            ],
            "text/plain": [
              "Actual         0     1\n",
              "Predicted             \n",
              "0          20179   753\n",
              "1           7865  1203"
            ]
          },
          "metadata": {
            "tags": []
          },
          "execution_count": 24
        },
        {
          "output_type": "display_data",
          "data": {
            "image/png": "[encoded data removed]",
            "text/plain": [
              "<Figure size 432x288 with 1 Axes>"
            ]
          },
          "metadata": {
            "tags": [],
            "needs_background": "light"
          }
        }
      ]
    },
    {
      "cell_type": "markdown",
      "metadata": {
        "id": "aO5_r5JP0hDb",
        "colab_type": "text"
      },
      "source": [
        "### So as you can observe from the above plot, oversampling has brought an equal balance in the distribution of classes in the target variable. Also the recall is much better compared to the vanilla model and Tomek undersampling"
      ]
    },
    {
      "cell_type": "markdown",
      "metadata": {
        "id": "5Yrw3py30hDd",
        "colab_type": "text"
      },
      "source": [
        "### Task 13 : Perform SMOTE on the train data and then fit a Logistic regression model on this undersampled data and then predict on the test data and calculate the precision, recall, accuracy, f1-score and the confusion matrix."
      ]
    },
    {
      "cell_type": "code",
      "metadata": {
        "id": "5YkxNPMT0hDf",
        "colab_type": "code",
        "colab": {},
        "outputId": "625d2123-2605-4ca9-fbf5-74bcb2ef42cd"
      },
      "source": [
        "# Import package\n",
        "from imblearn.over_sampling import SMOTE\n",
        "\n",
        "\n",
        "#Code starts here\n",
        "\n",
        "#Initialising a SMOTE object\n",
        "smote = SMOTE(random_state=12,ratio=1.0)\n",
        "\n",
        "#Sampling the data using SMOTE\n",
        "X_sample_3, y_sample_3 = smote.fit_sample(X_train, Y_train)\n",
        "\n",
        "# Using a countplot plot the distribution of y_sample_3\n",
        "sns.countplot(y_sample_3)\n",
        "\n",
        "#Initialising Logistic Regression model\n",
        "model_smote = LogisticRegression()\n",
        "\n",
        "#Fitting the model on train data\n",
        "model_smote.fit(X_sample_3, y_sample_3)\n",
        "\n",
        "#Making predictions on test data\n",
        "Y_pred=model_smote.predict(X_test)\n",
        "\n",
        "#Finding the accuracy score \n",
        "accuracy_smote=model_smote.score(X_test,Y_test)\n",
        "print(\"Accuracy:\",accuracy_smote)       \n",
        "\n",
        "\n",
        "#Finding the recall score\n",
        "recall_smote=recall_score(Y_test, Y_pred)\n",
        "print (\"recall:\",recall_smote)\n",
        "\n",
        "#Finding the precision score\n",
        "precision_smote=precision_score(Y_test, Y_pred)\n",
        "print (\"precision:\",precision_smote)\n",
        "\n",
        "#Finding the f1 score\n",
        "f1_smote=f1_score(Y_test, Y_pred)\n",
        "print (\"f1_score:\", f1_smote)\n",
        "\n",
        "#Finding the confusion matrix\n",
        "pd.crosstab(Y_pred,Y_test[target], rownames=['Predicted'], colnames=['Actual'])\n",
        "#Code ends here"
      ],
      "execution_count": null,
      "outputs": [
        {
          "output_type": "stream",
          "text": [
            "Accuracy: 0.7099666666666666\n",
            "recall: 0.6114519427402862\n",
            "precision: 0.13089635547772793\n",
            "f1_score: 0.21563147931127738\n"
          ],
          "name": "stdout"
        },
        {
          "output_type": "execute_result",
          "data": {
            "text/html": [
              "<div>\n",
              "<style scoped>\n",
              "    .dataframe tbody tr th:only-of-type {\n",
              "        vertical-align: middle;\n",
              "    }\n",
              "\n",
              "    .dataframe tbody tr th {\n",
              "        vertical-align: top;\n",
              "    }\n",
              "\n",
              "    .dataframe thead th {\n",
              "        text-align: right;\n",
              "    }\n",
              "</style>\n",
              "<table border=\"1\" class=\"dataframe\">\n",
              "  <thead>\n",
              "    <tr style=\"text-align: right;\">\n",
              "      <th>Actual</th>\n",
              "      <th>0</th>\n",
              "      <th>1</th>\n",
              "    </tr>\n",
              "    <tr>\n",
              "      <th>Predicted</th>\n",
              "      <th></th>\n",
              "      <th></th>\n",
              "    </tr>\n",
              "  </thead>\n",
              "  <tbody>\n",
              "    <tr>\n",
              "      <th>0</th>\n",
              "      <td>20103</td>\n",
              "      <td>760</td>\n",
              "    </tr>\n",
              "    <tr>\n",
              "      <th>1</th>\n",
              "      <td>7941</td>\n",
              "      <td>1196</td>\n",
              "    </tr>\n",
              "  </tbody>\n",
              "</table>\n",
              "</div>"
            ],
            "text/plain": [
              "Actual         0     1\n",
              "Predicted             \n",
              "0          20103   760\n",
              "1           7941  1196"
            ]
          },
          "metadata": {
            "tags": []
          },
          "execution_count": 25
        },
        {
          "output_type": "display_data",
          "data": {
            "image/png": "[encoded data removed]",
            "text/plain": [
              "<Figure size 432x288 with 1 Axes>"
            ]
          },
          "metadata": {
            "tags": [],
            "needs_background": "light"
          }
        }
      ]
    },
    {
      "cell_type": "markdown",
      "metadata": {
        "id": "i_5o0zxm0hDq",
        "colab_type": "text"
      },
      "source": [
        "### SMOTE performs on par with Random Oversampling giving almost the same recall ! "
      ]
    }
  ]
}